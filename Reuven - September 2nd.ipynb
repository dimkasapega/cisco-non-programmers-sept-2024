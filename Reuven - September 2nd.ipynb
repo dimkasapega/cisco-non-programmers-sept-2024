{
 "cells": [
  {
   "cell_type": "code",
   "execution_count": 1,
   "id": "7a4b89c6",
   "metadata": {},
   "outputs": [
    {
     "name": "stdout",
     "output_type": "stream",
     "text": [
      "Hello out there!\n"
     ]
    }
   ],
   "source": [
    "print('Hello out there!')   # press shift+ENTER together executes the cell"
   ]
  },
  {
   "cell_type": "code",
   "execution_count": 2,
   "id": "c6dfe41f",
   "metadata": {},
   "outputs": [
    {
     "name": "stdout",
     "output_type": "stream",
     "text": [
      "8\n"
     ]
    }
   ],
   "source": [
    "print(5 + 3)"
   ]
  },
  {
   "cell_type": "markdown",
   "id": "b3fba56c",
   "metadata": {},
   "source": [
    "# Agenda\n",
    "\n",
    "1. What is a programming language? What is Python?\n",
    "2. Fundamentals of programming (1/2 of today)\n",
    "    - Values\n",
    "    - Printing on the screen\n",
    "    - Variables\n",
    "    - Operators\n",
    "    - Getting input from the user\n",
    "    - Conditions and equality\n",
    "    - Making decisions with `if`/`else`\n",
    "3. Numbers (Monday)\n",
    "    - integers\n",
    "    - floats\n",
    "4. Strings (text), Monday\n",
    "    - Creating strings (many different ways!)\n",
    "    - Retrieving from strings\n",
    "    - Immutability\n",
    "    - Methods (and methods vs. functions)\n",
    "    - Converting from numbers to text, and back\n",
    "5. Loops (Tuesday)\n",
    "    - `for` and `while`\n",
    "    - Looping a number of times\n",
    "    - Indexes (or the lack thereof)\n",
    "    - Controlling our loops with `break` and `continue`\n",
    "6. Lists (Tuesday)\n",
    "    - Creating them\n",
    "    - Retrieving from them\n",
    "    - How are lists similar to strings? How are they different?\n",
    "    - List methods\n",
    "7. Converting from strings to lists, and back (Tuesday)\n",
    "    - `str.split` method that takes a string and returns a list\n",
    "    - `str.join` method that takes a list and returns a string\n",
    "8. Tuples (Tuesday)\n",
    "    - How they're similar to and different from strings and lists\n",
    "    - Converting from them to/from strings and lists\n",
    "    - Creating and retrieving from tuples\n",
    "    - Why do we care about them?\n",
    "    - Tuple unpacking\n",
    "9. Dictionaries (Wednesday)\n",
    "    - Creating them\n",
    "    - Using them (3 paradigms) \n",
    "    - Looping over them\n",
    "    - Modifying them \n",
    "    - How do dicts work behind the scenes?\n",
    "10. Files (Wednesday)\n",
    "    - Reading from text files\n",
    "    - Writing (a little) to text files\n",
    "    - Looping and text files\n",
    "11. Get Python + PyCharm to work on your own computer (Wednesday)\n",
    "12. Functions (Thursday)\n",
    "    - Defining functions\n",
    "    - Passing arguments to functions\n",
    "    - Return values\n",
    "    - Local vs. global variables\n",
    "13. Modules and packages (Thursday)\n",
    "    - What are modules?\n",
    "    - Using modules with `import`\n",
    "    - The Python standard library (i.e., modules that come with Python)\n",
    "    - PyPI (i.e., modules that we can get from the Internet)\n",
    "    - Downloading modules with `pip` for use in our own programs\n"
   ]
  },
  {
   "cell_type": "markdown",
   "id": "0c6e9574",
   "metadata": {},
   "source": [
    "# Quick intro to Jupyter\n",
    "\n",
    "Jupyter gives us the sense/illusion that we are writing Python in our browsers. In reality, it's running on a server.\n",
    "\n",
    "When we type into Jupyter, we're typing into a *cell*. Actually, there are two different modes in Jupyter, and the current mode determines what happens when we type:\n",
    "\n",
    "- In edit mode, typing puts text into the cell. (Like right now!) To get into edit mode, click in the cell or press ENTER. (Green outline, and to the left.)\n",
    "- In command mode, typing sends commands (usually one-letter commands) to Jupyter, and controls the environment. To get into command mode, click to the left of the cell or press ESC.\n",
    "\n",
    "What commands can we use in Jupyter's command mode?\n",
    "\n",
    "- `c` -- copy the current cell\n",
    "- `x` -- cut the current cell\n",
    "- `v` -- paste the current cell\n",
    "- `a` -- create a new, empty cell *above* the current one\n",
    "- `b` -- create a new, empty cell *below* the current one\n",
    "- `m` -- make the cell a *Markdown* documentation cell\n",
    "- `y` -- make the cell a *Python* coding cell\n",
    "\n",
    "Shift+ENTER executes the cell. If it's code, the code will run. If it's documentation, it'll get formatted."
   ]
  },
  {
   "cell_type": "markdown",
   "id": "d05c4c43",
   "metadata": {},
   "source": [
    "# What is a programming language?\n",
    "\n",
    "When computers were invented, each machine could solve one problem.  Pretty soon, they invented a general-purpose computer that could be programmed. You could write the 1s and 0s yourself, but that is tedious and error prone.\n",
    "\n",
    "Soon after that, they invented programming languages. There are hundreds of thousands of different programming languages, each with its own advantges and disadvantages.\n",
    "\n",
    "- Assembly language\n",
    "- C, C++\n",
    "- Pascal, Lisp\n",
    "- Python (and Perl, Ruby, PHP, JavaScript)\n",
    "- Java and C#\n",
    "\n",
    "Python is:\n",
    "- Not very fast at executing\n",
    "- Very consistent\n",
    "- Very clean\n",
    "- Very easy to read/write/debug\n",
    "- Open source, with a huge community and lots of support and add-ons\n",
    "\n",
    "Python is used today:\n",
    "- The #1 language for data science and analytics and machine learning\n",
    "- Web development\n",
    "- Automated testing\n",
    "- Devops and server automation\n",
    "- APIs (serving and consuming)\n",
    "- Natural language processing\n",
    "- Education"
   ]
  },
  {
   "cell_type": "markdown",
   "id": "01de700b",
   "metadata": {},
   "source": [
    "# Our Jupyter server\n",
    "\n",
    "I've set up a server at https://python.lerner.co.il, where you can create your own Jupyter notebooks.\n",
    "\n",
    "1. Go there, and create a new Python 3 notebook (\"new\" menu on the right)\n",
    "2. Click on the title to change it to be your name + the date\n",
    "3. Inside of a cell, try to use the `print` function with some text (inside of quotes) to say \"hello\"\n",
    "\n",
    "```python\n",
    "print('hello')\n",
    "```"
   ]
  },
  {
   "cell_type": "markdown",
   "id": "4b50f8de",
   "metadata": {},
   "source": [
    "# Printing text and numbers"
   ]
  },
  {
   "cell_type": "code",
   "execution_count": 3,
   "id": "4933e07c",
   "metadata": {},
   "outputs": [
    {
     "name": "stdout",
     "output_type": "stream",
     "text": [
      "Hello, out there!\n"
     ]
    }
   ],
   "source": [
    "# I can use \"print\" to display things\n",
    "# These are comments, completely ignored by Python\n",
    "# they start with #, and go to the end of the line\n",
    "\n",
    "# \"print\" is a function, a *verb* in Python\n",
    "# we execute it by having () after the word \"print\"\n",
    "# inside of the parentheses, we can have any Python value\n",
    "\n",
    "print('Hello, out there!')"
   ]
  },
  {
   "cell_type": "code",
   "execution_count": 4,
   "id": "7d9bc620",
   "metadata": {},
   "outputs": [
    {
     "name": "stdout",
     "output_type": "stream",
     "text": [
      "5\n"
     ]
    }
   ],
   "source": [
    "print(5)"
   ]
  },
  {
   "cell_type": "code",
   "execution_count": 5,
   "id": "9622a5d4",
   "metadata": {},
   "outputs": [
    {
     "name": "stdout",
     "output_type": "stream",
     "text": [
      "7\n"
     ]
    }
   ],
   "source": [
    "print(5 + 2)   # first, Python executes 5+2, gets 7, then print is invoked with 7 as an argument"
   ]
  },
  {
   "cell_type": "code",
   "execution_count": 6,
   "id": "1df70d88",
   "metadata": {},
   "outputs": [
    {
     "name": "stdout",
     "output_type": "stream",
     "text": [
      "hello, world\n"
     ]
    }
   ],
   "source": [
    "print('hello, ' + 'world')  # + works between two text strings, too!"
   ]
  },
  {
   "cell_type": "code",
   "execution_count": 7,
   "id": "487f22e7",
   "metadata": {},
   "outputs": [
    {
     "name": "stdout",
     "output_type": "stream",
     "text": [
      "hello,world\n"
     ]
    }
   ],
   "source": [
    "# what if I don't put a space at the end of the first string?\n",
    "print('hello,' + 'world')  # + works between two text strings, too!"
   ]
  },
  {
   "cell_type": "code",
   "execution_count": 8,
   "id": "279ba072",
   "metadata": {},
   "outputs": [
    {
     "name": "stdout",
     "output_type": "stream",
     "text": [
      "52\n"
     ]
    }
   ],
   "source": [
    "# what happens if I add things together a bit differently?\n",
    "print('5' + '2')"
   ]
  },
  {
   "cell_type": "code",
   "execution_count": 9,
   "id": "4adae7c9",
   "metadata": {},
   "outputs": [
    {
     "ename": "TypeError",
     "evalue": "can only concatenate str (not \"int\") to str",
     "output_type": "error",
     "traceback": [
      "\u001b[0;31m---------------------------------------------------------------------------\u001b[0m",
      "\u001b[0;31mTypeError\u001b[0m                                 Traceback (most recent call last)",
      "Cell \u001b[0;32mIn[9], line 2\u001b[0m\n\u001b[1;32m      1\u001b[0m \u001b[38;5;66;03m# what if I try to add together an integer and a text string?\u001b[39;00m\n\u001b[0;32m----> 2\u001b[0m \u001b[38;5;28mprint\u001b[39m(\u001b[38;5;124;43m'\u001b[39;49m\u001b[38;5;124;43mYour favorite number is \u001b[39;49m\u001b[38;5;124;43m'\u001b[39;49m\u001b[43m \u001b[49m\u001b[38;5;241;43m+\u001b[39;49m\u001b[43m \u001b[49m\u001b[38;5;241;43m5\u001b[39;49m)\n",
      "\u001b[0;31mTypeError\u001b[0m: can only concatenate str (not \"int\") to str"
     ]
    }
   ],
   "source": [
    "# what if I try to add together an integer and a text string?\n",
    "print('Your favorite number is ' + 5)"
   ]
  },
  {
   "cell_type": "markdown",
   "id": "17861c7f",
   "metadata": {},
   "source": [
    "# Variables and assignment\n",
    "\n",
    "We've now seen two types of values, integers (whole numbers) and text strings. But so far, every time we have wanted to refer to value, we've needed to specify it. It would be really nice if we could take a value and then refer to it each time, rather than define it each time.\n",
    "\n",
    "We use *variables* to store values in Python. Any variable in Python can refer to any value whatsoever. There is no such thing as a \"string variable\" or an \"integer variable\" or the like in Python. The first time you assign to a variable in Python, the variable is created. The second time, it's just assigned the new value.\n",
    "\n",
    "How do we assign? We use the `=` operator, which is **NOT THE SAME** as `=` in mathematics.  In Python, `=` means:\n",
    "\n",
    "- Take the value on the right side\n",
    "- Assign it to the variable on the left side\n",
    "- If the variable doesn't yet exist, create it"
   ]
  },
  {
   "cell_type": "code",
   "execution_count": 10,
   "id": "83db4e2d",
   "metadata": {},
   "outputs": [
    {
     "name": "stdout",
     "output_type": "stream",
     "text": [
      "Hello, Reuven\n"
     ]
    }
   ],
   "source": [
    "name = 'Reuven'\n",
    "\n",
    "print('Hello, ' + name)"
   ]
  },
  {
   "cell_type": "markdown",
   "id": "bad277da",
   "metadata": {},
   "source": [
    "# Quotes or no quotes?\n",
    "\n",
    "- Variables *NEVER* have quotes around their names.\n",
    "- String values *ALWAYS* have quotes around their names.\n",
    "\n",
    "Python doesn't care if you use `\"\"` or `''`. You just need to use the same kind at the start and end of each text string."
   ]
  },
  {
   "cell_type": "code",
   "execution_count": 11,
   "id": "ea40d881",
   "metadata": {},
   "outputs": [
    {
     "name": "stdout",
     "output_type": "stream",
     "text": [
      "Reuven\n"
     ]
    }
   ],
   "source": [
    "print(name)   # this doesn't have quotes, so it's a variable, and we'll print the value of the variable \"name\""
   ]
  },
  {
   "cell_type": "code",
   "execution_count": 12,
   "id": "bbef73b1",
   "metadata": {},
   "outputs": [
    {
     "name": "stdout",
     "output_type": "stream",
     "text": [
      "name\n"
     ]
    }
   ],
   "source": [
    "print('name')  # this does have quotes, so it's a string, and we'll print the string 'name'"
   ]
  },
  {
   "cell_type": "markdown",
   "id": "eb5881ee",
   "metadata": {},
   "source": [
    "# Variable names\n",
    "\n",
    "What can you call variables in Python? You should use longish names that are descriptive. Remember that variable names will help you when you have to read and debug your code in another year or two.\n",
    "\n",
    "What is a valid variable name in Python?\n",
    "\n",
    "- Any combination of letters, numbers, and `_`, so long as you don't start with a digit\n",
    "- Don't start or end your variable names with `_`, since those have special connotations in Python.\n",
    "- Capital and lowercase letters are different, but it's considered standard to only use lowercase in variable names\n",
    "- Use long, descriptive names"
   ]
  },
  {
   "cell_type": "code",
   "execution_count": 13,
   "id": "7f4eb539",
   "metadata": {},
   "outputs": [
    {
     "name": "stdout",
     "output_type": "stream",
     "text": [
      "30\n"
     ]
    }
   ],
   "source": [
    "x = 10\n",
    "y = 20\n",
    "\n",
    "print(x+y)"
   ]
  },
  {
   "cell_type": "code",
   "execution_count": 14,
   "id": "eefc95be",
   "metadata": {},
   "outputs": [
    {
     "data": {
      "text/plain": [
       "30"
      ]
     },
     "execution_count": 14,
     "metadata": {},
     "output_type": "execute_result"
    }
   ],
   "source": [
    "# In Jupyter, and *only* in Jupyter, I can also do this:\n",
    "\n",
    "x+y  # if the final line of a cell returns a value, then Jupyter will show that value"
   ]
  },
  {
   "cell_type": "code",
   "execution_count": 15,
   "id": "cdaf7b38",
   "metadata": {},
   "outputs": [
    {
     "data": {
      "text/plain": [
       "str"
      ]
     },
     "execution_count": 15,
     "metadata": {},
     "output_type": "execute_result"
    }
   ],
   "source": [
    "x = 'abcd'\n",
    "type(x)  # this tells me what type of value in the variable x"
   ]
  },
  {
   "cell_type": "code",
   "execution_count": 16,
   "id": "d128e55a",
   "metadata": {},
   "outputs": [
    {
     "data": {
      "text/plain": [
       "int"
      ]
     },
     "execution_count": 16,
     "metadata": {},
     "output_type": "execute_result"
    }
   ],
   "source": [
    "x = 10\n",
    "type(x)"
   ]
  },
  {
   "cell_type": "markdown",
   "id": "7c275f57",
   "metadata": {},
   "source": [
    "# To use Markdown mode\n",
    "\n",
    "1. Go into a new, empty cell\n",
    "2. Change the type of the cell to Markdown -- most easily, by using `ESC` (enter command mode) and then `m` (to enter Markdown mode). You can also just use the menu at the top.\n",
    "3. You have to re-enter edit mode by clicking inside of the cell or pressing `ENTER`.\n",
    "4. You can type using Markdown.\n",
    "\n",
    "### A few Markdown things:\n",
    "\n",
    "- Headlines use `#` (largest headline) `##` (next largest headline), etc.\n",
    "- Bulleted lists with `-` at the start of the line, or indented for multi-level outlines\n",
    "- Numbered lists use numbers at the start of the line (or indented)\n",
    "- Literal code should be in backticks, using `"
   ]
  },
  {
   "cell_type": "code",
   "execution_count": 18,
   "id": "88a20c5d",
   "metadata": {},
   "outputs": [
    {
     "name": "stdout",
     "output_type": "stream",
     "text": [
      "30\n"
     ]
    }
   ],
   "source": [
    "x = 10  # here, I just press enter\n",
    "y = 20  # here, I just press enter\n",
    "\n",
    "print(x+y)  # here, I'll press shift+Enter, and thus execute the entire cell"
   ]
  },
  {
   "cell_type": "markdown",
   "id": "77690166",
   "metadata": {},
   "source": [
    "# Exercise: Greet yourself\n",
    "\n",
    "1. Assign the variable `name` to your name.\n",
    "2. Use `print` to display a nice greeting to yourself.\n",
    "\n",
    "To put a cell in markdown mode, use `ESC` and then `m`. Then you can type Markdown comments/text."
   ]
  },
  {
   "cell_type": "code",
   "execution_count": 20,
   "id": "212d72db",
   "metadata": {},
   "outputs": [
    {
     "name": "stdout",
     "output_type": "stream",
     "text": [
      "Hello, Reuven!\n"
     ]
    }
   ],
   "source": [
    "name = 'Reuven'\n",
    "print('Hello, ' + name + '!')"
   ]
  },
  {
   "cell_type": "markdown",
   "id": "4dc11f03",
   "metadata": {},
   "source": [
    "# Getting input from the user\n",
    "\n",
    "If we want to get input from the user, we can use another function, `input`. When the `input` function is run in our program, it stops the program and waits for the user to type something. Whatever the user types is the *return value* of the `input` function -- meaning, the value that it holds in Python.\n",
    "\n",
    "We call `input` with one argument, a string -- the text that will be displayed to the user, when we're asking them to enter something."
   ]
  },
  {
   "cell_type": "code",
   "execution_count": 21,
   "id": "ff21d8a9",
   "metadata": {},
   "outputs": [
    {
     "name": "stdout",
     "output_type": "stream",
     "text": [
      "Enter your name: Reuven\n"
     ]
    },
    {
     "data": {
      "text/plain": [
       "'Reuven'"
      ]
     },
     "execution_count": 21,
     "metadata": {},
     "output_type": "execute_result"
    }
   ],
   "source": [
    "input('Enter your name: ')"
   ]
  },
  {
   "cell_type": "code",
   "execution_count": 24,
   "id": "548b4719",
   "metadata": {},
   "outputs": [
    {
     "name": "stdout",
     "output_type": "stream",
     "text": [
      "Enter your name: someone you do not know\n"
     ]
    }
   ],
   "source": [
    "# normally, when we run input, it's on the right side of an assignment\n",
    "# the variable on the left side is assigned whatever text the user entered\n",
    "\n",
    "name = input('Enter your name: ')"
   ]
  },
  {
   "cell_type": "code",
   "execution_count": 25,
   "id": "dc7b8c9c",
   "metadata": {},
   "outputs": [
    {
     "name": "stdout",
     "output_type": "stream",
     "text": [
      "Hello, someone you do not know!\n"
     ]
    }
   ],
   "source": [
    "print('Hello, ' + name + '!')"
   ]
  },
  {
   "cell_type": "code",
   "execution_count": 26,
   "id": "89bdc0df",
   "metadata": {},
   "outputs": [
    {
     "name": "stdout",
     "output_type": "stream",
     "text": [
      "Enter a number: 10\n",
      "Enter a second number: 15\n",
      "1015\n"
     ]
    }
   ],
   "source": [
    "# input always returns a string!\n",
    "\n",
    "x = input('Enter a number: ')\n",
    "y = input('Enter a second number: ')\n",
    "print(x+y)"
   ]
  },
  {
   "cell_type": "markdown",
   "id": "b2dbb8b4",
   "metadata": {},
   "source": [
    "# Exercise: Multi-part greeting\n",
    "\n",
    "1. Ask the user to enter their name, and assign to `name`.\n",
    "2. Ask the user to enter their city, and assign to `city`.\n",
    "3. Print a nice greeting that includes both of these."
   ]
  },
  {
   "cell_type": "code",
   "execution_count": 27,
   "id": "646c395d",
   "metadata": {},
   "outputs": [
    {
     "name": "stdout",
     "output_type": "stream",
     "text": [
      "Enter your name: Reuven\n",
      "Enter your city: Modi'in\n",
      "Hello, Reuven from Modi'in.\n"
     ]
    }
   ],
   "source": [
    "name = input('Enter your name: ')\n",
    "city = input('Enter your city: ')\n",
    "print('Hello, ' + name + ' from ' + city + '.')"
   ]
  },
  {
   "cell_type": "markdown",
   "id": "fcd013c9",
   "metadata": {},
   "source": [
    "# f-strings\n",
    "\n",
    "It's common to want to create a string that contains both static text and variables. Right now, the only way to do that is if we use `+` between our strings. This won't work if we have non-string data, though.\n",
    "\n",
    "Enter the f-string (short for \"format string\" or \"fancy string\"). If you put `f` before the first quote and then inside of the string you have `{}`, you can put any variable or Python expression in those `{}`, even non-string data.\n",
    "\n",
    "f-strings can be used *anywhere* you need a string. It's just another way to create a string. You don't have to use an f-string along with `print`."
   ]
  },
  {
   "cell_type": "code",
   "execution_count": 28,
   "id": "5c12d72b",
   "metadata": {},
   "outputs": [
    {
     "name": "stdout",
     "output_type": "stream",
     "text": [
      "Hello, Reuven from Modi'in.\n"
     ]
    }
   ],
   "source": [
    "print(f'Hello, {name} from {city}.')"
   ]
  },
  {
   "cell_type": "code",
   "execution_count": 29,
   "id": "536fb6db",
   "metadata": {},
   "outputs": [
    {
     "name": "stdout",
     "output_type": "stream",
     "text": [
      "10 + 20 = 30\n"
     ]
    }
   ],
   "source": [
    "x = 10\n",
    "y = 20\n",
    "\n",
    "print(f'{x} + {y} = {x+y}')"
   ]
  },
  {
   "cell_type": "markdown",
   "id": "3adc06d2",
   "metadata": {},
   "source": [
    "# Comparing values\n",
    "\n",
    "We've seen that we can use `+` to add together two string or two numbers, and we get a new string or number back. But sometimes, we want to know if two values are the same. For that, we have *comparison* operators, the most important of which is `==`.\n",
    "\n",
    "### Don't mix these up!\n",
    "\n",
    "- `=` this is the assignment operator. It takes the value on the right, and assigns to the variable on the left.\n",
    "- `==` this is the equality operator. It looks to its left, and looks to its right, and returns either `True` or `False`, depending on whether they have the same value.\n",
    "\n",
    "`==` is asking a question. `=` is performing an action.\n",
    "\n"
   ]
  },
  {
   "cell_type": "code",
   "execution_count": 30,
   "id": "cb488368",
   "metadata": {},
   "outputs": [
    {
     "data": {
      "text/plain": [
       "True"
      ]
     },
     "execution_count": 30,
     "metadata": {},
     "output_type": "execute_result"
    }
   ],
   "source": [
    "10 == 10"
   ]
  },
  {
   "cell_type": "code",
   "execution_count": 31,
   "id": "d4116a02",
   "metadata": {},
   "outputs": [
    {
     "data": {
      "text/plain": [
       "False"
      ]
     },
     "execution_count": 31,
     "metadata": {},
     "output_type": "execute_result"
    }
   ],
   "source": [
    "10 == 20"
   ]
  },
  {
   "cell_type": "code",
   "execution_count": 32,
   "id": "f89ac355",
   "metadata": {},
   "outputs": [
    {
     "data": {
      "text/plain": [
       "False"
      ]
     },
     "execution_count": 32,
     "metadata": {},
     "output_type": "execute_result"
    }
   ],
   "source": [
    "10 == 5"
   ]
  },
  {
   "cell_type": "code",
   "execution_count": 33,
   "id": "29a4925d",
   "metadata": {},
   "outputs": [
    {
     "data": {
      "text/plain": [
       "False"
      ]
     },
     "execution_count": 33,
     "metadata": {},
     "output_type": "execute_result"
    }
   ],
   "source": [
    "10 == '10'"
   ]
  },
  {
   "cell_type": "code",
   "execution_count": 34,
   "id": "e0087ca2",
   "metadata": {},
   "outputs": [
    {
     "data": {
      "text/plain": [
       "True"
      ]
     },
     "execution_count": 34,
     "metadata": {},
     "output_type": "execute_result"
    }
   ],
   "source": [
    "'10' == '10'"
   ]
  },
  {
   "cell_type": "code",
   "execution_count": 35,
   "id": "8e2132ea",
   "metadata": {},
   "outputs": [
    {
     "data": {
      "text/plain": [
       "False"
      ]
     },
     "execution_count": 35,
     "metadata": {},
     "output_type": "execute_result"
    }
   ],
   "source": [
    "'10' == '10 '"
   ]
  },
  {
   "cell_type": "code",
   "execution_count": 36,
   "id": "2637003f",
   "metadata": {},
   "outputs": [
    {
     "data": {
      "text/plain": [
       "False"
      ]
     },
     "execution_count": 36,
     "metadata": {},
     "output_type": "execute_result"
    }
   ],
   "source": [
    "'x' == 'X'"
   ]
  },
  {
   "cell_type": "code",
   "execution_count": 37,
   "id": "9369d5e6",
   "metadata": {},
   "outputs": [
    {
     "data": {
      "text/plain": [
       "True"
      ]
     },
     "execution_count": 37,
     "metadata": {},
     "output_type": "execute_result"
    }
   ],
   "source": [
    "x = '10'\n",
    "y = '10'\n",
    "\n",
    "x == y"
   ]
  },
  {
   "cell_type": "markdown",
   "id": "d5b32ddd",
   "metadata": {},
   "source": [
    "# Comparison operators\n",
    "\n",
    "- `==` equality, returns `True` if the two values are the same, otherwise `False`\n",
    "- `!=` inequality, returns the reverse of `==`\n",
    "- `<` less than\n",
    "- `>` greater than\n",
    "- `<=` less than or equal\n",
    "- `>=` greater than or equal"
   ]
  },
  {
   "cell_type": "code",
   "execution_count": 38,
   "id": "f83731c1",
   "metadata": {},
   "outputs": [
    {
     "data": {
      "text/plain": [
       "True"
      ]
     },
     "execution_count": 38,
     "metadata": {},
     "output_type": "execute_result"
    }
   ],
   "source": [
    "# we can use < with numbers, of course\n",
    "\n",
    "10 < 20"
   ]
  },
  {
   "cell_type": "code",
   "execution_count": 39,
   "id": "d00efeb8",
   "metadata": {},
   "outputs": [
    {
     "data": {
      "text/plain": [
       "False"
      ]
     },
     "execution_count": 39,
     "metadata": {},
     "output_type": "execute_result"
    }
   ],
   "source": [
    "20 < 5"
   ]
  },
  {
   "cell_type": "code",
   "execution_count": 41,
   "id": "fd6407ea",
   "metadata": {},
   "outputs": [
    {
     "data": {
      "text/plain": [
       "True"
      ]
     },
     "execution_count": 41,
     "metadata": {},
     "output_type": "execute_result"
    }
   ],
   "source": [
    "# we can use them with strings, too -- in which case, the strings are compared alphabetically\n",
    "\n",
    "'alpha' < 'beta'"
   ]
  },
  {
   "cell_type": "code",
   "execution_count": 42,
   "id": "3be9da29",
   "metadata": {},
   "outputs": [
    {
     "data": {
      "text/plain": [
       "False"
      ]
     },
     "execution_count": 42,
     "metadata": {},
     "output_type": "execute_result"
    }
   ],
   "source": [
    "'bookstore' < 'book'"
   ]
  },
  {
   "cell_type": "code",
   "execution_count": 43,
   "id": "b9b61640",
   "metadata": {},
   "outputs": [
    {
     "data": {
      "text/plain": [
       "True"
      ]
     },
     "execution_count": 43,
     "metadata": {},
     "output_type": "execute_result"
    }
   ],
   "source": [
    "'back' < 'book'"
   ]
  },
  {
   "cell_type": "markdown",
   "id": "22763f9e",
   "metadata": {},
   "source": [
    "# Conditional execution\n",
    "\n",
    "So far, everything we have written has been executed. But programming depends on being able to make decisions, and only have code run under certain circumstances.\n",
    "\n",
    "We can do this with the `if` statement:\n",
    "- `if` looks to its right, and if it sees a `True` value, then the block following it is executed.\n",
    "- If the value to `if`'s right is `False`, then the `else` block is executed.\n",
    "\n",
    "One, and only one, of these blocks, can run -- not zero, and not two.\n",
    "\n",
    "# Blocks\n",
    "\n",
    "Python is built on \"blocks,\" sections of code that come after `if`, `else`, and many other commands.\n",
    "\n",
    "- A block is always preceded by a `:` at the end of the line\n",
    "- The block itself is indented, typically with 4 spaces -- and normally added automatically by whatever editor you're using        \n",
    "- Indentation is *MANDATORY* in Python, and is used instead of `{}` or `begin`/`end`.\n",
    "- Inside of a block, you can write *ANY* code you want."
   ]
  },
  {
   "cell_type": "code",
   "execution_count": 48,
   "id": "e798f9d1",
   "metadata": {},
   "outputs": [
    {
     "name": "stdout",
     "output_type": "stream",
     "text": [
      "Enter your name: asdfasfdsa\n",
      "Hello, asdfasfdsa. Who are you?\n"
     ]
    }
   ],
   "source": [
    "name = input('Enter your name: ')\n",
    "\n",
    "if name == 'Reuven':\n",
    "    print('Hello, boss!')\n",
    "    print('It is so great to see you again!')\n",
    "    print('A third line')\n",
    "    print('A fourth line')\n",
    "else:\n",
    "    print(f'Hello, {name}. Who are you?')"
   ]
  },
  {
   "cell_type": "markdown",
   "id": "90cd2f8d",
   "metadata": {},
   "source": [
    "# Next up\n",
    "\n",
    "1. More possibilities (with `elif`)\n",
    "2. More possibilities (with `and`, `or`, and `not`)\n",
    "3. Numbers (integers and floats)\n",
    "\n",
    "Resume at :45"
   ]
  },
  {
   "cell_type": "markdown",
   "id": "cc9e2865",
   "metadata": {},
   "source": [
    "# Exercise: Which word comes first?\n",
    "\n",
    "1. Ask the user to enter two words, and assign them to two different variables.\n",
    "    - Note: Both words should contain only lowercase letters\n",
    "    - Assume that the user has entered two different words\n",
    "2. Tell the user which word comes first alphabetically.\n",
    "\n",
    "Example:\n",
    "\n",
    "    Enter first word: egg\n",
    "    Enter second word: chicken\n",
    "    chicken comes before egg"
   ]
  },
  {
   "cell_type": "code",
   "execution_count": 51,
   "id": "0af682d1",
   "metadata": {},
   "outputs": [
    {
     "name": "stdout",
     "output_type": "stream",
     "text": [
      "Enter first word: ice cream\n",
      "Enter second word: ice\n",
      "ice comes before ice cream\n"
     ]
    }
   ],
   "source": [
    "first = input('Enter first word: ')\n",
    "second = input('Enter second word: ')\n",
    "\n",
    "if first < second:    # if first comes before second in the dictionary...\n",
    "    print(f'{first} comes before {second}')\n",
    "else:\n",
    "    print(f'{second} comes before {first}')"
   ]
  },
  {
   "cell_type": "markdown",
   "id": "7b2b8ebf",
   "metadata": {},
   "source": [
    "# More sophisticated comparisons\n",
    "\n",
    "1. We might want to compare more than two options. We can do that with the `elif` clause, which comes after `if` and before `else`. It can be repeated as many times as we want. `elif`, like `if`, takes a comparison. If its comparison is `True`, then its block is executed. The first block to have a `True` condition is executed; if none has `True` for its condition, then the `else` block executes. This allows us to check many different possibilities.\n",
    "2. If we want to check two different conditions, and only do something if *both* are `True` (or if one of the two is `True`), then we can combine them with the special words `and` and `or`."
   ]
  },
  {
   "cell_type": "code",
   "execution_count": 54,
   "id": "27a76d04",
   "metadata": {},
   "outputs": [
    {
     "name": "stdout",
     "output_type": "stream",
     "text": [
      "Enter your name: asdfsadfafafa\n",
      "Hello, asdfsadfafafa. Who are you?\n"
     ]
    }
   ],
   "source": [
    "name = input('Enter your name: ')\n",
    "\n",
    "if name == 'Reuven':\n",
    "    print('Hello, boss!')\n",
    "    print('It is so great to see you again!')\n",
    "elif name == 'someone else':\n",
    "    print('That is a very strange name...')\n",
    "else:\n",
    "    print(f'Hello, {name}. Who are you?')"
   ]
  },
  {
   "cell_type": "markdown",
   "id": "a8de99f5",
   "metadata": {},
   "source": [
    "# Exercise: Which word comes first? \n",
    "\n",
    "Repeat the last exercise, but take into account the possibility that the user will enter the same word twice. If they do that, print an appropriate response."
   ]
  },
  {
   "cell_type": "markdown",
   "id": "a85d17a1",
   "metadata": {},
   "source": [
    "Example:\n",
    "\n",
    "Enter first word: cow\n",
    "Enter second word: horse\n",
    "\n",
    "cow comes before horse\n",
    "\n",
    "\n",
    "Enter first word: horse\n",
    "Enter second word: horse\n",
    "\n",
    "horse is the same as horse"
   ]
  },
  {
   "cell_type": "code",
   "execution_count": 58,
   "id": "a9549616",
   "metadata": {},
   "outputs": [
    {
     "name": "stdout",
     "output_type": "stream",
     "text": [
      "Enter first word: zebra\n",
      "Enter second word: horse\n",
      "horse comes before zebra\n"
     ]
    }
   ],
   "source": [
    "first = input('Enter first word: ')\n",
    "second = input('Enter second word: ')\n",
    "\n",
    "if first < second:  \n",
    "    print(f'{first} comes before {second}')\n",
    "elif first == second:\n",
    "    print(f'{first} and {second} are the same!')\n",
    "else:  # implicitly, this is >\n",
    "    print(f'{second} comes before {first}')"
   ]
  },
  {
   "cell_type": "code",
   "execution_count": 59,
   "id": "7fe1f002",
   "metadata": {},
   "outputs": [
    {
     "name": "stdout",
     "output_type": "stream",
     "text": [
      "Enter first word: taxi\n",
      "Enter second word: \n",
      "You entered an empty string for second; try again\n"
     ]
    }
   ],
   "source": [
    "# if someone just presses enter when given \"input\", we get the empty string, aka ''\n",
    "\n",
    "first = input('Enter first word: ')\n",
    "second = input('Enter second word: ')\n",
    "\n",
    "if first == '':\n",
    "    print('You entered an empty string for first; try again')\n",
    "elif second == '':\n",
    "    print('You entered an empty string for second; try again')\n",
    "elif first < second:  \n",
    "    print(f'{first} comes before {second}')\n",
    "elif first == second:\n",
    "    print(f'{first} and {second} are the same!')\n",
    "else:  # implicitly, this is >\n",
    "    print(f'{second} comes before {first}')"
   ]
  },
  {
   "cell_type": "markdown",
   "id": "2ca91fad",
   "metadata": {},
   "source": [
    "# Combining conditions\n",
    "\n",
    "What if we want not to find if something is true, but if *two* things are true?"
   ]
  },
  {
   "cell_type": "code",
   "execution_count": 60,
   "id": "6b9644bf",
   "metadata": {},
   "outputs": [
    {
     "name": "stdout",
     "output_type": "stream",
     "text": [
      "Yes, both are what you want\n"
     ]
    }
   ],
   "source": [
    "x = 10\n",
    "y = 20\n",
    "\n",
    "# I want to print something only if x == 10 and y == 20\n",
    "# for that, we can use the `and` operator, which takes an expression on either side\n",
    "# if both of those expressions are True, then `and` returns True\n",
    "\n",
    "#    True      and     True  --> True\n",
    "if x == 10     and   y == 20:\n",
    "    print('Yes, both are what you want')"
   ]
  },
  {
   "cell_type": "code",
   "execution_count": 61,
   "id": "7ca78c7b",
   "metadata": {},
   "outputs": [],
   "source": [
    "x = 10\n",
    "y = 20\n",
    "\n",
    "#    False  and True --> False\n",
    "if x == 30 and y == 20:\n",
    "    print('Yes, both are what you want')"
   ]
  },
  {
   "cell_type": "code",
   "execution_count": 62,
   "id": "ce3197e8",
   "metadata": {},
   "outputs": [
    {
     "name": "stdout",
     "output_type": "stream",
     "text": [
      "At least one is what you want\n"
     ]
    }
   ],
   "source": [
    "# if you're OK with one of them being False, then you can use \"or\" instead\n",
    "# that returns True so long as one of its inputs is True\n",
    "\n",
    "if x == 30 or y == 20:\n",
    "    print('At least one is what you want')"
   ]
  },
  {
   "cell_type": "code",
   "execution_count": 64,
   "id": "8ccc026e",
   "metadata": {},
   "outputs": [
    {
     "name": "stdout",
     "output_type": "stream",
     "text": [
      "Yes, both are what you want\n"
     ]
    }
   ],
   "source": [
    "# if we use (), then we can pretend that it's all on one line\n",
    "\n",
    "if (x == 10 and\n",
    "    y == 20):\n",
    "    print('Yes, both are what you want')"
   ]
  },
  {
   "cell_type": "code",
   "execution_count": 66,
   "id": "26d94a9c",
   "metadata": {},
   "outputs": [
    {
     "name": "stdout",
     "output_type": "stream",
     "text": [
      "Enter first word: hello\n",
      "Enter second word: \n",
      "Your second string is empty\n"
     ]
    }
   ],
   "source": [
    "# we can use \"and\" or \"or\" to check for the empty string\n",
    "\n",
    "first = input('Enter first word: ')\n",
    "second = input('Enter second word: ')\n",
    "\n",
    "if first == '' or second == '':\n",
    "    if first == '':\n",
    "        print(f'Your first string is empty')\n",
    "    if second == '':\n",
    "        print(f'Your second string is empty')\n",
    "elif first < second:  \n",
    "    print(f'{first} comes before {second}')\n",
    "elif first == second:\n",
    "    print(f'{first} and {second} are the same!')\n",
    "else:  # implicitly, this is >\n",
    "    print(f'{second} comes before {first}')"
   ]
  },
  {
   "cell_type": "markdown",
   "id": "b29374df",
   "metadata": {},
   "source": [
    "# Exercise: Name and company\n",
    "\n",
    "1. Ask the user to enter their name, and assign to `name`.\n",
    "2. Ask the user to enter their company, and assign to `company`.\n",
    "3. Give one of four responses:\n",
    "    - If the name and company match yours, then say \"You're me!\"\n",
    "    - If the name is the same, but the company isn't, compliment their name\n",
    "    - If the company is the same, but the name is different, greet your colleague\n",
    "    - If neither is the same, give a snarky greeting.\n",
    "    \n",
    "    "
   ]
  },
  {
   "cell_type": "code",
   "execution_count": 69,
   "id": "acb5442f",
   "metadata": {},
   "outputs": [
    {
     "name": "stdout",
     "output_type": "stream",
     "text": [
      "Enter your name: asdfasfdasfdas\n",
      "Enter your company: ljlk;kjljsdfas\n",
      "What a terrible name and a terrible company\n"
     ]
    }
   ],
   "source": [
    "name = input('Enter your name: ')\n",
    "company = input('Enter your company: ')\n",
    "\n",
    "if name == 'Reuven' and company == 'Lerner':\n",
    "    print('You must be me!')\n",
    "elif name == 'Reuven' and company != 'Lerner':\n",
    "    print('Great name, terrible company!')\n",
    "elif company == 'Lerner':\n",
    "    print('Good morning to my colleague')\n",
    "else:\n",
    "    print('What a terrible name and a terrible company')"
   ]
  },
  {
   "cell_type": "code",
   "execution_count": 70,
   "id": "d545f8f2",
   "metadata": {},
   "outputs": [
    {
     "name": "stdout",
     "output_type": "stream",
     "text": [
      "Greater than 10\n",
      "Greater than 30\n"
     ]
    }
   ],
   "source": [
    "# if you use a bunch of \"if\" statements in a row,\n",
    "# each can independently be True/False, and thus fire\n",
    "\n",
    "x = 50\n",
    "\n",
    "if x > 10:\n",
    "    print('Greater than 10')\n",
    "if x > 30:\n",
    "    print('Greater than 30')\n",
    "if x > 50:\n",
    "    print('Greater than 50')\n",
    "if x > 70:\n",
    "    print('Greater than 70')\n",
    "if x > 90:\n",
    "    print('Greater than 90')\n",
    "if x > 110:\n",
    "    print('Greater than 110')\n",
    "    "
   ]
  },
  {
   "cell_type": "code",
   "execution_count": 72,
   "id": "75478328",
   "metadata": {},
   "outputs": [
    {
     "name": "stdout",
     "output_type": "stream",
     "text": [
      "Greater than 10\n"
     ]
    }
   ],
   "source": [
    "# using if/elif/else means that one, and only one, will fire.\n",
    "\n",
    "x = 50\n",
    "\n",
    "if x > 10:\n",
    "    print('Greater than 10')\n",
    "elif x > 30:\n",
    "    print('Greater than 30')\n",
    "elif x > 50:\n",
    "    print('Greater than 50')\n",
    "elif x > 70:\n",
    "    print('Greater than 70')\n",
    "elif x > 90:\n",
    "    print('Greater than 90')\n",
    "elif x > 110:\n",
    "    print('Greater than 110')\n",
    "else:\n",
    "    print('I have no idea')"
   ]
  },
  {
   "cell_type": "markdown",
   "id": "fab4a4f7",
   "metadata": {},
   "source": [
    "# The `not` logical operator\n",
    "\n",
    "`not`, placed before any `True` or `False` value, flips its value. \n",
    "\n"
   ]
  },
  {
   "cell_type": "code",
   "execution_count": 73,
   "id": "328ed3e1",
   "metadata": {},
   "outputs": [
    {
     "name": "stdout",
     "output_type": "stream",
     "text": [
      "It is not 20\n"
     ]
    }
   ],
   "source": [
    "# you could, in theory, use it here:\n",
    "\n",
    "x = 10\n",
    "\n",
    "if not x == 20:\n",
    "    print('It is not 20')"
   ]
  },
  {
   "cell_type": "code",
   "execution_count": 74,
   "id": "8b268132",
   "metadata": {},
   "outputs": [
    {
     "name": "stdout",
     "output_type": "stream",
     "text": [
      "Not 20\n"
     ]
    }
   ],
   "source": [
    "# don't write that! Instead, just say\n",
    "\n",
    "if x != 20:\n",
    "    print('Not 20')"
   ]
  },
  {
   "cell_type": "markdown",
   "id": "f8eadffd",
   "metadata": {},
   "source": [
    "# Numbers\n",
    "\n",
    "Python has two different types of numbers:\n",
    "\n",
    "- Integers (whole numbers, only containing digits -- with a possible `-` before them)\n",
    "- Floats (numbers with a decimal point)\n",
    "\n"
   ]
  },
  {
   "cell_type": "code",
   "execution_count": 75,
   "id": "8182bfdb",
   "metadata": {},
   "outputs": [
    {
     "data": {
      "text/plain": [
       "int"
      ]
     },
     "execution_count": 75,
     "metadata": {},
     "output_type": "execute_result"
    }
   ],
   "source": [
    "# we can define an integer using digits, without any quotes\n",
    "\n",
    "x = 100\n",
    "type(x)"
   ]
  },
  {
   "cell_type": "code",
   "execution_count": 77,
   "id": "e73761fa",
   "metadata": {},
   "outputs": [
    {
     "data": {
      "text/plain": [
       "13"
      ]
     },
     "execution_count": 77,
     "metadata": {},
     "output_type": "execute_result"
    }
   ],
   "source": [
    "x = 10\n",
    "y = 3\n",
    "\n",
    "x + y  # addition"
   ]
  },
  {
   "cell_type": "code",
   "execution_count": 78,
   "id": "0c62bfa0",
   "metadata": {},
   "outputs": [
    {
     "data": {
      "text/plain": [
       "7"
      ]
     },
     "execution_count": 78,
     "metadata": {},
     "output_type": "execute_result"
    }
   ],
   "source": [
    "x - y  # subtraction"
   ]
  },
  {
   "cell_type": "code",
   "execution_count": 79,
   "id": "56c67f61",
   "metadata": {},
   "outputs": [
    {
     "data": {
      "text/plain": [
       "30"
      ]
     },
     "execution_count": 79,
     "metadata": {},
     "output_type": "execute_result"
    }
   ],
   "source": [
    "x * y   # multiplication"
   ]
  },
  {
   "cell_type": "code",
   "execution_count": 80,
   "id": "c2605305",
   "metadata": {},
   "outputs": [
    {
     "data": {
      "text/plain": [
       "3.3333333333333335"
      ]
     },
     "execution_count": 80,
     "metadata": {},
     "output_type": "execute_result"
    }
   ],
   "source": [
    "x / y  # truediv -- returns a float"
   ]
  },
  {
   "cell_type": "code",
   "execution_count": 81,
   "id": "cfa60465",
   "metadata": {},
   "outputs": [
    {
     "data": {
      "text/plain": [
       "1.0"
      ]
     },
     "execution_count": 81,
     "metadata": {},
     "output_type": "execute_result"
    }
   ],
   "source": [
    "x / x   # still returns a float"
   ]
  },
  {
   "cell_type": "code",
   "execution_count": 82,
   "id": "c0a3b47b",
   "metadata": {},
   "outputs": [
    {
     "data": {
      "text/plain": [
       "3"
      ]
     },
     "execution_count": 82,
     "metadata": {},
     "output_type": "execute_result"
    }
   ],
   "source": [
    "x // y   # floordiv, returning an integer -- not rounding, just chopping off the decimal part"
   ]
  },
  {
   "cell_type": "code",
   "execution_count": 83,
   "id": "67dab18a",
   "metadata": {},
   "outputs": [
    {
     "data": {
      "text/plain": [
       "1"
      ]
     },
     "execution_count": 83,
     "metadata": {},
     "output_type": "execute_result"
    }
   ],
   "source": [
    "x // x"
   ]
  },
  {
   "cell_type": "code",
   "execution_count": 84,
   "id": "97646690",
   "metadata": {},
   "outputs": [
    {
     "data": {
      "text/plain": [
       "1000"
      ]
     },
     "execution_count": 84,
     "metadata": {},
     "output_type": "execute_result"
    }
   ],
   "source": [
    "x ** y   # exponentiation"
   ]
  },
  {
   "cell_type": "code",
   "execution_count": 85,
   "id": "6cd3abab",
   "metadata": {},
   "outputs": [
    {
     "data": {
      "text/plain": [
       "1"
      ]
     },
     "execution_count": 85,
     "metadata": {},
     "output_type": "execute_result"
    }
   ],
   "source": [
    "x % y   # integer remainder after dividing x by y"
   ]
  },
  {
   "cell_type": "code",
   "execution_count": 86,
   "id": "de7fb0bd",
   "metadata": {},
   "outputs": [],
   "source": [
    "# in many languages, we have to worry about the maximum int,\n",
    "# because numbers are 64 bits in size. NOT IN PYTHON! There is no maximum int\n",
    "\n",
    "x = 1234567890 ** 1000"
   ]
  },
  {
   "cell_type": "code",
   "execution_count": 87,
   "id": "6a915d4c",
   "metadata": {},
   "outputs": [
    {
     "ename": "ValueError",
     "evalue": "Exceeds the limit (4300 digits) for integer string conversion; use sys.set_int_max_str_digits() to increase the limit",
     "output_type": "error",
     "traceback": [
      "\u001b[0;31m---------------------------------------------------------------------------\u001b[0m",
      "\u001b[0;31mValueError\u001b[0m                                Traceback (most recent call last)",
      "File \u001b[0;32m/usr/lib/python3/dist-packages/IPython/core/formatters.py:708\u001b[0m, in \u001b[0;36mPlainTextFormatter.__call__\u001b[0;34m(self, obj)\u001b[0m\n\u001b[1;32m    701\u001b[0m stream \u001b[38;5;241m=\u001b[39m StringIO()\n\u001b[1;32m    702\u001b[0m printer \u001b[38;5;241m=\u001b[39m pretty\u001b[38;5;241m.\u001b[39mRepresentationPrinter(stream, \u001b[38;5;28mself\u001b[39m\u001b[38;5;241m.\u001b[39mverbose,\n\u001b[1;32m    703\u001b[0m     \u001b[38;5;28mself\u001b[39m\u001b[38;5;241m.\u001b[39mmax_width, \u001b[38;5;28mself\u001b[39m\u001b[38;5;241m.\u001b[39mnewline,\n\u001b[1;32m    704\u001b[0m     max_seq_length\u001b[38;5;241m=\u001b[39m\u001b[38;5;28mself\u001b[39m\u001b[38;5;241m.\u001b[39mmax_seq_length,\n\u001b[1;32m    705\u001b[0m     singleton_pprinters\u001b[38;5;241m=\u001b[39m\u001b[38;5;28mself\u001b[39m\u001b[38;5;241m.\u001b[39msingleton_printers,\n\u001b[1;32m    706\u001b[0m     type_pprinters\u001b[38;5;241m=\u001b[39m\u001b[38;5;28mself\u001b[39m\u001b[38;5;241m.\u001b[39mtype_printers,\n\u001b[1;32m    707\u001b[0m     deferred_pprinters\u001b[38;5;241m=\u001b[39m\u001b[38;5;28mself\u001b[39m\u001b[38;5;241m.\u001b[39mdeferred_printers)\n\u001b[0;32m--> 708\u001b[0m \u001b[43mprinter\u001b[49m\u001b[38;5;241;43m.\u001b[39;49m\u001b[43mpretty\u001b[49m\u001b[43m(\u001b[49m\u001b[43mobj\u001b[49m\u001b[43m)\u001b[49m\n\u001b[1;32m    709\u001b[0m printer\u001b[38;5;241m.\u001b[39mflush()\n\u001b[1;32m    710\u001b[0m \u001b[38;5;28;01mreturn\u001b[39;00m stream\u001b[38;5;241m.\u001b[39mgetvalue()\n",
      "File \u001b[0;32m/usr/lib/python3/dist-packages/IPython/lib/pretty.py:393\u001b[0m, in \u001b[0;36mRepresentationPrinter.pretty\u001b[0;34m(self, obj)\u001b[0m\n\u001b[1;32m    390\u001b[0m \u001b[38;5;28;01mfor\u001b[39;00m \u001b[38;5;28mcls\u001b[39m \u001b[38;5;129;01min\u001b[39;00m _get_mro(obj_class):\n\u001b[1;32m    391\u001b[0m     \u001b[38;5;28;01mif\u001b[39;00m \u001b[38;5;28mcls\u001b[39m \u001b[38;5;129;01min\u001b[39;00m \u001b[38;5;28mself\u001b[39m\u001b[38;5;241m.\u001b[39mtype_pprinters:\n\u001b[1;32m    392\u001b[0m         \u001b[38;5;66;03m# printer registered in self.type_pprinters\u001b[39;00m\n\u001b[0;32m--> 393\u001b[0m         \u001b[38;5;28;01mreturn\u001b[39;00m \u001b[38;5;28;43mself\u001b[39;49m\u001b[38;5;241;43m.\u001b[39;49m\u001b[43mtype_pprinters\u001b[49m\u001b[43m[\u001b[49m\u001b[38;5;28;43mcls\u001b[39;49m\u001b[43m]\u001b[49m\u001b[43m(\u001b[49m\u001b[43mobj\u001b[49m\u001b[43m,\u001b[49m\u001b[43m \u001b[49m\u001b[38;5;28;43mself\u001b[39;49m\u001b[43m,\u001b[49m\u001b[43m \u001b[49m\u001b[43mcycle\u001b[49m\u001b[43m)\u001b[49m\n\u001b[1;32m    394\u001b[0m     \u001b[38;5;28;01melse\u001b[39;00m:\n\u001b[1;32m    395\u001b[0m         \u001b[38;5;66;03m# deferred printer\u001b[39;00m\n\u001b[1;32m    396\u001b[0m         printer \u001b[38;5;241m=\u001b[39m \u001b[38;5;28mself\u001b[39m\u001b[38;5;241m.\u001b[39m_in_deferred_types(\u001b[38;5;28mcls\u001b[39m)\n",
      "File \u001b[0;32m/usr/lib/python3/dist-packages/IPython/lib/pretty.py:778\u001b[0m, in \u001b[0;36m_repr_pprint\u001b[0;34m(obj, p, cycle)\u001b[0m\n\u001b[1;32m    776\u001b[0m \u001b[38;5;250m\u001b[39m\u001b[38;5;124;03m\"\"\"A pprint that just redirects to the normal repr function.\"\"\"\u001b[39;00m\n\u001b[1;32m    777\u001b[0m \u001b[38;5;66;03m# Find newlines and replace them with p.break_()\u001b[39;00m\n\u001b[0;32m--> 778\u001b[0m output \u001b[38;5;241m=\u001b[39m \u001b[38;5;28;43mrepr\u001b[39;49m\u001b[43m(\u001b[49m\u001b[43mobj\u001b[49m\u001b[43m)\u001b[49m\n\u001b[1;32m    779\u001b[0m lines \u001b[38;5;241m=\u001b[39m output\u001b[38;5;241m.\u001b[39msplitlines()\n\u001b[1;32m    780\u001b[0m \u001b[38;5;28;01mwith\u001b[39;00m p\u001b[38;5;241m.\u001b[39mgroup():\n",
      "\u001b[0;31mValueError\u001b[0m: Exceeds the limit (4300 digits) for integer string conversion; use sys.set_int_max_str_digits() to increase the limit"
     ]
    }
   ],
   "source": [
    "x"
   ]
  },
  {
   "cell_type": "code",
   "execution_count": 88,
   "id": "cd550468",
   "metadata": {},
   "outputs": [
    {
     "data": {
      "text/plain": [
       "11"
      ]
     },
     "execution_count": 88,
     "metadata": {},
     "output_type": "execute_result"
    }
   ],
   "source": [
    "# what if I want to add 1 to an integer?\n",
    "\n",
    "x = 10\n",
    "x = x + 1  # here, we're first calculating x+1, then assigning that back to the variable x\n",
    "\n",
    "x"
   ]
  },
  {
   "cell_type": "code",
   "execution_count": 89,
   "id": "e2b02ab1",
   "metadata": {},
   "outputs": [],
   "source": [
    "# similarly, I can say\n",
    "\n",
    "x += 1   # this is the same as x = x + 1"
   ]
  },
  {
   "cell_type": "code",
   "execution_count": 90,
   "id": "9da9c538",
   "metadata": {},
   "outputs": [],
   "source": [
    "# Python does not have the ++ and -- operators. "
   ]
  },
  {
   "cell_type": "code",
   "execution_count": 91,
   "id": "5341848c",
   "metadata": {},
   "outputs": [
    {
     "ename": "TypeError",
     "evalue": "unsupported operand type(s) for +: 'int' and 'str'",
     "output_type": "error",
     "traceback": [
      "\u001b[0;31m---------------------------------------------------------------------------\u001b[0m",
      "\u001b[0;31mTypeError\u001b[0m                                 Traceback (most recent call last)",
      "Cell \u001b[0;32mIn[91], line 6\u001b[0m\n\u001b[1;32m      3\u001b[0m x \u001b[38;5;241m=\u001b[39m \u001b[38;5;241m10\u001b[39m\n\u001b[1;32m      4\u001b[0m y \u001b[38;5;241m=\u001b[39m \u001b[38;5;124m'\u001b[39m\u001b[38;5;124m20\u001b[39m\u001b[38;5;124m'\u001b[39m\n\u001b[0;32m----> 6\u001b[0m \u001b[43mx\u001b[49m\u001b[43m \u001b[49m\u001b[38;5;241;43m+\u001b[39;49m\u001b[43m \u001b[49m\u001b[43my\u001b[49m\n",
      "\u001b[0;31mTypeError\u001b[0m: unsupported operand type(s) for +: 'int' and 'str'"
     ]
    }
   ],
   "source": [
    "# What if I have a string, and want to use it as an integer?\n",
    "\n",
    "x = 10\n",
    "y = '20'\n",
    "\n",
    "x + y"
   ]
  },
  {
   "cell_type": "code",
   "execution_count": 92,
   "id": "0cb556c0",
   "metadata": {},
   "outputs": [
    {
     "data": {
      "text/plain": [
       "30"
      ]
     },
     "execution_count": 92,
     "metadata": {},
     "output_type": "execute_result"
    }
   ],
   "source": [
    "# If I want to get an integer based on the string in y, I can invoke int() as a function\n",
    "# this doesn't change y! It returns a new int, which we can use\n",
    "\n",
    "x + int(y)"
   ]
  },
  {
   "cell_type": "code",
   "execution_count": 93,
   "id": "993fdffc",
   "metadata": {},
   "outputs": [
    {
     "data": {
      "text/plain": [
       "'20'"
      ]
     },
     "execution_count": 93,
     "metadata": {},
     "output_type": "execute_result"
    }
   ],
   "source": [
    "y"
   ]
  },
  {
   "cell_type": "code",
   "execution_count": 94,
   "id": "3127d239",
   "metadata": {},
   "outputs": [
    {
     "data": {
      "text/plain": [
       "30"
      ]
     },
     "execution_count": 94,
     "metadata": {},
     "output_type": "execute_result"
    }
   ],
   "source": [
    "# I can get an integer from y and assign it back to the variable\n",
    "\n",
    "y = int(y)     # after this, y contains an integer, and it's not an issue\n",
    "\n",
    "x + y"
   ]
  },
  {
   "cell_type": "markdown",
   "id": "675836a5",
   "metadata": {},
   "source": [
    "# Exercise: Guessing game\n",
    "\n",
    "1. Choose an integer, and assign it to `number`.\n",
    "2. If you want to give the user a hint, you can print the number, too.\n",
    "3. Ask the user to guess the number.\n",
    "4. Print one of:\n",
    "    - You got it!\n",
    "    - Too low!\n",
    "    - Too high!\n",
    "5. That's it -- no more guesses    "
   ]
  },
  {
   "cell_type": "code",
   "execution_count": 96,
   "id": "e0c321f2",
   "metadata": {},
   "outputs": [
    {
     "name": "stdout",
     "output_type": "stream",
     "text": [
      "The number is 72.\n",
      "Enter your guess: 72\n"
     ]
    },
    {
     "ename": "TypeError",
     "evalue": "'>' not supported between instances of 'str' and 'int'",
     "output_type": "error",
     "traceback": [
      "\u001b[0;31m---------------------------------------------------------------------------\u001b[0m",
      "\u001b[0;31mTypeError\u001b[0m                                 Traceback (most recent call last)",
      "Cell \u001b[0;32mIn[96], line 8\u001b[0m\n\u001b[1;32m      6\u001b[0m \u001b[38;5;28;01mif\u001b[39;00m guess \u001b[38;5;241m==\u001b[39m number:\n\u001b[1;32m      7\u001b[0m     \u001b[38;5;28mprint\u001b[39m(\u001b[38;5;124m'\u001b[39m\u001b[38;5;124mYou got it!\u001b[39m\u001b[38;5;124m'\u001b[39m)\n\u001b[0;32m----> 8\u001b[0m \u001b[38;5;28;01melif\u001b[39;00m \u001b[43mguess\u001b[49m\u001b[43m \u001b[49m\u001b[38;5;241;43m>\u001b[39;49m\u001b[43m \u001b[49m\u001b[43mnumber\u001b[49m:\n\u001b[1;32m      9\u001b[0m     \u001b[38;5;28mprint\u001b[39m(\u001b[38;5;124m'\u001b[39m\u001b[38;5;124mToo high!\u001b[39m\u001b[38;5;124m'\u001b[39m)\n\u001b[1;32m     10\u001b[0m \u001b[38;5;28;01melse\u001b[39;00m:\n",
      "\u001b[0;31mTypeError\u001b[0m: '>' not supported between instances of 'str' and 'int'"
     ]
    }
   ],
   "source": [
    "number = 72\n",
    "print(f'The number is {number}.')\n",
    "\n",
    "guess = input('Enter your guess: ')\n",
    "\n",
    "if guess == number:\n",
    "    print('You got it!')\n",
    "elif guess > number:\n",
    "    print('Too high!')\n",
    "else:\n",
    "    print('Too low!')"
   ]
  },
  {
   "cell_type": "code",
   "execution_count": null,
   "id": "b344eb74",
   "metadata": {},
   "outputs": [],
   "source": []
  }
 ],
 "metadata": {
  "kernelspec": {
   "display_name": "Python 3 (ipykernel)",
   "language": "python",
   "name": "python3"
  },
  "language_info": {
   "codemirror_mode": {
    "name": "ipython",
    "version": 3
   },
   "file_extension": ".py",
   "mimetype": "text/x-python",
   "name": "python",
   "nbconvert_exporter": "python",
   "pygments_lexer": "ipython3",
   "version": "3.12.3"
  }
 },
 "nbformat": 4,
 "nbformat_minor": 5
}
