{
 "cells": [
  {
   "cell_type": "code",
   "execution_count": 1,
   "id": "c4b6642f",
   "metadata": {},
   "outputs": [
    {
     "name": "stdout",
     "output_type": "stream",
     "text": [
      "Hello out there!\n"
     ]
    }
   ],
   "source": [
    "print('Hello out there!')   # press shift+ENTER together executes the cell"
   ]
  },
  {
   "cell_type": "code",
   "execution_count": 2,
   "id": "0f0b9f28",
   "metadata": {},
   "outputs": [
    {
     "name": "stdout",
     "output_type": "stream",
     "text": [
      "8\n"
     ]
    }
   ],
   "source": [
    "print(5 + 3)"
   ]
  },
  {
   "cell_type": "markdown",
   "id": "82f4d20b",
   "metadata": {},
   "source": [
    "# Agenda\n",
    "\n",
    "1. What is a programming language? What is Python?\n",
    "2. Fundamentals of programming (1/2 of today)\n",
    "    - Values\n",
    "    - Printing on the screen\n",
    "    - Variables\n",
    "    - Operators\n",
    "    - Getting input from the user\n",
    "    - Conditions and equality\n",
    "    - Making decisions with `if`/`else`\n",
    "3. Numbers (Monday)\n",
    "    - integers\n",
    "    - floats\n",
    "4. Strings (text), Monday\n",
    "    - Creating strings (many different ways!)\n",
    "    - Retrieving from strings\n",
    "    - Immutability\n",
    "    - Methods (and methods vs. functions)\n",
    "    - Converting from numbers to text, and back\n",
    "5. Loops (Tuesday)\n",
    "    - `for` and `while`\n",
    "    - Looping a number of times\n",
    "    - Indexes (or the lack thereof)\n",
    "    - Controlling our loops with `break` and `continue`\n",
    "6. Lists (Tuesday)\n",
    "    - Creating them\n",
    "    - Retrieving from them\n",
    "    - How are lists similar to strings? How are they different?\n",
    "    - List methods\n",
    "7. Converting from strings to lists, and back (Tuesday)\n",
    "    - `str.split` method that takes a string and returns a list\n",
    "    - `str.join` method that takes a list and returns a string\n",
    "8. Tuples (Tuesday)\n",
    "    - How they're similar to and different from strings and lists\n",
    "    - Converting from them to/from strings and lists\n",
    "    - Creating and retrieving from tuples\n",
    "    - Why do we care about them?\n",
    "    - Tuple unpacking\n",
    "9. Dictionaries (Wednesday)\n",
    "    - Creating them\n",
    "    - Using them (3 paradigms) \n",
    "    - Looping over them\n",
    "    - Modifying them \n",
    "    - How do dicts work behind the scenes?\n",
    "10. Files (Wednesday)\n",
    "    - Reading from text files\n",
    "    - Writing (a little) to text files\n",
    "    - Looping and text files\n",
    "11. Get Python + PyCharm to work on your own computer (Wednesday)\n",
    "12. Functions (Thursday)\n",
    "    - Defining functions\n",
    "    - Passing arguments to functions\n",
    "    - Return values\n",
    "    - Local vs. global variables\n",
    "13. Modules and packages (Thursday)\n",
    "    - What are modules?\n",
    "    - Using modules with `import`\n",
    "    - The Python standard library (i.e., modules that come with Python)\n",
    "    - PyPI (i.e., modules that we can get from the Internet)\n",
    "    - Downloading modules with `pip` for use in our own programs\n"
   ]
  },
  {
   "cell_type": "markdown",
   "id": "60170595",
   "metadata": {},
   "source": [
    "# Quick intro to Jupyter\n",
    "\n",
    "Jupyter gives us the sense/illusion that we are writing Python in our browsers. In reality, it's running on a server.\n",
    "\n",
    "When we type into Jupyter, we're typing into a *cell*. Actually, there are two different modes in Jupyter, and the current mode determines what happens when we type:\n",
    "\n",
    "- In edit mode, typing puts text into the cell. (Like right now!) To get into edit mode, click in the cell or press ENTER. (Green outline, and to the left.)\n",
    "- In command mode, typing sends commands (usually one-letter commands) to Jupyter, and controls the environment. To get into command mode, click to the left of the cel"
   ]
  }
 ],
 "metadata": {
  "kernelspec": {
   "display_name": "Python 3 (ipykernel)",
   "language": "python",
   "name": "python3"
  },
  "language_info": {
   "codemirror_mode": {
    "name": "ipython",
    "version": 3
   },
   "file_extension": ".py",
   "mimetype": "text/x-python",
   "name": "python",
   "nbconvert_exporter": "python",
   "pygments_lexer": "ipython3",
   "version": "3.12.3"
  }
 },
 "nbformat": 4,
 "nbformat_minor": 5
}
