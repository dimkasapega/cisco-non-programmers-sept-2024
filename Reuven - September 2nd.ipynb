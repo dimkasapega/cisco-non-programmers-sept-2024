{
 "cells": [
  {
   "cell_type": "code",
   "execution_count": 1,
   "id": "4a626a1c",
   "metadata": {},
   "outputs": [
    {
     "name": "stdout",
     "output_type": "stream",
     "text": [
      "Hello out there!\n"
     ]
    }
   ],
   "source": [
    "print('Hello out there!')   # press shift+ENTER together executes the cell"
   ]
  },
  {
   "cell_type": "code",
   "execution_count": 2,
   "id": "5f844350",
   "metadata": {},
   "outputs": [
    {
     "name": "stdout",
     "output_type": "stream",
     "text": [
      "8\n"
     ]
    }
   ],
   "source": [
    "print(5 + 3)"
   ]
  },
  {
   "cell_type": "markdown",
   "id": "716f73f7",
   "metadata": {},
   "source": [
    "# Agenda\n",
    "\n",
    "1. What is a programming language? What is Python?\n",
    "2. Fundamentals of programming (1/2 of today)\n",
    "    - Values\n",
    "    - Printing on the screen\n",
    "    - Variables\n",
    "    - Operators\n",
    "    - Getting input from the user\n",
    "    - Conditions and equality\n",
    "    - Making decisions with `if`/`else`\n",
    "3. Numbers (Monday)\n",
    "    - integers\n",
    "    - floats\n",
    "4. Strings (text), Monday\n",
    "    - Creating strings (many different ways!)\n",
    "    - Retrieving from strings\n",
    "    - Immutability\n",
    "    - Methods (and methods vs. functions)\n",
    "    - Converting from numbers to text, and back\n",
    "5. Loops (Tuesday)\n",
    "    - `for` and `while`\n",
    "    - Looping a number of times\n",
    "    - Indexes (or the lack thereof)\n",
    "    - Controlling our loops with `break` and `continue`\n",
    "6. Lists (Tuesday)\n",
    "    - Creating them\n",
    "    - Retrieving from them\n",
    "    - How are lists similar to strings? How are they different?\n",
    "    - List methods\n",
    "7. Converting from strings to lists, and back (Tuesday)\n",
    "    - `str.split` method that takes a string and returns a list\n",
    "    - `str.join` method that takes a list and returns a string\n",
    "8. Tuples (Tuesday)\n",
    "    - How they're similar to and different from strings and lists\n",
    "    - Converting from them to/from strings and lists\n",
    "    - Creating and retrieving from tuples\n",
    "    - Why do we care about them?\n",
    "    - Tuple unpacking\n",
    "9. Dictionaries (Wednesday)\n",
    "    - Creating them\n",
    "    - Using them (3 paradigms) \n",
    "    - Looping over them\n",
    "    - Modifying them \n",
    "    - How do dicts work behind the scenes?\n",
    "10. Files (Wednesday)\n",
    "    - Reading from text files\n",
    "    - Writing (a little) to text files\n",
    "    - Looping and text files\n",
    "11. Get Python + PyCharm to work on your own computer (Wednesday)\n",
    "12. Functions (Thursday)\n",
    "    - Defining functions\n",
    "    - Passing arguments to functions\n",
    "    - Return values\n",
    "    - Local vs. global variables\n",
    "13. Modules and packages (Thursday)\n",
    "    - What are modules?\n",
    "    - Using modules with `import`\n",
    "    - The Python standard library (i.e., modules that come with Python)\n",
    "    - PyPI (i.e., modules that we can get from the Internet)\n",
    "    - Downloading modules with `pip` for use in our own programs\n"
   ]
  },
  {
   "cell_type": "markdown",
   "id": "f1bd83aa",
   "metadata": {},
   "source": [
    "# Quick intro to Jupyter\n",
    "\n",
    "Jupyter gives us the sense/illusion that we are writing Python in our browsers. In reality, it's running on a server.\n",
    "\n",
    "When we type into Jupyter, we're typing into a *cell*. Actually, there are two different modes in Jupyter, and the current mode determines what happens when we type:\n",
    "\n",
    "- In edit mode, typing puts text into the cell. (Like right now!) To get into edit mode, click in the cell or press ENTER. (Green outline, and to the left.)\n",
    "- In command mode, typing sends commands (usually one-letter commands) to Jupyter, and controls the environment. To get into command mode, click to the left of the cell or press ESC.\n",
    "\n",
    "What commands can we use in Jupyter's command mode?\n",
    "\n",
    "- `c` -- copy the current cell\n",
    "- `x` -- cut the current cell\n",
    "- `v` -- paste the current cell\n",
    "- `a` -- create a new, empty cell *above* the current one\n",
    "- `b` -- create a new, empty cell *below* the current one\n",
    "- `m` -- make the cell a *Markdown* documentation cell\n",
    "- `y` -- make the cell a *Python* coding cell\n",
    "\n",
    "Shift+ENTER executes the cell. If it's code, the code will run. If it's documentation, it'll get formatted."
   ]
  },
  {
   "cell_type": "markdown",
   "id": "dbe67b39",
   "metadata": {},
   "source": [
    "# What is a programming language?\n",
    "\n",
    "When computers were invented, each machine could solve one problem.  Pretty soon, they invented a general-purpose computer that could be programmed. You could write the 1s and 0s yourself, but that is tedious and error prone.\n",
    "\n",
    "Soon after that, they invented programming languages. There are hundreds of thousands of different programming languages, each with its own advantges and disadvantages.\n",
    "\n",
    "- Assembly language\n",
    "- C, C++\n",
    "- Pascal, Lisp\n",
    "- Python (and Perl, Ruby, PHP, JavaScript)\n",
    "- Java and C#\n",
    "\n",
    "Python is:\n",
    "- Not very fast at executing\n",
    "- Very consistent\n",
    "- Very clean\n",
    "- Very easy to read/write/debug\n",
    "- Open source, with a huge community and lots of support and add-ons\n",
    "\n",
    "Python is used today:\n",
    "- The #1 language for data science and analytics and machine learning\n",
    "- Web development\n",
    "- Automated testing\n",
    "- Devops and server automation\n",
    "- APIs (serving and consuming)\n",
    "- Natural language processing\n",
    "- Education"
   ]
  },
  {
   "cell_type": "markdown",
   "id": "9869f44e",
   "metadata": {},
   "source": [
    "# Our Jupyter server\n",
    "\n",
    "I've set up a server at https://python.lerner.co.il, where you can create your own Jupyter notebooks.\n",
    "\n",
    "1. Go there, and create a new Python 3 notebook (\"new\" menu on the right)\n",
    "2. Click on the title to change it to be your name + the date\n",
    "3. Inside of a cell, try to use the `print` function with some text (inside of quotes) to say \"hello\"\n",
    "\n",
    "```python\n",
    "print('hello')\n",
    "```"
   ]
  },
  {
   "cell_type": "markdown",
   "id": "edc84bc1",
   "metadata": {},
   "source": [
    "# Printing text and numbers"
   ]
  },
  {
   "cell_type": "code",
   "execution_count": 3,
   "id": "2be088f6",
   "metadata": {},
   "outputs": [
    {
     "name": "stdout",
     "output_type": "stream",
     "text": [
      "Hello, out there!\n"
     ]
    }
   ],
   "source": [
    "# I can use \"print\" to display things\n",
    "# These are comments, completely ignored by Python\n",
    "# they start with #, and go to the end of the line\n",
    "\n",
    "# \"print\" is a function, a *verb* in Python\n",
    "# we execute it by having () after the word \"print\"\n",
    "# inside of the parentheses, we can have any Python value\n",
    "\n",
    "print('Hello, out there!')"
   ]
  },
  {
   "cell_type": "code",
   "execution_count": 4,
   "id": "dd27fe19",
   "metadata": {},
   "outputs": [
    {
     "name": "stdout",
     "output_type": "stream",
     "text": [
      "5\n"
     ]
    }
   ],
   "source": [
    "print(5)"
   ]
  },
  {
   "cell_type": "code",
   "execution_count": 5,
   "id": "cb0e1892",
   "metadata": {},
   "outputs": [
    {
     "name": "stdout",
     "output_type": "stream",
     "text": [
      "7\n"
     ]
    }
   ],
   "source": [
    "print(5 + 2)   # first, Python executes 5+2, gets 7, then print is invoked with 7 as an argument"
   ]
  },
  {
   "cell_type": "code",
   "execution_count": 6,
   "id": "f70f788e",
   "metadata": {},
   "outputs": [
    {
     "name": "stdout",
     "output_type": "stream",
     "text": [
      "hello, world\n"
     ]
    }
   ],
   "source": [
    "print('hello, ' + 'world')  # + works between two text strings, too!"
   ]
  },
  {
   "cell_type": "code",
   "execution_count": 7,
   "id": "def92eee",
   "metadata": {},
   "outputs": [
    {
     "name": "stdout",
     "output_type": "stream",
     "text": [
      "hello,world\n"
     ]
    }
   ],
   "source": [
    "# what if I don't put a space at the end of the first string?\n",
    "print('hello,' + 'world')  # + works between two text strings, too!"
   ]
  },
  {
   "cell_type": "code",
   "execution_count": 8,
   "id": "7769d66b",
   "metadata": {},
   "outputs": [
    {
     "name": "stdout",
     "output_type": "stream",
     "text": [
      "52\n"
     ]
    }
   ],
   "source": [
    "# what happens if I add things together a bit differently?\n",
    "print('5' + '2')"
   ]
  },
  {
   "cell_type": "code",
   "execution_count": 9,
   "id": "7d1b999b",
   "metadata": {},
   "outputs": [
    {
     "ename": "TypeError",
     "evalue": "can only concatenate str (not \"int\") to str",
     "output_type": "error",
     "traceback": [
      "\u001b[0;31m---------------------------------------------------------------------------\u001b[0m",
      "\u001b[0;31mTypeError\u001b[0m                                 Traceback (most recent call last)",
      "Cell \u001b[0;32mIn[9], line 2\u001b[0m\n\u001b[1;32m      1\u001b[0m \u001b[38;5;66;03m# what if I try to add together an integer and a text string?\u001b[39;00m\n\u001b[0;32m----> 2\u001b[0m \u001b[38;5;28mprint\u001b[39m(\u001b[38;5;124;43m'\u001b[39;49m\u001b[38;5;124;43mYour favorite number is \u001b[39;49m\u001b[38;5;124;43m'\u001b[39;49m\u001b[43m \u001b[49m\u001b[38;5;241;43m+\u001b[39;49m\u001b[43m \u001b[49m\u001b[38;5;241;43m5\u001b[39;49m)\n",
      "\u001b[0;31mTypeError\u001b[0m: can only concatenate str (not \"int\") to str"
     ]
    }
   ],
   "source": [
    "# what if I try to add together an integer and a text string?\n",
    "print('Your favorite number is ' + 5)"
   ]
  },
  {
   "cell_type": "markdown",
   "id": "65b1b521",
   "metadata": {},
   "source": [
    "# Variables and assignment\n",
    "\n",
    "We've now seen two types of values, integers (whole numbers) and text strings. But so far, every time we have wanted to refer to value, we've needed to specify it. It would be really nice if we could take a value and then refer to it each time, rather than define it each time.\n",
    "\n",
    "We use *variables* to store values in Python. Any variable in Python can refer to any value whatsoever. There is no such thing as a \"string variable\" or an \"integer variable\" or the like in Python. The first time you assign to a variable in Python, the variable is created. The second time, it's just assigned the new value.\n",
    "\n",
    "How do we assign? We use the `=` operator, which is **NOT THE SAME** as `=` in mathematics.  In Python, `=` means:\n",
    "\n",
    "- Take the value on the right side\n",
    "- Assign it to the variable on the left side\n",
    "- If the variable doesn't yet exist, create it"
   ]
  },
  {
   "cell_type": "code",
   "execution_count": 10,
   "id": "01be7c3f",
   "metadata": {},
   "outputs": [
    {
     "name": "stdout",
     "output_type": "stream",
     "text": [
      "Hello, Reuven\n"
     ]
    }
   ],
   "source": [
    "name = 'Reuven'\n",
    "\n",
    "print('Hello, ' + name)"
   ]
  },
  {
   "cell_type": "markdown",
   "id": "0778ffdc",
   "metadata": {},
   "source": [
    "# Quotes or no quotes?\n",
    "\n",
    "- Variables *NEVER* have quotes around their names.\n",
    "- String values *ALWAYS* have quotes around their names.\n",
    "\n",
    "Python doesn't care if you use `\"\"` or `''`. You just need to use the same kind at the start and end of each text string."
   ]
  },
  {
   "cell_type": "code",
   "execution_count": 11,
   "id": "5590f440",
   "metadata": {},
   "outputs": [
    {
     "name": "stdout",
     "output_type": "stream",
     "text": [
      "Reuven\n"
     ]
    }
   ],
   "source": [
    "print(name)   # this doesn't have quotes, so it's a variable, and we'll print the value of the variable \"name\""
   ]
  },
  {
   "cell_type": "code",
   "execution_count": 12,
   "id": "b1d54ac2",
   "metadata": {},
   "outputs": [
    {
     "name": "stdout",
     "output_type": "stream",
     "text": [
      "name\n"
     ]
    }
   ],
   "source": [
    "print('name')  # this does have quotes, so it's a string, and we'll print the string 'name'"
   ]
  },
  {
   "cell_type": "markdown",
   "id": "22be3797",
   "metadata": {},
   "source": [
    "# Variable names\n",
    "\n",
    "What can you call variables in Python? You should use longish names that are descriptive. Remember that variable names will help you when you have to read and debug your code in another year or two.\n",
    "\n",
    "What is a valid variable name in Python?\n",
    "\n",
    "- Any combination of letters, numbers, and `_`, so long as you don't start with a digit\n",
    "- Don't start or end your variable names with `_`, since those have special connotations in Python.\n",
    "- Capital and lowercase letters are different, but it's considered standard to only use lowercase in variable names\n",
    "- Use long, descriptive names"
   ]
  },
  {
   "cell_type": "code",
   "execution_count": null,
   "id": "34f03dad",
   "metadata": {},
   "outputs": [],
   "source": []
  }
 ],
 "metadata": {
  "kernelspec": {
   "display_name": "Python 3 (ipykernel)",
   "language": "python",
   "name": "python3"
  },
  "language_info": {
   "codemirror_mode": {
    "name": "ipython",
    "version": 3
   },
   "file_extension": ".py",
   "mimetype": "text/x-python",
   "name": "python",
   "nbconvert_exporter": "python",
   "pygments_lexer": "ipython3",
   "version": "3.12.3"
  }
 },
 "nbformat": 4,
 "nbformat_minor": 5
}
