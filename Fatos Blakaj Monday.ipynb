{
 "cells": [
  {
   "cell_type": "code",
   "execution_count": 10,
   "id": "b82fea0f",
   "metadata": {},
   "outputs": [
    {
     "name": "stdout",
     "output_type": "stream",
     "text": [
      "Fatos\n"
     ]
    }
   ],
   "source": [
    "name= \"Fatos\"\n",
    "print (name)"
   ]
  },
  {
   "cell_type": "code",
   "execution_count": 11,
   "id": "2677af6c",
   "metadata": {},
   "outputs": [
    {
     "name": "stdout",
     "output_type": "stream",
     "text": [
      "Enter your name; Fatos\n"
     ]
    },
    {
     "data": {
      "text/plain": [
       "'Fatos'"
      ]
     },
     "execution_count": 11,
     "metadata": {},
     "output_type": "execute_result"
    }
   ],
   "source": [
    "input(\"Enter your name; \")"
   ]
  },
  {
   "cell_type": "code",
   "execution_count": 12,
   "id": "b8873cf6",
   "metadata": {},
   "outputs": [
    {
     "name": "stdout",
     "output_type": "stream",
     "text": [
      "Write your name :Fatos \n"
     ]
    }
   ],
   "source": [
    "name= input(\"Write your name :\")"
   ]
  },
  {
   "cell_type": "code",
   "execution_count": 13,
   "id": "d8957057",
   "metadata": {},
   "outputs": [
    {
     "name": "stdout",
     "output_type": "stream",
     "text": [
      "Fatos \n"
     ]
    }
   ],
   "source": [
    "print(name)"
   ]
  },
  {
   "cell_type": "code",
   "execution_count": 27,
   "id": "874eca70",
   "metadata": {
    "scrolled": true
   },
   "outputs": [
    {
     "name": "stdout",
     "output_type": "stream",
     "text": [
      "Fill in your nameFatos\n",
      "City you live inOslo\n",
      "Welcome Fatosfrom Oslo\n"
     ]
    }
   ],
   "source": [
    "name= input(\"Fill in your name\")\n",
    "city= input(\"City you live in\")\n",
    "print(\"Welcome \" + name + \" from \"+ city)"
   ]
  },
  {
   "cell_type": "code",
   "execution_count": 29,
   "id": "5934ea75",
   "metadata": {},
   "outputs": [
    {
     "name": "stdout",
     "output_type": "stream",
     "text": [
      "Hello,Fatos from Oslo\n"
     ]
    }
   ],
   "source": [
    "print(f\"Hello,{name} from {city}\")"
   ]
  },
  {
   "cell_type": "code",
   "execution_count": 33,
   "id": "ec717cbf",
   "metadata": {},
   "outputs": [
    {
     "name": "stdout",
     "output_type": "stream",
     "text": [
      "Enter your name: FAtos\n",
      "Hello, FAtos. Who are you?\n"
     ]
    }
   ],
   "source": [
    "name = input(\"Enter your name: \")\n",
    "\n",
    "if name == \"Fatos\":\n",
    "    print(\"Hello \" + name)\n",
    "else: \n",
    "    print(f\"Hello, {name}. Who are you?\")\n",
    "    \n"
   ]
  },
  {
   "cell_type": "code",
   "execution_count": 34,
   "id": "42966f4b",
   "metadata": {},
   "outputs": [
    {
     "name": "stdout",
     "output_type": "stream",
     "text": [
      "Enter first word: Egg\n",
      "Enter second word: chicken\n",
      "Egg comes before chicken\n"
     ]
    }
   ],
   "source": [
    "first = input('Enter first word: ')\n",
    "second = input('Enter second word: ')\n",
    "\n",
    "if first < second:    # if first comes before second in the dictionary...\n",
    "    print(f'{first} comes before {second}')\n",
    "else:\n",
    "    print(f'{second} come')"
   ]
  },
  {
   "cell_type": "code",
   "execution_count": 37,
   "id": "4a76324a",
   "metadata": {},
   "outputs": [
    {
     "ename": "SyntaxError",
     "evalue": "invalid syntax (3743149425.py, line 6)",
     "output_type": "error",
     "traceback": [
      "\u001b[0;36m  Cell \u001b[0;32mIn[37], line 6\u001b[0;36m\u001b[0m\n\u001b[0;31m    elseif first==second:\u001b[0m\n\u001b[0m           ^\u001b[0m\n\u001b[0;31mSyntaxError\u001b[0m\u001b[0;31m:\u001b[0m invalid syntax\n"
     ]
    }
   ],
   "source": [
    "first = input('Enter first word: ')\n",
    "second = input('Enter second word: ')\n",
    "\n",
    "if first < second:    # if first comes before second in the dictionary...\n",
    "    print(f'{first} comes before {second}')\n",
    "elseif first ==second:\n",
    "    printf(f\"{first} is equal {second}\")\n",
    "else\n",
    "    print(f'{second} comes before {first}')"
   ]
  },
  {
   "cell_type": "code",
   "execution_count": null,
   "id": "1493f14d",
   "metadata": {},
   "outputs": [],
   "source": []
  }
 ],
 "metadata": {
  "kernelspec": {
   "display_name": "Python 3 (ipykernel)",
   "language": "python",
   "name": "python3"
  },
  "language_info": {
   "codemirror_mode": {
    "name": "ipython",
    "version": 3
   },
   "file_extension": ".py",
   "mimetype": "text/x-python",
   "name": "python",
   "nbconvert_exporter": "python",
   "pygments_lexer": "ipython3",
   "version": "3.12.3"
  }
 },
 "nbformat": 4,
 "nbformat_minor": 5
}
