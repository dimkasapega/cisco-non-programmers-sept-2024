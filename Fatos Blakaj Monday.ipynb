{
 "cells": [
  {
   "cell_type": "code",
   "execution_count": 10,
   "id": "fe5cac5b",
   "metadata": {},
   "outputs": [
    {
     "name": "stdout",
     "output_type": "stream",
     "text": [
      "Fatos\n"
     ]
    }
   ],
   "source": [
    "name= \"Fatos\"\n",
    "print (name)"
   ]
  },
  {
   "cell_type": "code",
   "execution_count": 11,
   "id": "c0a9f030",
   "metadata": {},
   "outputs": [
    {
     "name": "stdout",
     "output_type": "stream",
     "text": [
      "Enter your name; Fatos\n"
     ]
    },
    {
     "data": {
      "text/plain": [
       "'Fatos'"
      ]
     },
     "execution_count": 11,
     "metadata": {},
     "output_type": "execute_result"
    }
   ],
   "source": [
    "input(\"Enter your name; \")"
   ]
  },
  {
   "cell_type": "code",
   "execution_count": 12,
   "id": "601cc568",
   "metadata": {},
   "outputs": [
    {
     "name": "stdout",
     "output_type": "stream",
     "text": [
      "Write your name :Fatos \n"
     ]
    }
   ],
   "source": [
    "name= input(\"Write your name :\")"
   ]
  },
  {
   "cell_type": "code",
   "execution_count": 13,
   "id": "a2a43eed",
   "metadata": {},
   "outputs": [
    {
     "name": "stdout",
     "output_type": "stream",
     "text": [
      "Fatos \n"
     ]
    }
   ],
   "source": [
    "print(name)"
   ]
  },
  {
   "cell_type": "code",
   "execution_count": 27,
   "id": "53e65cd7",
   "metadata": {
    "scrolled": true
   },
   "outputs": [
    {
     "name": "stdout",
     "output_type": "stream",
     "text": [
      "Fill in your nameFatos\n",
      "City you live inOslo\n",
      "Welcome Fatosfrom Oslo\n"
     ]
    }
   ],
   "source": [
    "name= input(\"Fill in your name\")\n",
    "city= input(\"City you live in\")\n",
    "print(\"Welcome \" + name + \" from \"+ city)"
   ]
  },
  {
   "cell_type": "code",
   "execution_count": 29,
   "id": "7bd5b1d6",
   "metadata": {},
   "outputs": [
    {
     "name": "stdout",
     "output_type": "stream",
     "text": [
      "Hello,Fatos from Oslo\n"
     ]
    }
   ],
   "source": [
    "print(f\"Hello,{name} from {city}\")"
   ]
  },
  {
   "cell_type": "code",
   "execution_count": 33,
   "id": "40122343",
   "metadata": {},
   "outputs": [
    {
     "name": "stdout",
     "output_type": "stream",
     "text": [
      "Enter your name: FAtos\n",
      "Hello, FAtos. Who are you?\n"
     ]
    }
   ],
   "source": [
    "name = input(\"Enter your name: \")\n",
    "\n",
    "if name == \"Fatos\":\n",
    "    print(\"Hello \" + name)\n",
    "else: \n",
    "    print(f\"Hello, {name}. Who are you?\")\n",
    "    \n"
   ]
  },
  {
   "cell_type": "code",
   "execution_count": 34,
   "id": "8292f8e9",
   "metadata": {},
   "outputs": [
    {
     "name": "stdout",
     "output_type": "stream",
     "text": [
      "Enter first word: Egg\n",
      "Enter second word: chicken\n",
      "Egg comes before chicken\n"
     ]
    }
   ],
   "source": [
    "first = input('Enter first word: ')\n",
    "second = input('Enter second word: ')\n",
    "\n",
    "if first < second:    # if first comes before second in the dictionary...\n",
    "    print(f'{first} comes before {second}')\n",
    "else:\n",
    "    print(f'{second} come')"
   ]
  },
  {
   "cell_type": "code",
   "execution_count": null,
   "id": "fa160b83",
   "metadata": {},
   "outputs": [],
   "source": [
    "name = input('Enter your name: ')\n",
    "\n",
    "if name == 'Fatos':\n",
    "    print('Hello, boss!')\n",
    "    print('It is so great to see you again!')\n",
    "elif name == 'Abrakadabra':\n",
    "    print('That is a very strange name...')\n",
    "else:\n",
    "    print(f'Hello, {name}. Who are you?')"
   ]
  }
 ],
 "metadata": {
  "kernelspec": {
   "display_name": "Python 3 (ipykernel)",
   "language": "python",
   "name": "python3"
  },
  "language_info": {
   "codemirror_mode": {
    "name": "ipython",
    "version": 3
   },
   "file_extension": ".py",
   "mimetype": "text/x-python",
   "name": "python",
   "nbconvert_exporter": "python",
   "pygments_lexer": "ipython3",
   "version": "3.12.3"
  }
 },
 "nbformat": 4,
 "nbformat_minor": 5
}
