{
 "cells": [
  {
   "cell_type": "code",
   "execution_count": 10,
   "id": "06d50ecd",
   "metadata": {},
   "outputs": [
    {
     "name": "stdout",
     "output_type": "stream",
     "text": [
      "Fatos\n"
     ]
    }
   ],
   "source": [
    "name= \"Fatos\"\n",
    "print (name)"
   ]
  },
  {
   "cell_type": "code",
   "execution_count": 11,
   "id": "1bb282b8",
   "metadata": {},
   "outputs": [
    {
     "name": "stdout",
     "output_type": "stream",
     "text": [
      "Enter your name; Fatos\n"
     ]
    },
    {
     "data": {
      "text/plain": [
       "'Fatos'"
      ]
     },
     "execution_count": 11,
     "metadata": {},
     "output_type": "execute_result"
    }
   ],
   "source": [
    "input(\"Enter your name; \")"
   ]
  },
  {
   "cell_type": "code",
   "execution_count": 12,
   "id": "02d349d9",
   "metadata": {},
   "outputs": [
    {
     "name": "stdout",
     "output_type": "stream",
     "text": [
      "Write your name :Fatos \n"
     ]
    }
   ],
   "source": [
    "name= input(\"Write your name :\")"
   ]
  },
  {
   "cell_type": "code",
   "execution_count": 13,
   "id": "92dd69dc",
   "metadata": {},
   "outputs": [
    {
     "name": "stdout",
     "output_type": "stream",
     "text": [
      "Fatos \n"
     ]
    }
   ],
   "source": [
    "print(name)"
   ]
  },
  {
   "cell_type": "code",
   "execution_count": 27,
   "id": "d7aa6d7c",
   "metadata": {
    "scrolled": true
   },
   "outputs": [
    {
     "name": "stdout",
     "output_type": "stream",
     "text": [
      "Fill in your nameFatos\n",
      "City you live inOslo\n",
      "Welcome Fatosfrom Oslo\n"
     ]
    }
   ],
   "source": [
    "name= input(\"Fill in your name\")\n",
    "city= input(\"City you live in\")\n",
    "print(\"Welcome \" + name + \" from \"+ city)"
   ]
  },
  {
   "cell_type": "code",
   "execution_count": 29,
   "id": "ecd32e3b",
   "metadata": {},
   "outputs": [
    {
     "name": "stdout",
     "output_type": "stream",
     "text": [
      "Hello,Fatos from Oslo\n"
     ]
    }
   ],
   "source": [
    "print(f\"Hello,{name} from {city}\")"
   ]
  },
  {
   "cell_type": "code",
   "execution_count": 33,
   "id": "26f7ec1e",
   "metadata": {},
   "outputs": [
    {
     "name": "stdout",
     "output_type": "stream",
     "text": [
      "Enter your name: FAtos\n",
      "Hello, FAtos. Who are you?\n"
     ]
    }
   ],
   "source": [
    "name = input(\"Enter your name: \")\n",
    "\n",
    "if name == \"Fatos\":\n",
    "    print(\"Hello \" + name)\n",
    "else: \n",
    "    print(f\"Hello, {name}. Who are you?\")\n",
    "    \n"
   ]
  },
  {
   "cell_type": "code",
   "execution_count": 34,
   "id": "cfe69563",
   "metadata": {},
   "outputs": [
    {
     "name": "stdout",
     "output_type": "stream",
     "text": [
      "Enter first word: Egg\n",
      "Enter second word: chicken\n",
      "Egg comes before chicken\n"
     ]
    }
   ],
   "source": [
    "first = input('Enter first word: ')\n",
    "second = input('Enter second word: ')\n",
    "\n",
    "if first < second:    # if first comes before second in the dictionary...\n",
    "    print(f'{first} comes before {second}')\n",
    "else:\n",
    "    print(f'{second} come')"
   ]
  },
  {
   "cell_type": "code",
   "execution_count": 44,
   "id": "4eb7b3bd",
   "metadata": {},
   "outputs": [
    {
     "name": "stdout",
     "output_type": "stream",
     "text": [
      "Enter first word: horse\n",
      "Enter second word: horse\n",
      "horse is equal horse\n"
     ]
    }
   ],
   "source": [
    "first = input('Enter first word: ')\n",
    "second = input('Enter second word: ')\n",
    "\n",
    "if first < second:    # if first comes before second in the dictionary...\n",
    "    print(f'{first} comes before {second}')\n",
    "elif first ==second:\n",
    "    print(f\"{first} is equal {second}\")\n",
    "else:\n",
    "\n",
    "    print(f'{second} comes before {first}')"
   ]
  },
  {
   "cell_type": "code",
   "execution_count": 46,
   "id": "98ee6086",
   "metadata": {},
   "outputs": [
    {
     "name": "stdout",
     "output_type": "stream",
     "text": [
      " Yes both are what you want\n"
     ]
    }
   ],
   "source": [
    "x= 10\n",
    "y=20\n",
    "\n",
    "if x==10 and y==20:\n",
    "    print(\" Yes both are what you want\")"
   ]
  },
  {
   "cell_type": "code",
   "execution_count": 48,
   "id": "93ae1066",
   "metadata": {},
   "outputs": [
    {
     "ename": "SyntaxError",
     "evalue": "invalid syntax (3539856187.py, line 4)",
     "output_type": "error",
     "traceback": [
      "\u001b[0;36m  Cell \u001b[0;32mIn[48], line 4\u001b[0;36m\u001b[0m\n\u001b[0;31m    if name == \"Fatos\" and company= \"Cisco\":\u001b[0m\n\u001b[0m                                  ^\u001b[0m\n\u001b[0;31mSyntaxError\u001b[0m\u001b[0;31m:\u001b[0m invalid syntax\n"
     ]
    }
   ],
   "source": [
    "name= input(\"Enter your name: \")\n",
    "company= input(\"Enter the name of the Company: \")\n",
    "\n",
    "if name == \"Fatos\" and company= \"Cisco\":\n",
    "    print(\"you are me\")\n",
    "elif name== \"Fatos\" or company== \"Cisco\":\n",
    "    if name==\"Fatos\":\n",
    "        print(\"you have a nice name\")\n",
    "    else\n",
    "        print(f\"Hi {name}, have a nice day\")\n",
    "else\n",
    "    print(f\"Get out of the building {name}\")"
   ]
  },
  {
   "cell_type": "code",
   "execution_count": null,
   "id": "59a8dd33",
   "metadata": {},
   "outputs": [],
   "source": []
  }
 ],
 "metadata": {
  "kernelspec": {
   "display_name": "Python 3 (ipykernel)",
   "language": "python",
   "name": "python3"
  },
  "language_info": {
   "codemirror_mode": {
    "name": "ipython",
    "version": 3
   },
   "file_extension": ".py",
   "mimetype": "text/x-python",
   "name": "python",
   "nbconvert_exporter": "python",
   "pygments_lexer": "ipython3",
   "version": "3.12.3"
  }
 },
 "nbformat": 4,
 "nbformat_minor": 5
}
