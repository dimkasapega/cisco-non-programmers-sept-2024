{
 "cells": [
  {
   "cell_type": "code",
   "execution_count": 1,
   "id": "73f02094",
   "metadata": {},
   "outputs": [
    {
     "name": "stdout",
     "output_type": "stream",
     "text": [
      "Hello :)\n"
     ]
    }
   ],
   "source": [
    "print(\"Hello :)\")"
   ]
  },
  {
   "cell_type": "code",
   "execution_count": 2,
   "id": "76fa2921",
   "metadata": {},
   "outputs": [
    {
     "name": "stdout",
     "output_type": "stream",
     "text": [
      "7\n"
     ]
    }
   ],
   "source": [
    "# This is how you comment your code\n",
    "print(5+2)\n"
   ]
  },
  {
   "cell_type": "code",
   "execution_count": 4,
   "id": "b05bd20d",
   "metadata": {},
   "outputs": [
    {
     "name": "stdout",
     "output_type": "stream",
     "text": [
      "Hello, World\n"
     ]
    }
   ],
   "source": [
    "print(\"Hello, \" +\"World\")"
   ]
  },
  {
   "cell_type": "code",
   "execution_count": 5,
   "id": "63292daa",
   "metadata": {},
   "outputs": [
    {
     "name": "stdout",
     "output_type": "stream",
     "text": [
      "52\n"
     ]
    }
   ],
   "source": [
    "print(\"5\"+\"2\")"
   ]
  },
  {
   "cell_type": "code",
   "execution_count": null,
   "id": "1748a079",
   "metadata": {},
   "outputs": [],
   "source": [
    "print(\"Your favorite nu\")"
   ]
  }
 ],
 "metadata": {
  "kernelspec": {
   "display_name": "Python 3 (ipykernel)",
   "language": "python",
   "name": "python3"
  },
  "language_info": {
   "codemirror_mode": {
    "name": "ipython",
    "version": 3
   },
   "file_extension": ".py",
   "mimetype": "text/x-python",
   "name": "python",
   "nbconvert_exporter": "python",
   "pygments_lexer": "ipython3",
   "version": "3.12.3"
  }
 },
 "nbformat": 4,
 "nbformat_minor": 5
}
