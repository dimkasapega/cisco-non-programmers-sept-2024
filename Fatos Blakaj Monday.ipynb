{
 "cells": [
  {
   "cell_type": "code",
   "execution_count": 10,
   "id": "a942a491",
   "metadata": {},
   "outputs": [
    {
     "name": "stdout",
     "output_type": "stream",
     "text": [
      "Fatos\n"
     ]
    }
   ],
   "source": [
    "name= \"Fatos\"\n",
    "print (name)"
   ]
  },
  {
   "cell_type": "code",
   "execution_count": 11,
   "id": "da005445",
   "metadata": {},
   "outputs": [
    {
     "name": "stdout",
     "output_type": "stream",
     "text": [
      "Enter your name; Fatos\n"
     ]
    },
    {
     "data": {
      "text/plain": [
       "'Fatos'"
      ]
     },
     "execution_count": 11,
     "metadata": {},
     "output_type": "execute_result"
    }
   ],
   "source": [
    "input(\"Enter your name; \")"
   ]
  },
  {
   "cell_type": "code",
   "execution_count": 12,
   "id": "d41a3116",
   "metadata": {},
   "outputs": [
    {
     "name": "stdout",
     "output_type": "stream",
     "text": [
      "Write your name :Fatos \n"
     ]
    }
   ],
   "source": [
    "name= input(\"Write your name :\")"
   ]
  },
  {
   "cell_type": "code",
   "execution_count": 13,
   "id": "3cbd973d",
   "metadata": {},
   "outputs": [
    {
     "name": "stdout",
     "output_type": "stream",
     "text": [
      "Fatos \n"
     ]
    }
   ],
   "source": [
    "print(name)"
   ]
  },
  {
   "cell_type": "code",
   "execution_count": 27,
   "id": "769a1b23",
   "metadata": {
    "scrolled": true
   },
   "outputs": [
    {
     "name": "stdout",
     "output_type": "stream",
     "text": [
      "Fill in your nameFatos\n",
      "City you live inOslo\n",
      "Welcome Fatosfrom Oslo\n"
     ]
    }
   ],
   "source": [
    "name= input(\"Fill in your name\")\n",
    "city= input(\"City you live in\")\n",
    "print(\"Welcome \" + name + \" from \"+ city)"
   ]
  },
  {
   "cell_type": "code",
   "execution_count": 29,
   "id": "3b1aab34",
   "metadata": {},
   "outputs": [
    {
     "name": "stdout",
     "output_type": "stream",
     "text": [
      "Hello,Fatos from Oslo\n"
     ]
    }
   ],
   "source": [
    "print(f\"Hello,{name} from {city}\")"
   ]
  },
  {
   "cell_type": "code",
   "execution_count": 33,
   "id": "416e577e",
   "metadata": {},
   "outputs": [
    {
     "name": "stdout",
     "output_type": "stream",
     "text": [
      "Enter your name: FAtos\n",
      "Hello, FAtos. Who are you?\n"
     ]
    }
   ],
   "source": [
    "name = input(\"Enter your name: \")\n",
    "\n",
    "if name == \"Fatos\":\n",
    "    print(\"Hello \" + name)\n",
    "else: \n",
    "    print(f\"Hello, {name}. Who are you?\")\n",
    "    \n"
   ]
  },
  {
   "cell_type": "code",
   "execution_count": 34,
   "id": "ca6e7c07",
   "metadata": {},
   "outputs": [
    {
     "name": "stdout",
     "output_type": "stream",
     "text": [
      "Enter first word: Egg\n",
      "Enter second word: chicken\n",
      "Egg comes before chicken\n"
     ]
    }
   ],
   "source": [
    "first = input('Enter first word: ')\n",
    "second = input('Enter second word: ')\n",
    "\n",
    "if first < second:    # if first comes before second in the dictionary...\n",
    "    print(f'{first} comes before {second}')\n",
    "else:\n",
    "    print(f'{second} come')"
   ]
  },
  {
   "cell_type": "code",
   "execution_count": 44,
   "id": "ae74fb80",
   "metadata": {},
   "outputs": [
    {
     "name": "stdout",
     "output_type": "stream",
     "text": [
      "Enter first word: horse\n",
      "Enter second word: horse\n",
      "horse is equal horse\n"
     ]
    }
   ],
   "source": [
    "first = input('Enter first word: ')\n",
    "second = input('Enter second word: ')\n",
    "\n",
    "if first < second:    # if first comes before second in the dictionary...\n",
    "    print(f'{first} comes before {second}')\n",
    "elif first ==second:\n",
    "    print(f\"{first} is equal {second}\")\n",
    "else:\n",
    "\n",
    "    print(f'{second} comes before {first}')"
   ]
  },
  {
   "cell_type": "code",
   "execution_count": 46,
   "id": "187dde80",
   "metadata": {},
   "outputs": [
    {
     "name": "stdout",
     "output_type": "stream",
     "text": [
      " Yes both are what you want\n"
     ]
    }
   ],
   "source": [
    "x= 10\n",
    "y=20\n",
    "\n",
    "if x==10 and y==20:\n",
    "    print(\" Yes both are what you want\")"
   ]
  },
  {
   "cell_type": "code",
   "execution_count": 54,
   "id": "335e2833",
   "metadata": {},
   "outputs": [
    {
     "name": "stdout",
     "output_type": "stream",
     "text": [
      "Enter your name: Jim\n",
      "Enter the name of the Company: Apple\n",
      "Get out of the building Jim\n"
     ]
    }
   ],
   "source": [
    "name= input(\"Enter your name: \")\n",
    "company= input(\"Enter the name of the Company: \")\n",
    "\n",
    "if name == \"Fatos\" and company== \"Cisco\":\n",
    "    print(\"you are me\")\n",
    "elif name== \"Fatos\" or company== \"Cisco\":\n",
    "    if name==\"Fatos\":\n",
    "        print(\"you have a nice name\")\n",
    "    else:\n",
    "        print(f\"Hi {name}, have a nice day\")\n",
    "else:\n",
    "    print(f\"Get out of the building {name}\")"
   ]
  },
  {
   "cell_type": "code",
   "execution_count": 60,
   "id": "e5442e07",
   "metadata": {},
   "outputs": [
    {
     "name": "stdout",
     "output_type": "stream",
     "text": [
      "Guess a number from 0 to 10023\n",
      "To low\n"
     ]
    }
   ],
   "source": [
    "x=37\n",
    "guess=input(\"Guess a number from 0 to 100\")\n",
    "guess=int(guess)\n",
    "if guess==x:\n",
    "    print(\"Congrats you got it\")\n",
    "elif guess>x:\n",
    "    print(\"To highe\")\n",
    "elif guess<x:\n",
    "    print(\"To low\")\n",
    "else :\n",
    "    print(\"Thats it you hade one guess\")\n",
    "    "
   ]
  },
  {
   "cell_type": "code",
   "execution_count": 65,
   "id": "6c7b0905",
   "metadata": {},
   "outputs": [
    {
     "name": "stdout",
     "output_type": "stream",
     "text": [
      "Write a name of a fruitorange\n",
      "Write a inxed number to get the character3\n",
      "n\n"
     ]
    }
   ],
   "source": [
    "text=input(\"Write a name of a fruit\")\n",
    "index=input(\"Write a inxed number to get the character\")\n",
    "index=int(index)\n",
    "if index<0 or index>=len(text)-1:\n",
    "    print(\"beyond the bounds of string\")\n",
    "else:\n",
    "    print(text[index])"
   ]
  },
  {
   "cell_type": "code",
   "execution_count": 72,
   "id": "1c147e7f",
   "metadata": {},
   "outputs": [
    {
     "name": "stdout",
     "output_type": "stream",
     "text": [
      "Write a word to be translatedZEWVBRA\n",
      "ZEWVBRAway\n"
     ]
    }
   ],
   "source": [
    "word=input(\"Write a word to be translated\")\n",
    "if word[0]==\"a\" or \"e\" or \"i\" or \"o\" or \"u\":\n",
    "    print(word + \"way\")\n",
    "else:\n",
    "    translated=word+ay\n",
    "    print(translated)\n",
    "\n"
   ]
  },
  {
   "cell_type": "code",
   "execution_count": null,
   "id": "7ac2420c",
   "metadata": {},
   "outputs": [],
   "source": [
    "word= input(\"Enter a word: \")\n",
    "if word[0]= in \"aeiou\""
   ]
  }
 ],
 "metadata": {
  "kernelspec": {
   "display_name": "Python 3 (ipykernel)",
   "language": "python",
   "name": "python3"
  },
  "language_info": {
   "codemirror_mode": {
    "name": "ipython",
    "version": 3
   },
   "file_extension": ".py",
   "mimetype": "text/x-python",
   "name": "python",
   "nbconvert_exporter": "python",
   "pygments_lexer": "ipython3",
   "version": "3.12.3"
  }
 },
 "nbformat": 4,
 "nbformat_minor": 5
}
