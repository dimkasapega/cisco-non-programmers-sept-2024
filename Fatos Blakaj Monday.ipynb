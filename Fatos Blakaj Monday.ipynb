{
 "cells": [
  {
   "cell_type": "code",
   "execution_count": 10,
   "id": "38c988b9",
   "metadata": {},
   "outputs": [
    {
     "name": "stdout",
     "output_type": "stream",
     "text": [
      "Fatos\n"
     ]
    }
   ],
   "source": [
    "name= \"Fatos\"\n",
    "print (name)"
   ]
  },
  {
   "cell_type": "code",
   "execution_count": 11,
   "id": "4845db85",
   "metadata": {},
   "outputs": [
    {
     "name": "stdout",
     "output_type": "stream",
     "text": [
      "Enter your name; Fatos\n"
     ]
    },
    {
     "data": {
      "text/plain": [
       "'Fatos'"
      ]
     },
     "execution_count": 11,
     "metadata": {},
     "output_type": "execute_result"
    }
   ],
   "source": [
    "input(\"Enter your name; \")"
   ]
  },
  {
   "cell_type": "code",
   "execution_count": 12,
   "id": "3ba97a25",
   "metadata": {},
   "outputs": [
    {
     "name": "stdout",
     "output_type": "stream",
     "text": [
      "Write your name :Fatos \n"
     ]
    }
   ],
   "source": [
    "name= input(\"Write your name :\")"
   ]
  },
  {
   "cell_type": "code",
   "execution_count": 13,
   "id": "8462fd3b",
   "metadata": {},
   "outputs": [
    {
     "name": "stdout",
     "output_type": "stream",
     "text": [
      "Fatos \n"
     ]
    }
   ],
   "source": [
    "print(name)"
   ]
  },
  {
   "cell_type": "code",
   "execution_count": 27,
   "id": "92e4bea6",
   "metadata": {
    "scrolled": true
   },
   "outputs": [
    {
     "name": "stdout",
     "output_type": "stream",
     "text": [
      "Fill in your nameFatos\n",
      "City you live inOslo\n",
      "Welcome Fatosfrom Oslo\n"
     ]
    }
   ],
   "source": [
    "name= input(\"Fill in your name\")\n",
    "city= input(\"City you live in\")\n",
    "print(\"Welcome \" + name + \" from \"+ city)"
   ]
  },
  {
   "cell_type": "code",
   "execution_count": 29,
   "id": "8c8671cf",
   "metadata": {},
   "outputs": [
    {
     "name": "stdout",
     "output_type": "stream",
     "text": [
      "Hello,Fatos from Oslo\n"
     ]
    }
   ],
   "source": [
    "print(f\"Hello,{name} from {city}\")"
   ]
  },
  {
   "cell_type": "code",
   "execution_count": 33,
   "id": "e6d6c515",
   "metadata": {},
   "outputs": [
    {
     "name": "stdout",
     "output_type": "stream",
     "text": [
      "Enter your name: FAtos\n",
      "Hello, FAtos. Who are you?\n"
     ]
    }
   ],
   "source": [
    "name = input(\"Enter your name: \")\n",
    "\n",
    "if name == \"Fatos\":\n",
    "    print(\"Hello \" + name)\n",
    "else: \n",
    "    print(f\"Hello, {name}. Who are you?\")\n",
    "    \n"
   ]
  },
  {
   "cell_type": "code",
   "execution_count": 34,
   "id": "d4312678",
   "metadata": {},
   "outputs": [
    {
     "name": "stdout",
     "output_type": "stream",
     "text": [
      "Enter first word: Egg\n",
      "Enter second word: chicken\n",
      "Egg comes before chicken\n"
     ]
    }
   ],
   "source": [
    "first = input('Enter first word: ')\n",
    "second = input('Enter second word: ')\n",
    "\n",
    "if first < second:    # if first comes before second in the dictionary...\n",
    "    print(f'{first} comes before {second}')\n",
    "else:\n",
    "    print(f'{second} come')"
   ]
  },
  {
   "cell_type": "code",
   "execution_count": 44,
   "id": "5fc3d01f",
   "metadata": {},
   "outputs": [
    {
     "name": "stdout",
     "output_type": "stream",
     "text": [
      "Enter first word: horse\n",
      "Enter second word: horse\n",
      "horse is equal horse\n"
     ]
    }
   ],
   "source": [
    "first = input('Enter first word: ')\n",
    "second = input('Enter second word: ')\n",
    "\n",
    "if first < second:    # if first comes before second in the dictionary...\n",
    "    print(f'{first} comes before {second}')\n",
    "elif first ==second:\n",
    "    print(f\"{first} is equal {second}\")\n",
    "else:\n",
    "\n",
    "    print(f'{second} comes before {first}')"
   ]
  },
  {
   "cell_type": "code",
   "execution_count": 46,
   "id": "23da9aa9",
   "metadata": {},
   "outputs": [
    {
     "name": "stdout",
     "output_type": "stream",
     "text": [
      " Yes both are what you want\n"
     ]
    }
   ],
   "source": [
    "x= 10\n",
    "y=20\n",
    "\n",
    "if x==10 and y==20:\n",
    "    print(\" Yes both are what you want\")"
   ]
  },
  {
   "cell_type": "code",
   "execution_count": 54,
   "id": "7134d54f",
   "metadata": {},
   "outputs": [
    {
     "name": "stdout",
     "output_type": "stream",
     "text": [
      "Enter your name: Jim\n",
      "Enter the name of the Company: Apple\n",
      "Get out of the building Jim\n"
     ]
    }
   ],
   "source": [
    "name= input(\"Enter your name: \")\n",
    "company= input(\"Enter the name of the Company: \")\n",
    "\n",
    "if name == \"Fatos\" and company== \"Cisco\":\n",
    "    print(\"you are me\")\n",
    "elif name== \"Fatos\" or company== \"Cisco\":\n",
    "    if name==\"Fatos\":\n",
    "        print(\"you have a nice name\")\n",
    "    else:\n",
    "        print(f\"Hi {name}, have a nice day\")\n",
    "else:\n",
    "    print(f\"Get out of the building {name}\")"
   ]
  },
  {
   "cell_type": "code",
   "execution_count": null,
   "id": "1fc054a6",
   "metadata": {},
   "outputs": [],
   "source": [
    "x=37\n",
    "guess=input(\"Guess a number from 0 to 100\")\n",
    "if guess==x:\n",
    "    print(\"Congrats you got it\")\n",
    "elif guess>x:\n",
    "    print(\"To highe\")\n",
    "elif guess<x:\n",
    "    print(\"To low\")\n",
    "else :\n",
    "    print(\"Thats it you hade one guess\")\n",
    "    "
   ]
  },
  {
   "cell_type": "code",
   "execution_count": null,
   "id": "54222fc4",
   "metadata": {},
   "outputs": [],
   "source": []
  }
 ],
 "metadata": {
  "kernelspec": {
   "display_name": "Python 3 (ipykernel)",
   "language": "python",
   "name": "python3"
  },
  "language_info": {
   "codemirror_mode": {
    "name": "ipython",
    "version": 3
   },
   "file_extension": ".py",
   "mimetype": "text/x-python",
   "name": "python",
   "nbconvert_exporter": "python",
   "pygments_lexer": "ipython3",
   "version": "3.12.3"
  }
 },
 "nbformat": 4,
 "nbformat_minor": 5
}
