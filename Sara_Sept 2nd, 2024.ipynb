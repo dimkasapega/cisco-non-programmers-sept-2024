{
 "cells": [
  {
   "cell_type": "code",
   "execution_count": 1,
   "id": "df970606",
   "metadata": {},
   "outputs": [
    {
     "name": "stdout",
     "output_type": "stream",
     "text": [
      "hello\n"
     ]
    }
   ],
   "source": [
    "print('hello') "
   ]
  },
  {
   "cell_type": "code",
   "execution_count": 2,
   "id": "f04b6800",
   "metadata": {},
   "outputs": [],
   "source": [
    "#comment "
   ]
  },
  {
   "cell_type": "code",
   "execution_count": 3,
   "id": "3600c611",
   "metadata": {},
   "outputs": [
    {
     "ename": "NameError",
     "evalue": "name 'name' is not defined",
     "output_type": "error",
     "traceback": [
      "\u001b[0;31m---------------------------------------------------------------------------\u001b[0m",
      "\u001b[0;31mNameError\u001b[0m                                 Traceback (most recent call last)",
      "Cell \u001b[0;32mIn[3], line 1\u001b[0m\n\u001b[0;32m----> 1\u001b[0m \u001b[38;5;28mprint\u001b[39m(\u001b[38;5;124m'\u001b[39m\u001b[38;5;124mHello, \u001b[39m\u001b[38;5;124m'\u001b[39m \u001b[38;5;241m+\u001b[39m\u001b[43mname\u001b[49m)\n",
      "\u001b[0;31mNameError\u001b[0m: name 'name' is not defined"
     ]
    }
   ],
   "source": [
    "print('Hello, ' +name)"
   ]
  },
  {
   "cell_type": "code",
   "execution_count": 4,
   "id": "3dbd108f",
   "metadata": {},
   "outputs": [
    {
     "ename": "SyntaxError",
     "evalue": "invalid syntax (470501285.py, line 1)",
     "output_type": "error",
     "traceback": [
      "\u001b[0;36m  Cell \u001b[0;32mIn[4], line 1\u001b[0;36m\u001b[0m\n\u001b[0;31m    name = \"Sara\" print('Hello, ' +name)\u001b[0m\n\u001b[0m                  ^\u001b[0m\n\u001b[0;31mSyntaxError\u001b[0m\u001b[0;31m:\u001b[0m invalid syntax\n"
     ]
    }
   ],
   "source": [
    "name = \"Sara\" print('Hello, ' +name)"
   ]
  },
  {
   "cell_type": "code",
   "execution_count": 6,
   "id": "7744694b",
   "metadata": {},
   "outputs": [
    {
     "name": "stdout",
     "output_type": "stream",
     "text": [
      "Hello, Sara\n"
     ]
    }
   ],
   "source": [
    "name = \"Sara\" \n",
    "print('Hello, ' +name)"
   ]
  },
  {
   "cell_type": "markdown",
   "id": "b293c2a3",
   "metadata": {},
   "source": [
    "## Bigger headline"
   ]
  },
  {
   "cell_type": "code",
   "execution_count": 7,
   "id": "0d6dbfc2",
   "metadata": {},
   "outputs": [
    {
     "name": "stdout",
     "output_type": "stream",
     "text": [
      "enter your name: Sara\n"
     ]
    },
    {
     "data": {
      "text/plain": [
       "'Sara'"
      ]
     },
     "execution_count": 7,
     "metadata": {},
     "output_type": "execute_result"
    }
   ],
   "source": [
    "input('enter your name: ')"
   ]
  },
  {
   "cell_type": "code",
   "execution_count": 8,
   "id": "5d0a8f09",
   "metadata": {},
   "outputs": [
    {
     "name": "stdout",
     "output_type": "stream",
     "text": [
      "enter your name: Sara\n"
     ]
    }
   ],
   "source": [
    "name=input (\"enter your name: \")"
   ]
  },
  {
   "cell_type": "code",
   "execution_count": 9,
   "id": "77fa3202",
   "metadata": {},
   "outputs": [
    {
     "name": "stdout",
     "output_type": "stream",
     "text": [
      "Hello, Sara!\n"
     ]
    }
   ],
   "source": [
    "print('Hello, ' +name + '!')"
   ]
  },
  {
   "cell_type": "code",
   "execution_count": 10,
   "id": "7e67c596",
   "metadata": {},
   "outputs": [
    {
     "name": "stdout",
     "output_type": "stream",
     "text": [
      "Enter a number: 10\n",
      "Enter a second number: 15\n",
      "1015\n"
     ]
    }
   ],
   "source": [
    "x=input (\"Enter a number: \")\n",
    "y=input ('Enter a second number: ')\n",
    "print (x+y)"
   ]
  },
  {
   "cell_type": "code",
   "execution_count": 13,
   "id": "3ece5da2",
   "metadata": {},
   "outputs": [
    {
     "name": "stdout",
     "output_type": "stream",
     "text": [
      "Enter your name: Sara\n",
      "What is your city: Krakow\n",
      "Hello, dear Sara from Krakow!\n"
     ]
    }
   ],
   "source": [
    "x=input (\"Enter your name: \")\n",
    "y=input ('What is your city: ')\n",
    "print (\"Hello, dear \" + x + \" from \" + y + \"!\")\n"
   ]
  },
  {
   "cell_type": "code",
   "execution_count": 15,
   "id": "c1e3d1fd",
   "metadata": {},
   "outputs": [
    {
     "ename": "NameError",
     "evalue": "name 'city' is not defined",
     "output_type": "error",
     "traceback": [
      "\u001b[0;31m---------------------------------------------------------------------------\u001b[0m",
      "\u001b[0;31mNameError\u001b[0m                                 Traceback (most recent call last)",
      "Cell \u001b[0;32mIn[15], line 1\u001b[0m\n\u001b[0;32m----> 1\u001b[0m \u001b[38;5;28mprint\u001b[39m(\u001b[38;5;124mf\u001b[39m\u001b[38;5;124m\"\u001b[39m\u001b[38;5;124mHello, \u001b[39m\u001b[38;5;132;01m{\u001b[39;00mname\u001b[38;5;132;01m}\u001b[39;00m\u001b[38;5;124m from \u001b[39m\u001b[38;5;132;01m{\u001b[39;00m\u001b[43mcity\u001b[49m\u001b[38;5;132;01m}\u001b[39;00m\u001b[38;5;124m.\u001b[39m\u001b[38;5;124m\"\u001b[39m)\n",
      "\u001b[0;31mNameError\u001b[0m: name 'city' is not defined"
     ]
    }
   ],
   "source": [
    "print(f\"Hello, {name} from {city}.\")\n",
    "\n"
   ]
  },
  {
   "cell_type": "code",
   "execution_count": 16,
   "id": "9080346f",
   "metadata": {},
   "outputs": [
    {
     "name": "stdout",
     "output_type": "stream",
     "text": [
      "Sara + Krakow = SaraKrakow\n"
     ]
    }
   ],
   "source": [
    "print(f'{x} + {y} = {x+y}')\n"
   ]
  },
  {
   "cell_type": "code",
   "execution_count": 17,
   "id": "a529ee08",
   "metadata": {},
   "outputs": [
    {
     "name": "stdout",
     "output_type": "stream",
     "text": [
      "Enter your name: Sara\n",
      "What is your city: Krakow\n"
     ]
    }
   ],
   "source": [
    "name=input (\"Enter your name: \")\n",
    "city=input ('What is your city: ')"
   ]
  },
  {
   "cell_type": "code",
   "execution_count": 18,
   "id": "7d2ca73a",
   "metadata": {},
   "outputs": [
    {
     "name": "stdout",
     "output_type": "stream",
     "text": [
      "Hello, Sara from Krakow.\n"
     ]
    }
   ],
   "source": [
    "print(f\"Hello, {name} from {city}.\")"
   ]
  },
  {
   "cell_type": "code",
   "execution_count": 19,
   "id": "93de780c",
   "metadata": {},
   "outputs": [
    {
     "name": "stdout",
     "output_type": "stream",
     "text": [
      "Enter your name: Sara\n",
      "Hello, Sara. Who are you?\n"
     ]
    }
   ],
   "source": [
    "name = input('Enter your name: ')\n",
    "\n",
    "if name == 'Reuven':\n",
    "    print('Hello, boss!')\n",
    "    print('It is so great to see you again!')\n",
    "else:\n",
    "    print(f'Hello, {name}. Who are you?')"
   ]
  },
  {
   "cell_type": "code",
   "execution_count": 24,
   "id": "1766b66a",
   "metadata": {},
   "outputs": [
    {
     "name": "stdout",
     "output_type": "stream",
     "text": [
      "Enter a word: kot\n",
      "Enter another word: pies\n",
      "word2 comes first\n"
     ]
    }
   ],
   "source": [
    "word1 = input('Enter a word: ')\n",
    "word2 = input('Enter another word: ')\n",
    "if word1>word2:\n",
    "    print(f'{word1} comes first')\n",
    "else:\n",
    "    print(f'word2 comes first')"
   ]
  },
  {
   "cell_type": "code",
   "execution_count": null,
   "id": "96897ee1",
   "metadata": {},
   "outputs": [],
   "source": []
  }
 ],
 "metadata": {
  "kernelspec": {
   "display_name": "Python 3 (ipykernel)",
   "language": "python",
   "name": "python3"
  },
  "language_info": {
   "codemirror_mode": {
    "name": "ipython",
    "version": 3
   },
   "file_extension": ".py",
   "mimetype": "text/x-python",
   "name": "python",
   "nbconvert_exporter": "python",
   "pygments_lexer": "ipython3",
   "version": "3.12.3"
  }
 },
 "nbformat": 4,
 "nbformat_minor": 5
}
