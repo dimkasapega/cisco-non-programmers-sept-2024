{
 "cells": [
  {
   "cell_type": "code",
   "execution_count": 1,
   "id": "f650a987",
   "metadata": {},
   "outputs": [
    {
     "name": "stdout",
     "output_type": "stream",
     "text": [
      "hello\n"
     ]
    }
   ],
   "source": [
    "print('hello') "
   ]
  },
  {
   "cell_type": "code",
   "execution_count": 2,
   "id": "43c7ece1",
   "metadata": {},
   "outputs": [],
   "source": [
    "#comment "
   ]
  },
  {
   "cell_type": "code",
   "execution_count": 3,
   "id": "0a28e3bf",
   "metadata": {},
   "outputs": [
    {
     "ename": "NameError",
     "evalue": "name 'name' is not defined",
     "output_type": "error",
     "traceback": [
      "\u001b[0;31m---------------------------------------------------------------------------\u001b[0m",
      "\u001b[0;31mNameError\u001b[0m                                 Traceback (most recent call last)",
      "Cell \u001b[0;32mIn[3], line 1\u001b[0m\n\u001b[0;32m----> 1\u001b[0m \u001b[38;5;28mprint\u001b[39m(\u001b[38;5;124m'\u001b[39m\u001b[38;5;124mHello, \u001b[39m\u001b[38;5;124m'\u001b[39m \u001b[38;5;241m+\u001b[39m\u001b[43mname\u001b[49m)\n",
      "\u001b[0;31mNameError\u001b[0m: name 'name' is not defined"
     ]
    }
   ],
   "source": [
    "print('Hello, ' +name)"
   ]
  },
  {
   "cell_type": "code",
   "execution_count": 4,
   "id": "26859409",
   "metadata": {},
   "outputs": [
    {
     "ename": "SyntaxError",
     "evalue": "invalid syntax (470501285.py, line 1)",
     "output_type": "error",
     "traceback": [
      "\u001b[0;36m  Cell \u001b[0;32mIn[4], line 1\u001b[0;36m\u001b[0m\n\u001b[0;31m    name = \"Sara\" print('Hello, ' +name)\u001b[0m\n\u001b[0m                  ^\u001b[0m\n\u001b[0;31mSyntaxError\u001b[0m\u001b[0;31m:\u001b[0m invalid syntax\n"
     ]
    }
   ],
   "source": [
    "name = \"Sara\" print('Hello, ' +name)"
   ]
  },
  {
   "cell_type": "code",
   "execution_count": 6,
   "id": "044df42e",
   "metadata": {},
   "outputs": [
    {
     "name": "stdout",
     "output_type": "stream",
     "text": [
      "Hello, Sara\n"
     ]
    }
   ],
   "source": [
    "name = \"Sara\" \n",
    "print('Hello, ' +name)"
   ]
  },
  {
   "cell_type": "markdown",
   "id": "eefd3b2e",
   "metadata": {},
   "source": [
    "## Bigger headline"
   ]
  },
  {
   "cell_type": "code",
   "execution_count": 7,
   "id": "11966a26",
   "metadata": {},
   "outputs": [
    {
     "name": "stdout",
     "output_type": "stream",
     "text": [
      "enter your name: Sara\n"
     ]
    },
    {
     "data": {
      "text/plain": [
       "'Sara'"
      ]
     },
     "execution_count": 7,
     "metadata": {},
     "output_type": "execute_result"
    }
   ],
   "source": [
    "input('enter your name: ')"
   ]
  },
  {
   "cell_type": "code",
   "execution_count": 8,
   "id": "4b95260c",
   "metadata": {},
   "outputs": [
    {
     "name": "stdout",
     "output_type": "stream",
     "text": [
      "enter your name: Sara\n"
     ]
    }
   ],
   "source": [
    "name=input (\"enter your name: \")"
   ]
  },
  {
   "cell_type": "code",
   "execution_count": 9,
   "id": "e465e24d",
   "metadata": {},
   "outputs": [
    {
     "name": "stdout",
     "output_type": "stream",
     "text": [
      "Hello, Sara!\n"
     ]
    }
   ],
   "source": [
    "print('Hello, ' +name + '!')"
   ]
  },
  {
   "cell_type": "code",
   "execution_count": 10,
   "id": "4573657a",
   "metadata": {},
   "outputs": [
    {
     "name": "stdout",
     "output_type": "stream",
     "text": [
      "Enter a number: 10\n",
      "Enter a second number: 15\n",
      "1015\n"
     ]
    }
   ],
   "source": [
    "x=input (\"Enter a number: \")\n",
    "y=input ('Enter a second number: ')\n",
    "print (x+y)"
   ]
  },
  {
   "cell_type": "code",
   "execution_count": 13,
   "id": "a5ac6ffd",
   "metadata": {},
   "outputs": [
    {
     "name": "stdout",
     "output_type": "stream",
     "text": [
      "Enter your name: Sara\n",
      "What is your city: Krakow\n",
      "Hello, dear Sara from Krakow!\n"
     ]
    }
   ],
   "source": [
    "x=input (\"Enter your name: \")\n",
    "y=input ('What is your city: ')\n",
    "print (\"Hello, dear \" + x + \" from \" + y + \"!\")\n"
   ]
  },
  {
   "cell_type": "code",
   "execution_count": 15,
   "id": "5f6fb33a",
   "metadata": {},
   "outputs": [
    {
     "ename": "NameError",
     "evalue": "name 'city' is not defined",
     "output_type": "error",
     "traceback": [
      "\u001b[0;31m---------------------------------------------------------------------------\u001b[0m",
      "\u001b[0;31mNameError\u001b[0m                                 Traceback (most recent call last)",
      "Cell \u001b[0;32mIn[15], line 1\u001b[0m\n\u001b[0;32m----> 1\u001b[0m \u001b[38;5;28mprint\u001b[39m(\u001b[38;5;124mf\u001b[39m\u001b[38;5;124m\"\u001b[39m\u001b[38;5;124mHello, \u001b[39m\u001b[38;5;132;01m{\u001b[39;00mname\u001b[38;5;132;01m}\u001b[39;00m\u001b[38;5;124m from \u001b[39m\u001b[38;5;132;01m{\u001b[39;00m\u001b[43mcity\u001b[49m\u001b[38;5;132;01m}\u001b[39;00m\u001b[38;5;124m.\u001b[39m\u001b[38;5;124m\"\u001b[39m)\n",
      "\u001b[0;31mNameError\u001b[0m: name 'city' is not defined"
     ]
    }
   ],
   "source": [
    "print(f\"Hello, {name} from {city}.\")\n",
    "\n"
   ]
  },
  {
   "cell_type": "code",
   "execution_count": 16,
   "id": "e408ae8d",
   "metadata": {},
   "outputs": [
    {
     "name": "stdout",
     "output_type": "stream",
     "text": [
      "Sara + Krakow = SaraKrakow\n"
     ]
    }
   ],
   "source": [
    "print(f'{x} + {y} = {x+y}')\n"
   ]
  },
  {
   "cell_type": "code",
   "execution_count": 17,
   "id": "493fc1e7",
   "metadata": {},
   "outputs": [
    {
     "name": "stdout",
     "output_type": "stream",
     "text": [
      "Enter your name: Sara\n",
      "What is your city: Krakow\n"
     ]
    }
   ],
   "source": [
    "name=input (\"Enter your name: \")\n",
    "city=input ('What is your city: ')"
   ]
  },
  {
   "cell_type": "code",
   "execution_count": 18,
   "id": "51ada437",
   "metadata": {},
   "outputs": [
    {
     "name": "stdout",
     "output_type": "stream",
     "text": [
      "Hello, Sara from Krakow.\n"
     ]
    }
   ],
   "source": [
    "print(f\"Hello, {name} from {city}.\")"
   ]
  },
  {
   "cell_type": "code",
   "execution_count": 19,
   "id": "b4b7fceb",
   "metadata": {},
   "outputs": [
    {
     "name": "stdout",
     "output_type": "stream",
     "text": [
      "Enter your name: Sara\n",
      "Hello, Sara. Who are you?\n"
     ]
    }
   ],
   "source": [
    "name = input('Enter your name: ')\n",
    "\n",
    "if name == 'Reuven':\n",
    "    print('Hello, boss!')\n",
    "    print('It is so great to see you again!')\n",
    "else:\n",
    "    print(f'Hello, {name}. Who are you?')"
   ]
  },
  {
   "cell_type": "code",
   "execution_count": 26,
   "id": "d9558077",
   "metadata": {},
   "outputs": [
    {
     "name": "stdout",
     "output_type": "stream",
     "text": [
      "Enter a word: kot\n",
      "Enter another word: pies\n",
      "kot comes first\n"
     ]
    }
   ],
   "source": [
    "word1 = input('Enter a word: ')\n",
    "word2 = input('Enter another word: ')\n",
    "if word1<word2:\n",
    "    print(f'{word1} comes first')\n",
    "else:\n",
    "    print(f'{word2} comes first')"
   ]
  },
  {
   "cell_type": "code",
   "execution_count": 27,
   "id": "accb1676",
   "metadata": {},
   "outputs": [
    {
     "ename": "SyntaxError",
     "evalue": "expected ':' (658077376.py, line 5)",
     "output_type": "error",
     "traceback": [
      "\u001b[0;36m  Cell \u001b[0;32mIn[27], line 5\u001b[0;36m\u001b[0m\n\u001b[0;31m    elif word1==word2\u001b[0m\n\u001b[0m                         ^\u001b[0m\n\u001b[0;31mSyntaxError\u001b[0m\u001b[0;31m:\u001b[0m expected ':'\n"
     ]
    }
   ],
   "source": [
    "word1 = input('Enter a word: ')\n",
    "word2 = input('Enter another word: ')\n",
    "if word1<word2:\n",
    "    print(f'{word1} comes first')\n",
    "elif word1==word2    \n",
    "else:\n",
    "    print(f'{word2} comes first')"
   ]
  },
  {
   "cell_type": "code",
   "execution_count": 30,
   "id": "bc7c5a9d",
   "metadata": {},
   "outputs": [
    {
     "name": "stdout",
     "output_type": "stream",
     "text": [
      "Enter a word: kot\n",
      "Enter another word: kot\n",
      "these are the same\n"
     ]
    }
   ],
   "source": [
    "word1 = input('Enter a word: ')\n",
    "word2 = input('Enter another word: ')\n",
    "if word1<word2:\n",
    "    print(f'{word1} comes first')\n",
    "elif word1==word2: \n",
    "    print('These are the same. Would you like to compare diffrent words?')\n",
    "else:\n",
    "    print(f'{word2} comes first')"
   ]
  },
  {
   "cell_type": "code",
   "execution_count": 31,
   "id": "74359cd0",
   "metadata": {},
   "outputs": [
    {
     "ename": "SyntaxError",
     "evalue": "invalid syntax. Maybe you meant '==' or ':=' instead of '='? (3947056346.py, line 3)",
     "output_type": "error",
     "traceback": [
      "\u001b[0;36m  Cell \u001b[0;32mIn[31], line 3\u001b[0;36m\u001b[0m\n\u001b[0;31m    if name='Sara':\u001b[0m\n\u001b[0m       ^\u001b[0m\n\u001b[0;31mSyntaxError\u001b[0m\u001b[0;31m:\u001b[0m invalid syntax. Maybe you meant '==' or ':=' instead of '='?\n"
     ]
    }
   ],
   "source": [
    "name = input('What is your name? ')\n",
    "company = input('What company do you work for? ')\n",
    "if name='Sara':\n",
    "    print(f 'Hi, {Sara}')\n",
    "elif word1==word2: \n",
    "    print('These are the same. Would you like to compare diffrent words?')\n",
    "else:\n",
    "    print(f'{word2} comes first')"
   ]
  },
  {
   "cell_type": "code",
   "execution_count": 55,
   "id": "581e50e9",
   "metadata": {},
   "outputs": [
    {
     "name": "stdout",
     "output_type": "stream",
     "text": [
      "What is your name? anita\n",
      "What company do you work for? cisco\n",
      "That is me!\n"
     ]
    }
   ],
   "source": [
    "name = input('What is your name? ')\n",
    "company = input('What company do you work for? ')\n",
    "\n",
    "if (name=='Sara'or name=='sara'\n",
    "    and company=='Cisco'or company=='cisco'):\n",
    "    print('That is me!')\n",
    "elif (name=='Sara'or name=='sara'\n",
    "    and company!='Cisco'or company!='cisco'):\n",
    "    print ('Hi, Sara!')\n",
    "elif company=='Cisco' or company=='cisco': \n",
    "    print('Hi, we are collegues!')\n",
    "else:\n",
    "    print('Oh, you?!')"
   ]
  },
  {
   "cell_type": "code",
   "execution_count": 61,
   "id": "44b44827",
   "metadata": {},
   "outputs": [
    {
     "name": "stdout",
     "output_type": "stream",
     "text": [
      "What is your name? anita\n",
      "What company do you work for? cisco\n",
      "Hi, we are collegues!\n"
     ]
    }
   ],
   "source": [
    "name = input('What is your name? ')\n",
    "company = input('What company do you work for? ')\n",
    "\n",
    "if ((name=='Sara' or name=='sara')\n",
    "    and (company=='Cisco'or company=='cisco')):\n",
    "    print('That is me!')\n",
    "elif name=='Sara'or name=='sara':\n",
    "    print ('Hi, Sara!')\n",
    "elif company=='Cisco' or company=='cisco': \n",
    "    print('Hi, we are collegues!')\n",
    "else:\n",
    "    print('Oh, you?!')"
   ]
  },
  {
   "cell_type": "code",
   "execution_count": 64,
   "id": "75ebfd70",
   "metadata": {},
   "outputs": [
    {
     "name": "stdout",
     "output_type": "stream",
     "text": [
      "Chose a number between 0 and 204\n"
     ]
    },
    {
     "ename": "TypeError",
     "evalue": "'>' not supported between instances of 'str' and 'int'",
     "output_type": "error",
     "traceback": [
      "\u001b[0;31m---------------------------------------------------------------------------\u001b[0m",
      "\u001b[0;31mTypeError\u001b[0m                                 Traceback (most recent call last)",
      "Cell \u001b[0;32mIn[64], line 5\u001b[0m\n\u001b[1;32m      3\u001b[0m \u001b[38;5;28;01mif\u001b[39;00m guess\u001b[38;5;241m==\u001b[39mnumber:\n\u001b[1;32m      4\u001b[0m     \u001b[38;5;28mprint\u001b[39m(\u001b[38;5;124m'\u001b[39m\u001b[38;5;124mGood guess!\u001b[39m\u001b[38;5;124m'\u001b[39m)\n\u001b[0;32m----> 5\u001b[0m \u001b[38;5;28;01melif\u001b[39;00m \u001b[43mguess\u001b[49m\u001b[38;5;241;43m>\u001b[39;49m\u001b[43mnumber\u001b[49m:\n\u001b[1;32m      6\u001b[0m     \u001b[38;5;28mprint\u001b[39m(\u001b[38;5;124m'\u001b[39m\u001b[38;5;124mToo high\u001b[39m\u001b[38;5;124m'\u001b[39m)\n\u001b[1;32m      7\u001b[0m \u001b[38;5;28;01melse\u001b[39;00m:  \n",
      "\u001b[0;31mTypeError\u001b[0m: '>' not supported between instances of 'str' and 'int'"
     ]
    }
   ],
   "source": [
    "number = 5\n",
    "guess = input('Chose a number between 0 and 20')\n",
    "if guess==number:\n",
    "    print('Good guess!')\n",
    "elif guess > number:\n",
    "    print('Too high')\n",
    "else:  \n",
    "    print('Too low')"
   ]
  },
  {
   "cell_type": "code",
   "execution_count": null,
   "id": "658067be",
   "metadata": {},
   "outputs": [],
   "source": []
  }
 ],
 "metadata": {
  "kernelspec": {
   "display_name": "Python 3 (ipykernel)",
   "language": "python",
   "name": "python3"
  },
  "language_info": {
   "codemirror_mode": {
    "name": "ipython",
    "version": 3
   },
   "file_extension": ".py",
   "mimetype": "text/x-python",
   "name": "python",
   "nbconvert_exporter": "python",
   "pygments_lexer": "ipython3",
   "version": "3.12.3"
  }
 },
 "nbformat": 4,
 "nbformat_minor": 5
}
