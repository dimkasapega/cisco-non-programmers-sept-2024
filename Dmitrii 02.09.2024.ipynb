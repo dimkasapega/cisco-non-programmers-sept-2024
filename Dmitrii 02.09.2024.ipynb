{
 "cells": [
  {
   "cell_type": "code",
   "execution_count": 1,
   "id": "6a8ab1aa",
   "metadata": {},
   "outputs": [
    {
     "name": "stdout",
     "output_type": "stream",
     "text": [
      "Hello there!\n"
     ]
    }
   ],
   "source": [
    "print ('Hello there!')"
   ]
  },
  {
   "cell_type": "code",
   "execution_count": 3,
   "id": "7e581719",
   "metadata": {},
   "outputs": [
    {
     "name": "stdout",
     "output_type": "stream",
     "text": [
      "Hellothere\n"
     ]
    }
   ],
   "source": [
    "print (\"Hello\"+'there')"
   ]
  },
  {
   "cell_type": "code",
   "execution_count": 21,
   "id": "c59921e8",
   "metadata": {},
   "outputs": [
    {
     "name": "stdout",
     "output_type": "stream",
     "text": [
      "HEllo, Dmitrii!\n",
      "250\n"
     ]
    }
   ],
   "source": [
    "x = 10\n",
    "y = 25\n",
    "name = 'Dmitrii'\n",
    "print ('HEllo, ' + name + '!') #print hello name\n",
    "print(x*y)"
   ]
  },
  {
   "cell_type": "code",
   "execution_count": 58,
   "id": "647262ac",
   "metadata": {},
   "outputs": [
    {
     "name": "stdout",
     "output_type": "stream",
     "text": [
      "Enter Name: Dima\n",
      "Enter City: Krakow\n",
      "Enter number: 5\n",
      "Hello Dima who are you?\n"
     ]
    }
   ],
   "source": []
  },
  {
   "cell_type": "code",
   "execution_count": 18,
   "id": "d86d9e09",
   "metadata": {},
   "outputs": [
    {
     "name": "stdout",
     "output_type": "stream",
     "text": [
      "Enter Word #1: test\n",
      "Enter Word #2 (do not use same word): test\n",
      "You entered same word, please try again!\n"
     ]
    }
   ],
   "source": [
    "word1 = input ('Enter Word #1: ')\n",
    "word2 = input ('Enter Word #2 (do not use same word): ')\n",
    "if word1 < word2: #check if word1 comes first\n",
    "    print (f'{word1} is first word alphabetically')\n",
    "    print (f'{word2} is not the first word alphabetically')\n",
    "elif word1 == word2: #check if words are equal\n",
    "    print (f'You entered same words, please try again!')\n",
    "else:  \n",
    "    print (f'{word2} is first word alphabetically')\n",
    "    print (f'{word1} is not the first word alphabetically')"
   ]
  },
  {
   "cell_type": "code",
   "execution_count": 33,
   "id": "62a90e07",
   "metadata": {},
   "outputs": [
    {
     "name": "stdout",
     "output_type": "stream",
     "text": [
      "Enter your name: Bob\n",
      "Enter your company: cisco\n",
      "Hello Bob, we are colleagues!\n"
     ]
    }
   ],
   "source": [
    "# test of the \"if\" functionality\n",
    "name = input('Enter your name: ')\n",
    "company = input('Enter your company: ')\n",
    "if name == 'Dima' and company == 'cisco':\n",
    "    print('You are me, I am you!')\n",
    "elif name == 'Dima':\n",
    "    print(f'Hello {name} from {company}, you have beautiful name!')\n",
    "elif company == 'cisco':\n",
    "    print(f'Hello {name}, we are colleagues!')\n",
    "else:\n",
    "    print(f'Helo {name} from {company}, nice to meet you!')"
   ]
  },
  {
   "cell_type": "code",
   "execution_count": 34,
   "id": "17a4008c",
   "metadata": {},
   "outputs": [
    {
     "name": "stdout",
     "output_type": "stream",
     "text": [
      "I chosed a number, try to guess it: 5\n"
     ]
    }
   ],
   "source": [
    "# Guessing game\n",
    "x = 50\n",
    "y = input ('I chosed a number, try to guess it: ')\n",
    "if x = "
   ]
  },
  {
   "cell_type": "code",
   "execution_count": null,
   "id": "524c8b45",
   "metadata": {},
   "outputs": [],
   "source": []
  }
 ],
 "metadata": {
  "kernelspec": {
   "display_name": "Python 3 (ipykernel)",
   "language": "python",
   "name": "python3"
  },
  "language_info": {
   "codemirror_mode": {
    "name": "ipython",
    "version": 3
   },
   "file_extension": ".py",
   "mimetype": "text/x-python",
   "name": "python",
   "nbconvert_exporter": "python",
   "pygments_lexer": "ipython3",
   "version": "3.12.3"
  }
 },
 "nbformat": 4,
 "nbformat_minor": 5
}
