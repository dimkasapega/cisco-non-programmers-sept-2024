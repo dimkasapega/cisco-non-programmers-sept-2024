{
 "cells": [
  {
   "cell_type": "code",
   "execution_count": 1,
   "id": "6a8ab1aa",
   "metadata": {},
   "outputs": [
    {
     "name": "stdout",
     "output_type": "stream",
     "text": [
      "Hello there!\n"
     ]
    }
   ],
   "source": [
    "print ('Hello there!')"
   ]
  },
  {
   "cell_type": "code",
   "execution_count": 3,
   "id": "7e581719",
   "metadata": {},
   "outputs": [
    {
     "name": "stdout",
     "output_type": "stream",
     "text": [
      "Hellothere\n"
     ]
    }
   ],
   "source": [
    "print (\"Hello\"+'there')"
   ]
  },
  {
   "cell_type": "code",
   "execution_count": 21,
   "id": "c59921e8",
   "metadata": {},
   "outputs": [
    {
     "name": "stdout",
     "output_type": "stream",
     "text": [
      "HEllo, Dmitrii!\n",
      "250\n"
     ]
    }
   ],
   "source": [
    "x = 10\n",
    "y = 25\n",
    "name = 'Dmitrii'\n",
    "print ('HEllo, ' + name + '!') #print hello name\n",
    "print(x*y)"
   ]
  },
  {
   "cell_type": "code",
   "execution_count": 58,
   "id": "647262ac",
   "metadata": {},
   "outputs": [
    {
     "name": "stdout",
     "output_type": "stream",
     "text": [
      "Enter Name: Dima\n",
      "Enter City: Krakow\n",
      "Enter number: 5\n",
      "Hello Dima who are you?\n"
     ]
    }
   ],
   "source": []
  },
  {
   "cell_type": "code",
   "execution_count": 18,
   "id": "d86d9e09",
   "metadata": {},
   "outputs": [
    {
     "name": "stdout",
     "output_type": "stream",
     "text": [
      "Enter Word #1: test\n",
      "Enter Word #2 (do not use same word): test\n",
      "You entered same word, please try again!\n"
     ]
    }
   ],
   "source": [
    "word1 = input ('Enter Word #1: ')\n",
    "word2 = input ('Enter Word #2 (do not use same word): ')\n",
    "if word1 < word2: #check if word1 comes first\n",
    "    print (f'{word1} is first word alphabetically')\n",
    "    print (f'{word2} is not the first word alphabetically')\n",
    "elif word1 == word2: #check if words are equal\n",
    "    print (f'You entered same words, please try again!')\n",
    "else:  \n",
    "    print (f'{word2} is first word alphabetically')\n",
    "    print (f'{word1} is not the first word alphabetically')"
   ]
  },
  {
   "cell_type": "code",
   "execution_count": 33,
   "id": "62a90e07",
   "metadata": {},
   "outputs": [
    {
     "name": "stdout",
     "output_type": "stream",
     "text": [
      "Enter your name: Bob\n",
      "Enter your company: cisco\n",
      "Hello Bob, we are colleagues!\n"
     ]
    }
   ],
   "source": [
    "# test of the \"if\" functionality\n",
    "name = input('Enter your name: ')\n",
    "company = input('Enter your company: ')\n",
    "if name == 'Dima' and company == 'cisco':\n",
    "    print('You are me, I am you!')\n",
    "elif name == 'Dima':\n",
    "    print(f'Hello {name} from {company}, you have beautiful name!')\n",
    "elif company == 'cisco':\n",
    "    print(f'Hello {name}, we are colleagues!')\n",
    "else:\n",
    "    print(f'Helo {name} from {company}, nice to meet you!')"
   ]
  },
  {
   "cell_type": "code",
   "execution_count": 42,
   "id": "d7b941c6",
   "metadata": {},
   "outputs": [
    {
     "name": "stdout",
     "output_type": "stream",
     "text": [
      "I chose a number, try to guess it: seven\n"
     ]
    },
    {
     "ename": "ValueError",
     "evalue": "invalid literal for int() with base 10: 'seven'",
     "output_type": "error",
     "traceback": [
      "\u001b[0;31m---------------------------------------------------------------------------\u001b[0m",
      "\u001b[0;31mValueError\u001b[0m                                Traceback (most recent call last)",
      "Cell \u001b[0;32mIn[42], line 4\u001b[0m\n\u001b[1;32m      2\u001b[0m x \u001b[38;5;241m=\u001b[39m \u001b[38;5;241m50\u001b[39m\n\u001b[1;32m      3\u001b[0m y \u001b[38;5;241m=\u001b[39m \u001b[38;5;28minput\u001b[39m (\u001b[38;5;124m'\u001b[39m\u001b[38;5;124mI chose a number, try to guess it: \u001b[39m\u001b[38;5;124m'\u001b[39m)\n\u001b[0;32m----> 4\u001b[0m y \u001b[38;5;241m=\u001b[39m \u001b[38;5;28;43mint\u001b[39;49m\u001b[43m(\u001b[49m\u001b[43my\u001b[49m\u001b[43m)\u001b[49m\n\u001b[1;32m      5\u001b[0m \u001b[38;5;28;01mif\u001b[39;00m x \u001b[38;5;241m==\u001b[39m y:\n\u001b[1;32m      6\u001b[0m     \u001b[38;5;28mprint\u001b[39m (\u001b[38;5;124m'\u001b[39m\u001b[38;5;124mYou got it!\u001b[39m\u001b[38;5;124m'\u001b[39m)\n",
      "\u001b[0;31mValueError\u001b[0m: invalid literal for int() with base 10: 'seven'"
     ]
    }
   ],
   "source": [
    "# Guessing game\n",
    "x = 50\n",
    "y = input ('I chose a number, try to guess it: ')\n",
    "y = int(y)\n",
    "if x == y:\n",
    "    print ('You got it!')\n",
    "elif x > y:\n",
    "    print ('too low!')\n",
    "else:\n",
    "    print ('too high!')"
   ]
  },
  {
   "cell_type": "code",
   "execution_count": 51,
   "id": "301ba703",
   "metadata": {},
   "outputs": [
    {
     "name": "stdout",
     "output_type": "stream",
     "text": [
      "Enter string: sdfsdfdsfsdfsd\n",
      "Enter number beyond the index of string: 4\n",
      "index 4 in 'sdfsdfdsfsdfsd' is s\n"
     ]
    }
   ],
   "source": [
    "str1 = input('Enter string: ')\n",
    "num1 = input('Enter number beyond the index of string: ')\n",
    "num1 = int(num1)\n",
    "if num1 < 0:\n",
    "    print(f'{num1} is too low.')\n",
    "elif num1 > len(str1):\n",
    "    print(f'{num1} is too high')\n",
    "else:\n",
    "    print(f'index {num1} in \\'{str1}\\' is {str1[num1-1]}') # print the letter considering that 0 is the first letter\n"
   ]
  },
  {
   "cell_type": "code",
   "execution_count": 66,
   "id": "a831a8ef",
   "metadata": {},
   "outputs": [
    {
     "name": "stdout",
     "output_type": "stream",
     "text": [
      "Write a word: cook\n",
      "Your word in Pig latim would be: ookcay\n"
     ]
    }
   ],
   "source": [
    "s = input('Write a word: ')\n",
    "if s[0] in 'aeiou':\n",
    "    print('Your word in Pig latim would be: ' + s + 'way')\n",
    "else:\n",
    "        print('Your word in Pig latim would be: ' + s[1:] + s[0] + 'ay')"
   ]
  },
  {
   "cell_type": "code",
   "execution_count": 70,
   "id": "8f35d083",
   "metadata": {},
   "outputs": [
    {
     "name": "stdout",
     "output_type": "stream",
     "text": [
      "please, enter some number: hi\n",
      "please, enter some number: 5\n"
     ]
    },
    {
     "ename": "TypeError",
     "evalue": "can only concatenate str (not \"int\") to str",
     "output_type": "error",
     "traceback": [
      "\u001b[0;31m---------------------------------------------------------------------------\u001b[0m",
      "\u001b[0;31mTypeError\u001b[0m                                 Traceback (most recent call last)",
      "Cell \u001b[0;32mIn[70], line 9\u001b[0m\n\u001b[1;32m      7\u001b[0m \u001b[38;5;28;01melif\u001b[39;00m num2\u001b[38;5;241m.\u001b[39misdigit():\n\u001b[1;32m      8\u001b[0m     num2 \u001b[38;5;241m=\u001b[39m \u001b[38;5;28mint\u001b[39m(num2)\n\u001b[0;32m----> 9\u001b[0m \u001b[38;5;28mprint\u001b[39m(\u001b[38;5;124mf\u001b[39m\u001b[38;5;124m'\u001b[39m\u001b[38;5;132;01m{\u001b[39;00mnum1\u001b[38;5;132;01m}\u001b[39;00m\u001b[38;5;124m + \u001b[39m\u001b[38;5;132;01m{\u001b[39;00mnum2\u001b[38;5;132;01m}\u001b[39;00m\u001b[38;5;124m = \u001b[39m\u001b[38;5;132;01m{\u001b[39;00m\u001b[43mnum1\u001b[49m\u001b[38;5;250;43m \u001b[39;49m\u001b[38;5;241;43m+\u001b[39;49m\u001b[38;5;250;43m \u001b[39;49m\u001b[43mnum2\u001b[49m\u001b[38;5;132;01m}\u001b[39;00m\u001b[38;5;124m'\u001b[39m)\n",
      "\u001b[0;31mTypeError\u001b[0m: can only concatenate str (not \"int\") to str"
     ]
    }
   ],
   "source": [
    "#Adding numbers\n",
    "num1 = input('please, enter some number: ')\n",
    "num2 = input('please, enter some number: ')\n",
    "\n",
    "if num1.isdigit():\n",
    "    print(f'')\n",
    "elif num2.isdigit():\n",
    "    num2 = int(num2)\n",
    "print(f'{num1} + {num2} = {num1 + num2}')"
   ]
  },
  {
   "cell_type": "code",
   "execution_count": null,
   "id": "02805a2e",
   "metadata": {},
   "outputs": [],
   "source": []
  }
 ],
 "metadata": {
  "kernelspec": {
   "display_name": "Python 3 (ipykernel)",
   "language": "python",
   "name": "python3"
  },
  "language_info": {
   "codemirror_mode": {
    "name": "ipython",
    "version": 3
   },
   "file_extension": ".py",
   "mimetype": "text/x-python",
   "name": "python",
   "nbconvert_exporter": "python",
   "pygments_lexer": "ipython3",
   "version": "3.12.3"
  }
 },
 "nbformat": 4,
 "nbformat_minor": 5
}
