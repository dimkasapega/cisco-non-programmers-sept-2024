{
 "cells": [
  {
   "cell_type": "code",
   "execution_count": 1,
   "id": "6a8ab1aa",
   "metadata": {},
   "outputs": [
    {
     "name": "stdout",
     "output_type": "stream",
     "text": [
      "Hello there!\n"
     ]
    }
   ],
   "source": [
    "print ('Hello there!')"
   ]
  },
  {
   "cell_type": "code",
   "execution_count": 3,
   "id": "7e581719",
   "metadata": {},
   "outputs": [
    {
     "name": "stdout",
     "output_type": "stream",
     "text": [
      "Hellothere\n"
     ]
    }
   ],
   "source": [
    "print (\"Hello\"+'there')"
   ]
  },
  {
   "cell_type": "code",
   "execution_count": 21,
   "id": "49ce64c5",
   "metadata": {},
   "outputs": [
    {
     "name": "stdout",
     "output_type": "stream",
     "text": [
      "HEllo, Dmitrii!\n",
      "250\n"
     ]
    }
   ],
   "source": [
    "x = 10\n",
    "y = 25\n",
    "name = 'Dmitrii'\n",
    "print ('HEllo, ' + name + '!') #print hello name\n",
    "print(x*y)"
   ]
  },
  {
   "cell_type": "code",
   "execution_count": 31,
   "id": "1e266e15",
   "metadata": {},
   "outputs": [
    {
     "name": "stdout",
     "output_type": "stream",
     "text": [
      "Name: Dmitrii\n",
      "City: Krakow\n"
     ]
    }
   ],
   "source": [
    "name = input ('Enter Name: ')\n",
    "city = input ('Enter City: ')\n",
    "x = input ('Enter number: ')"
   ]
  },
  {
   "cell_type": "code",
   "execution_count": null,
   "id": "f7d5f805",
   "metadata": {},
   "outputs": [],
   "source": [
    "print ('Hello, ' + name + ' from ' + city + x + 'times!')"
   ]
  },
  {
   "cell_type": "code",
   "execution_count": null,
   "id": "9e5f79d6",
   "metadata": {},
   "outputs": [],
   "source": []
  }
 ],
 "metadata": {
  "kernelspec": {
   "display_name": "Python 3 (ipykernel)",
   "language": "python",
   "name": "python3"
  },
  "language_info": {
   "codemirror_mode": {
    "name": "ipython",
    "version": 3
   },
   "file_extension": ".py",
   "mimetype": "text/x-python",
   "name": "python",
   "nbconvert_exporter": "python",
   "pygments_lexer": "ipython3",
   "version": "3.12.3"
  }
 },
 "nbformat": 4,
 "nbformat_minor": 5
}
