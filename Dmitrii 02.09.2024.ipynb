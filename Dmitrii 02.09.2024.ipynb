{
 "cells": [
  {
   "cell_type": "code",
   "execution_count": 1,
   "id": "6a8ab1aa",
   "metadata": {},
   "outputs": [
    {
     "name": "stdout",
     "output_type": "stream",
     "text": [
      "Hello there!\n"
     ]
    }
   ],
   "source": [
    "print ('Hello there!')"
   ]
  },
  {
   "cell_type": "code",
   "execution_count": 3,
   "id": "7e581719",
   "metadata": {},
   "outputs": [
    {
     "name": "stdout",
     "output_type": "stream",
     "text": [
      "Hellothere\n"
     ]
    }
   ],
   "source": [
    "print (\"Hello\"+'there')"
   ]
  },
  {
   "cell_type": "code",
   "execution_count": 21,
   "id": "c59921e8",
   "metadata": {},
   "outputs": [
    {
     "name": "stdout",
     "output_type": "stream",
     "text": [
      "HEllo, Dmitrii!\n",
      "250\n"
     ]
    }
   ],
   "source": [
    "x = 10\n",
    "y = 25\n",
    "name = 'Dmitrii'\n",
    "print ('HEllo, ' + name + '!') #print hello name\n",
    "print(x*y)"
   ]
  },
  {
   "cell_type": "code",
   "execution_count": 58,
   "id": "647262ac",
   "metadata": {},
   "outputs": [
    {
     "name": "stdout",
     "output_type": "stream",
     "text": [
      "Enter Name: Dima\n",
      "Enter City: Krakow\n",
      "Enter number: 5\n",
      "Hello Dima who are you?\n"
     ]
    }
   ],
   "source": [
    "name = input ('Enter Name: ')\n",
    "city = input ('Enter City: ')\n",
    "x = input ('Enter number: ')\n",
    "if name == 'Dmitrii':\n",
    "    print (f'Hello {name} from {city} {x} times!')\n",
    "else: print (f'Hello {name} who are you?')\n"
   ]
  },
  {
   "cell_type": "code",
   "execution_count": 3,
   "id": "d86d9e09",
   "metadata": {},
   "outputs": [
    {
     "ename": "IndentationError",
     "evalue": "expected an indented block after 'if' statement on line 3 (2759464190.py, line 4)",
     "output_type": "error",
     "traceback": [
      "\u001b[0;36m  Cell \u001b[0;32mIn[3], line 4\u001b[0;36m\u001b[0m\n\u001b[0;31m    print (f'{word1} is firs word alphabetically')\u001b[0m\n\u001b[0m    ^\u001b[0m\n\u001b[0;31mIndentationError\u001b[0m\u001b[0;31m:\u001b[0m expected an indented block after 'if' statement on line 3\n"
     ]
    }
   ],
   "source": [
    "word1 = input ('Enter Word #1: ')\n",
    "word2 = input ('Enter Word #2: ')\n",
    "if word1 < 'word2:\n",
    "print (f'{word1} is firs word alphabetically')\n",
    "else: print (f'{word2} is firs word alphabetically')"
   ]
  },
  {
   "cell_type": "code",
   "execution_count": null,
   "id": "62a90e07",
   "metadata": {},
   "outputs": [],
   "source": []
  },
  {
   "cell_type": "code",
   "execution_count": null,
   "id": "19df8791",
   "metadata": {},
   "outputs": [],
   "source": []
  }
 ],
 "metadata": {
  "kernelspec": {
   "display_name": "Python 3 (ipykernel)",
   "language": "python",
   "name": "python3"
  },
  "language_info": {
   "codemirror_mode": {
    "name": "ipython",
    "version": 3
   },
   "file_extension": ".py",
   "mimetype": "text/x-python",
   "name": "python",
   "nbconvert_exporter": "python",
   "pygments_lexer": "ipython3",
   "version": "3.12.3"
  }
 },
 "nbformat": 4,
 "nbformat_minor": 5
}
