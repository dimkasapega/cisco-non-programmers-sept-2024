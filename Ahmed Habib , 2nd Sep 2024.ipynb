{
 "cells": [
  {
   "cell_type": "code",
   "execution_count": 2,
   "id": "82ba99bc",
   "metadata": {},
   "outputs": [
    {
     "name": "stdout",
     "output_type": "stream",
     "text": [
      "hello Cisconians\n"
     ]
    }
   ],
   "source": [
    "print('hello Cisconians')"
   ]
  },
  {
   "cell_type": "code",
   "execution_count": 4,
   "id": "8d490b13",
   "metadata": {},
   "outputs": [
    {
     "name": "stdout",
     "output_type": "stream",
     "text": [
      "Hello, Habib\n"
     ]
    }
   ],
   "source": [
    "name = 'Habib'\n",
    "print('Hello, '+ name)"
   ]
  },
  {
   "cell_type": "code",
   "execution_count": 8,
   "id": "df2927c2",
   "metadata": {},
   "outputs": [
    {
     "name": "stdout",
     "output_type": "stream",
     "text": [
      "Hello Sons, YounisNouh\n"
     ]
    }
   ],
   "source": [
    "x= 'Younis'\n",
    "y= 'Nouh'\n",
    "print ('Hello Sons, ' + x +  y)"
   ]
  },
  {
   "cell_type": "code",
   "execution_count": 22,
   "id": "b5452710",
   "metadata": {},
   "outputs": [
    {
     "name": "stdout",
     "output_type": "stream",
     "text": [
      "Enter a 1st name: egg\n",
      "Enter a 2nd name: chicken\n",
      "chicken comes first\n"
     ]
    }
   ],
   "source": [
    "name1= input ('Enter a 1st name: ')\n",
    "name2= input ('Enter a 2nd name: ')\n",
    "if name1 > name2:\n",
    "    print(f'{name2} comes first')\n",
    "else: \n",
    "    print (f'{name1} comes first')"
   ]
  },
  {
   "cell_type": "code",
   "execution_count": 29,
   "id": "2699edeb",
   "metadata": {},
   "outputs": [
    {
     "name": "stdout",
     "output_type": "stream",
     "text": [
      "Enter a 1st name: ahmed\n",
      "Enter a 2nd name: habib\n",
      "ahmed comes first\n"
     ]
    }
   ],
   "source": [
    "name1= input ('Enter a 1st name: ')\n",
    "name2= input ('Enter a 2nd name: ')\n",
    "if name1 > name2:\n",
    "    print(f'{name2} comes first')\n",
    "elif name1 == name2:\n",
    "    print ('duplicate words, check again')\n",
    "else: \n",
    "    print (f'{name1} comes first')"
   ]
  },
  {
   "cell_type": "code",
   "execution_count": null,
   "id": "7467a77d",
   "metadata": {},
   "outputs": [],
   "source": []
  }
 ],
 "metadata": {
  "kernelspec": {
   "display_name": "Python 3 (ipykernel)",
   "language": "python",
   "name": "python3"
  },
  "language_info": {
   "codemirror_mode": {
    "name": "ipython",
    "version": 3
   },
   "file_extension": ".py",
   "mimetype": "text/x-python",
   "name": "python",
   "nbconvert_exporter": "python",
   "pygments_lexer": "ipython3",
   "version": "3.12.3"
  }
 },
 "nbformat": 4,
 "nbformat_minor": 5
}
