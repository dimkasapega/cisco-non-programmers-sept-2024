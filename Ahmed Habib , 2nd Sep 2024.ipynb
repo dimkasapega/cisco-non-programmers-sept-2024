{
 "cells": [
  {
   "cell_type": "code",
   "execution_count": 2,
   "id": "87da519e",
   "metadata": {},
   "outputs": [
    {
     "name": "stdout",
     "output_type": "stream",
     "text": [
      "hello Cisconians\n"
     ]
    }
   ],
   "source": [
    "print('hello Cisconians')"
   ]
  },
  {
   "cell_type": "code",
   "execution_count": 4,
   "id": "5e42e6df",
   "metadata": {},
   "outputs": [
    {
     "name": "stdout",
     "output_type": "stream",
     "text": [
      "Hello, Habib\n"
     ]
    }
   ],
   "source": [
    "name = 'Habib'\n",
    "print('Hello, '+ name)"
   ]
  },
  {
   "cell_type": "code",
   "execution_count": 8,
   "id": "98b2276b",
   "metadata": {},
   "outputs": [
    {
     "name": "stdout",
     "output_type": "stream",
     "text": [
      "Hello Sons, YounisNouh\n"
     ]
    }
   ],
   "source": [
    "x= 'Younis'\n",
    "y= 'Nouh'\n",
    "print ('Hello Sons, ' + x +  y)"
   ]
  },
  {
   "cell_type": "code",
   "execution_count": 22,
   "id": "15d64631",
   "metadata": {},
   "outputs": [
    {
     "name": "stdout",
     "output_type": "stream",
     "text": [
      "Enter a 1st name: egg\n",
      "Enter a 2nd name: chicken\n",
      "chicken comes first\n"
     ]
    }
   ],
   "source": [
    "name1= input ('Enter a 1st name: ')\n",
    "name2= input ('Enter a 2nd name: ')\n",
    "if name1 > name2:\n",
    "    print(f'{name2} comes first')\n",
    "else: \n",
    "    print (f'{name1} comes first')"
   ]
  },
  {
   "cell_type": "code",
   "execution_count": 29,
   "id": "47ba09fd",
   "metadata": {},
   "outputs": [
    {
     "name": "stdout",
     "output_type": "stream",
     "text": [
      "Enter a 1st name: ahmed\n",
      "Enter a 2nd name: habib\n",
      "ahmed comes first\n"
     ]
    }
   ],
   "source": [
    "name1= input ('Enter a 1st name: ')\n",
    "name2= input ('Enter a 2nd name: ')\n",
    "if name1 > name2:\n",
    "    print(f'{name2} comes first')\n",
    "elif name1 == name2:\n",
    "    print ('duplicate words, check again')\n",
    "else: \n",
    "    print (f'{name1} comes first')"
   ]
  },
  {
   "cell_type": "code",
   "execution_count": 44,
   "id": "bdf283f1",
   "metadata": {},
   "outputs": [
    {
     "name": "stdout",
     "output_type": "stream",
     "text": [
      "Enter a name: seset\n",
      "Enter a company name: cisco\n",
      "Hello Colleague\n"
     ]
    }
   ],
   "source": [
    "name = input ('Enter a name: ')\n",
    "company = input ('Enter a company name: ')\n",
    "if name == 'ahmed' and company== 'cisco' :\n",
    "    print('you are me')\n",
    "elif name == 'ahmed' and company!= 'cisco':\n",
    "    print ('Hey there')\n",
    "elif name != 'ahmed' and company== 'cisco':\n",
    "    print ('Hello Colleague')\n",
    "else: \n",
    "    print ('Hello, who are you')"
   ]
  },
  {
   "cell_type": "code",
   "execution_count": 45,
   "id": "0af4654a",
   "metadata": {},
   "outputs": [
    {
     "ename": "SyntaxError",
     "evalue": "Missing parentheses in call to 'print'. Did you mean print(...)? (83354569.py, line 2)",
     "output_type": "error",
     "traceback": [
      "\u001b[0;36m  Cell \u001b[0;32mIn[45], line 2\u001b[0;36m\u001b[0m\n\u001b[0;31m    print x\u001b[0m\n\u001b[0m    ^\u001b[0m\n\u001b[0;31mSyntaxError\u001b[0m\u001b[0;31m:\u001b[0m Missing parentheses in call to 'print'. Did you mean print(...)?\n"
     ]
    }
   ],
   "source": [
    "x = 10\n",
    "print x"
   ]
  },
  {
   "cell_type": "code",
   "execution_count": null,
   "id": "45fa9265",
   "metadata": {},
   "outputs": [],
   "source": [
    "x = input ('Enter a number: ')\n",
    "if x == 10 :\n",
    "    print('you got it')\n",
    "elif x < 10 :\n",
    "    print ('Too low')\n",
    "elif x >= 'ahmed' and company== 'cisco':\n",
    "    print ('Hello Colleague')\n",
    "else: \n",
    "    print ('Hello, who are you')"
   ]
  }
 ],
 "metadata": {
  "kernelspec": {
   "display_name": "Python 3 (ipykernel)",
   "language": "python",
   "name": "python3"
  },
  "language_info": {
   "codemirror_mode": {
    "name": "ipython",
    "version": 3
   },
   "file_extension": ".py",
   "mimetype": "text/x-python",
   "name": "python",
   "nbconvert_exporter": "python",
   "pygments_lexer": "ipython3",
   "version": "3.12.3"
  }
 },
 "nbformat": 4,
 "nbformat_minor": 5
}
