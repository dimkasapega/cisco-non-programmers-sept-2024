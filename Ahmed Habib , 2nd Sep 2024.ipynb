{
 "cells": [
  {
   "cell_type": "code",
   "execution_count": 2,
   "id": "4a9a9100",
   "metadata": {},
   "outputs": [
    {
     "name": "stdout",
     "output_type": "stream",
     "text": [
      "hello Cisconians\n"
     ]
    }
   ],
   "source": [
    "print('hello Cisconians')"
   ]
  },
  {
   "cell_type": "code",
   "execution_count": 4,
   "id": "ee6a9f4f",
   "metadata": {},
   "outputs": [
    {
     "name": "stdout",
     "output_type": "stream",
     "text": [
      "Hello, Habib\n"
     ]
    }
   ],
   "source": [
    "name = 'Habib'\n",
    "print('Hello, '+ name)"
   ]
  },
  {
   "cell_type": "code",
   "execution_count": 8,
   "id": "b746e38b",
   "metadata": {},
   "outputs": [
    {
     "name": "stdout",
     "output_type": "stream",
     "text": [
      "Hello Sons, YounisNouh\n"
     ]
    }
   ],
   "source": [
    "x= 'Younis'\n",
    "y= 'Nouh'\n",
    "print ('Hello Sons, ' + x +  y)"
   ]
  },
  {
   "cell_type": "code",
   "execution_count": 22,
   "id": "f969666c",
   "metadata": {},
   "outputs": [
    {
     "name": "stdout",
     "output_type": "stream",
     "text": [
      "Enter a 1st name: egg\n",
      "Enter a 2nd name: chicken\n",
      "chicken comes first\n"
     ]
    }
   ],
   "source": [
    "name1= input ('Enter a 1st name: ')\n",
    "name2= input ('Enter a 2nd name: ')\n",
    "if name1 > name2:\n",
    "    print(f'{name2} comes first')\n",
    "else: \n",
    "    print (f'{name1} comes first')"
   ]
  },
  {
   "cell_type": "code",
   "execution_count": 29,
   "id": "a045254d",
   "metadata": {},
   "outputs": [
    {
     "name": "stdout",
     "output_type": "stream",
     "text": [
      "Enter a 1st name: ahmed\n",
      "Enter a 2nd name: habib\n",
      "ahmed comes first\n"
     ]
    }
   ],
   "source": [
    "name1= input ('Enter a 1st name: ')\n",
    "name2= input ('Enter a 2nd name: ')\n",
    "if name1 > name2:\n",
    "    print(f'{name2} comes first')\n",
    "elif name1 == name2:\n",
    "    print ('duplicate words, check again')\n",
    "else: \n",
    "    print (f'{name1} comes first')"
   ]
  },
  {
   "cell_type": "code",
   "execution_count": 34,
   "id": "b0c2cc77",
   "metadata": {},
   "outputs": [
    {
     "ename": "SyntaxError",
     "evalue": "invalid syntax (2316370057.py, line 7)",
     "output_type": "error",
     "traceback": [
      "\u001b[0;36m  Cell \u001b[0;32mIn[34], line 7\u001b[0;36m\u001b[0m\n\u001b[0;31m    elif name == myname and comp=get_ipython().getoutput(' mycompany:')\u001b[0m\n\u001b[0m                                ^\u001b[0m\n\u001b[0;31mSyntaxError\u001b[0m\u001b[0;31m:\u001b[0m invalid syntax\n"
     ]
    }
   ],
   "source": [
    "name= input ('Enter a name: ')\n",
    "Company= input ('Enter a company name: ')\n",
    "if name== ahmed and company== cisco :\n",
    "    print('you are me')\n",
    "elif name == ahmed and company=! cisco:\n",
    "    print ('Hey there')\n",
    "elif name=! ahmed and company== cisco:\n",
    "    print (' Hello Colleague')\n",
    "else: \n",
    "    print ('Hello, who are you')"
   ]
  },
  {
   "cell_type": "code",
   "execution_count": null,
   "id": "b43fd0b3",
   "metadata": {},
   "outputs": [],
   "source": []
  }
 ],
 "metadata": {
  "kernelspec": {
   "display_name": "Python 3 (ipykernel)",
   "language": "python",
   "name": "python3"
  },
  "language_info": {
   "codemirror_mode": {
    "name": "ipython",
    "version": 3
   },
   "file_extension": ".py",
   "mimetype": "text/x-python",
   "name": "python",
   "nbconvert_exporter": "python",
   "pygments_lexer": "ipython3",
   "version": "3.12.3"
  }
 },
 "nbformat": 4,
 "nbformat_minor": 5
}
