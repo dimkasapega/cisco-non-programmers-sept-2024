{
 "cells": [
  {
   "cell_type": "code",
   "execution_count": 2,
   "id": "ca0ab4ec",
   "metadata": {},
   "outputs": [
    {
     "name": "stdout",
     "output_type": "stream",
     "text": [
      "hello Cisconians\n"
     ]
    }
   ],
   "source": [
    "print('hello Cisconians')"
   ]
  },
  {
   "cell_type": "code",
   "execution_count": 4,
   "id": "efc01960",
   "metadata": {},
   "outputs": [
    {
     "name": "stdout",
     "output_type": "stream",
     "text": [
      "Hello, Habib\n"
     ]
    }
   ],
   "source": [
    "name = 'Habib'\n",
    "print('Hello, '+ name)"
   ]
  },
  {
   "cell_type": "code",
   "execution_count": 8,
   "id": "7cda02d7",
   "metadata": {},
   "outputs": [
    {
     "name": "stdout",
     "output_type": "stream",
     "text": [
      "Hello Sons, YounisNouh\n"
     ]
    }
   ],
   "source": [
    "x= 'Younis'\n",
    "y= 'Nouh'\n",
    "print ('Hello Sons, ' + x +  y)"
   ]
  },
  {
   "cell_type": "code",
   "execution_count": 22,
   "id": "c12247bb",
   "metadata": {},
   "outputs": [
    {
     "name": "stdout",
     "output_type": "stream",
     "text": [
      "Enter a 1st name: egg\n",
      "Enter a 2nd name: chicken\n",
      "chicken comes first\n"
     ]
    }
   ],
   "source": [
    "name1= input ('Enter a 1st name: ')\n",
    "name2= input ('Enter a 2nd name: ')\n",
    "if name1 > name2:\n",
    "    print(f'{name2} comes first')\n",
    "else: \n",
    "    print (f'{name1} comes first')"
   ]
  },
  {
   "cell_type": "code",
   "execution_count": 29,
   "id": "2a2625af",
   "metadata": {},
   "outputs": [
    {
     "name": "stdout",
     "output_type": "stream",
     "text": [
      "Enter a 1st name: ahmed\n",
      "Enter a 2nd name: habib\n",
      "ahmed comes first\n"
     ]
    }
   ],
   "source": [
    "name1= input ('Enter a 1st name: ')\n",
    "name2= input ('Enter a 2nd name: ')\n",
    "if name1 > name2:\n",
    "    print(f'{name2} comes first')\n",
    "elif name1 == name2:\n",
    "    print ('duplicate words, check again')\n",
    "else: \n",
    "    print (f'{name1} comes first')"
   ]
  },
  {
   "cell_type": "code",
   "execution_count": 44,
   "id": "8b2ef986",
   "metadata": {},
   "outputs": [
    {
     "name": "stdout",
     "output_type": "stream",
     "text": [
      "Enter a name: seset\n",
      "Enter a company name: cisco\n",
      "Hello Colleague\n"
     ]
    }
   ],
   "source": [
    "name = input ('Enter a name: ')\n",
    "company = input ('Enter a company name: ')\n",
    "if name == 'ahmed' and company== 'cisco' :\n",
    "    print('you are me')\n",
    "elif name == 'ahmed' and company!= 'cisco':\n",
    "    print ('Hey there')\n",
    "elif name != 'ahmed' and company== 'cisco':\n",
    "    print ('Hello Colleague')\n",
    "else: \n",
    "    print ('Hello, who are you')"
   ]
  },
  {
   "cell_type": "code",
   "execution_count": 48,
   "id": "7ee229ab",
   "metadata": {},
   "outputs": [
    {
     "name": "stdout",
     "output_type": "stream",
     "text": [
      "Enter a number: 5\n",
      "Too low\n"
     ]
    }
   ],
   "source": [
    "x = int (input ('Enter a number: '))\n",
    "if x == 10 :\n",
    "    print('you got it')\n",
    "elif x < 10 :\n",
    "    print ('Too low')\n",
    "elif x > 10:\n",
    "    print ('Too High')\n"
   ]
  },
  {
   "cell_type": "code",
   "execution_count": 54,
   "id": "80738ff3",
   "metadata": {},
   "outputs": [
    {
     "data": {
      "text/plain": [
       "0.3"
      ]
     },
     "execution_count": 54,
     "metadata": {},
     "output_type": "execute_result"
    }
   ],
   "source": [
    "round(0.1 + 0.2, 1)"
   ]
  },
  {
   "cell_type": "code",
   "execution_count": 55,
   "id": "28bb5d6e",
   "metadata": {},
   "outputs": [
    {
     "name": "stdout",
     "output_type": "stream",
     "text": [
      "Enter a wordahmed\n",
      "Enter an index number: 2\n",
      "ahmed 2\n"
     ]
    }
   ],
   "source": [
    "word = input ('Enter a word')\n",
    "index = int (input ('Enter an index number: '))\n",
    "if index < 0 :\n",
    "    print('num is Too low')\n",
    "elif index > (len(word)-1) :\n",
    "    print ('Index is beyond the length of a the string')\n",
    "else:\n",
    "    print (word , index)"
   ]
  },
  {
   "cell_type": "code",
   "execution_count": null,
   "id": "615b1ddb",
   "metadata": {},
   "outputs": [],
   "source": [
    "word = input ('Enter a word')"
   ]
  }
 ],
 "metadata": {
  "kernelspec": {
   "display_name": "Python 3 (ipykernel)",
   "language": "python",
   "name": "python3"
  },
  "language_info": {
   "codemirror_mode": {
    "name": "ipython",
    "version": 3
   },
   "file_extension": ".py",
   "mimetype": "text/x-python",
   "name": "python",
   "nbconvert_exporter": "python",
   "pygments_lexer": "ipython3",
   "version": "3.12.3"
  }
 },
 "nbformat": 4,
 "nbformat_minor": 5
}
