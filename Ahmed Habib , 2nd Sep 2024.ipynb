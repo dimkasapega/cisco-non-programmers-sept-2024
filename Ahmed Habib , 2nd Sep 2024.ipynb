{
 "cells": [
  {
   "cell_type": "code",
   "execution_count": 2,
   "id": "4d0cb299",
   "metadata": {},
   "outputs": [
    {
     "name": "stdout",
     "output_type": "stream",
     "text": [
      "hello Cisconians\n"
     ]
    }
   ],
   "source": [
    "print('hello Cisconians')"
   ]
  },
  {
   "cell_type": "code",
   "execution_count": 4,
   "id": "6063abe7",
   "metadata": {},
   "outputs": [
    {
     "name": "stdout",
     "output_type": "stream",
     "text": [
      "Hello, Habib\n"
     ]
    }
   ],
   "source": [
    "name = 'Habib'\n",
    "print('Hello, '+ name)"
   ]
  },
  {
   "cell_type": "code",
   "execution_count": 8,
   "id": "7c29701e",
   "metadata": {},
   "outputs": [
    {
     "name": "stdout",
     "output_type": "stream",
     "text": [
      "Hello Sons, YounisNouh\n"
     ]
    }
   ],
   "source": [
    "x= 'Younis'\n",
    "y= 'Nouh'\n",
    "print ('Hello Sons, ' + x +  y)"
   ]
  },
  {
   "cell_type": "code",
   "execution_count": null,
   "id": "08c0e79e",
   "metadata": {},
   "outputs": [],
   "source": [
    "name=input('Enter a name: ')\n",
    "city=input('Enter a number: ')\n",
    "print (name + city)"
   ]
  },
  {
   "cell_type": "code",
   "execution_count": null,
   "id": "eb8f8b48",
   "metadata": {},
   "outputs": [],
   "source": [
    "name= input('Enter a name: ')\n",
    "city= input ('Enter a city: ')\n",
    "print (name + city)"
   ]
  },
  {
   "cell_type": "code",
   "execution_count": null,
   "id": "de878c4d",
   "metadata": {},
   "outputs": [],
   "source": [
    "dell(print)"
   ]
  },
  {
   "cell_type": "code",
   "execution_count": null,
   "id": "1c3e1854",
   "metadata": {},
   "outputs": [],
   "source": []
  }
 ],
 "metadata": {
  "kernelspec": {
   "display_name": "Python 3 (ipykernel)",
   "language": "python",
   "name": "python3"
  },
  "language_info": {
   "codemirror_mode": {
    "name": "ipython",
    "version": 3
   },
   "file_extension": ".py",
   "mimetype": "text/x-python",
   "name": "python",
   "nbconvert_exporter": "python",
   "pygments_lexer": "ipython3",
   "version": "3.12.3"
  }
 },
 "nbformat": 4,
 "nbformat_minor": 5
}
