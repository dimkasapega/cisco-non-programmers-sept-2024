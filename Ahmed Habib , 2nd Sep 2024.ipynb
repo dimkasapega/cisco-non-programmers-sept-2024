{
 "cells": [
  {
   "cell_type": "code",
   "execution_count": 2,
   "id": "c7db9f3c",
   "metadata": {},
   "outputs": [
    {
     "name": "stdout",
     "output_type": "stream",
     "text": [
      "hello Cisconians\n"
     ]
    }
   ],
   "source": [
    "print('hello Cisconians')"
   ]
  },
  {
   "cell_type": "code",
   "execution_count": 4,
   "id": "48ac461d",
   "metadata": {},
   "outputs": [
    {
     "name": "stdout",
     "output_type": "stream",
     "text": [
      "Hello, Habib\n"
     ]
    }
   ],
   "source": [
    "name = 'Habib'\n",
    "print('Hello, '+ name)"
   ]
  },
  {
   "cell_type": "code",
   "execution_count": 8,
   "id": "1b06391e",
   "metadata": {},
   "outputs": [
    {
     "name": "stdout",
     "output_type": "stream",
     "text": [
      "Hello Sons, YounisNouh\n"
     ]
    }
   ],
   "source": [
    "x= 'Younis'\n",
    "y= 'Nouh'\n",
    "print ('Hello Sons, ' + x +  y)"
   ]
  },
  {
   "cell_type": "code",
   "execution_count": 22,
   "id": "dd735149",
   "metadata": {},
   "outputs": [
    {
     "name": "stdout",
     "output_type": "stream",
     "text": [
      "Enter a 1st name: egg\n",
      "Enter a 2nd name: chicken\n",
      "chicken comes first\n"
     ]
    }
   ],
   "source": [
    "name1= input ('Enter a 1st name: ')\n",
    "name2= input ('Enter a 2nd name: ')\n",
    "if name1 > name2:\n",
    "    print(f'{name2} comes first')\n",
    "else: \n",
    "    print (f'{name1} comes first')"
   ]
  },
  {
   "cell_type": "code",
   "execution_count": 29,
   "id": "c8df3544",
   "metadata": {},
   "outputs": [
    {
     "name": "stdout",
     "output_type": "stream",
     "text": [
      "Enter a 1st name: ahmed\n",
      "Enter a 2nd name: habib\n",
      "ahmed comes first\n"
     ]
    }
   ],
   "source": [
    "name1= input ('Enter a 1st name: ')\n",
    "name2= input ('Enter a 2nd name: ')\n",
    "if name1 > name2:\n",
    "    print(f'{name2} comes first')\n",
    "elif name1 == name2:\n",
    "    print ('duplicate words, check again')\n",
    "else: \n",
    "    print (f'{name1} comes first')"
   ]
  },
  {
   "cell_type": "code",
   "execution_count": 33,
   "id": "8fa99ce2",
   "metadata": {},
   "outputs": [
    {
     "ename": "SyntaxError",
     "evalue": "invalid syntax (3834421311.py, line 5)",
     "output_type": "error",
     "traceback": [
      "\u001b[0;36m  Cell \u001b[0;32mIn[33], line 5\u001b[0;36m\u001b[0m\n\u001b[0;31m    elif name == 'ahmed' and company=get_ipython().getoutput(\" 'cisco':\")\u001b[0m\n\u001b[0m                                    ^\u001b[0m\n\u001b[0;31mSyntaxError\u001b[0m\u001b[0;31m:\u001b[0m invalid syntax\n"
     ]
    }
   ],
   "source": [
    "myname= 'ahmed'\n",
    "company= 'cisco'\n",
    "name= input ('Enter a name: ')\n",
    "comp= input ('Enter a company name: ')\n",
    "if name== myname and comp== company :\n",
    "    print('you are me')\n",
    "elif name == myname and comp=! company:\n",
    "    print ('Hey there')\n",
    "elif name=! myna and company== cisco:\n",
    "    print (' Hello Colleague')\n",
    "else: \n",
    "    print ('Hello, who are you')"
   ]
  },
  {
   "cell_type": "code",
   "execution_count": null,
   "id": "8a8fe043",
   "metadata": {},
   "outputs": [],
   "source": []
  }
 ],
 "metadata": {
  "kernelspec": {
   "display_name": "Python 3 (ipykernel)",
   "language": "python",
   "name": "python3"
  },
  "language_info": {
   "codemirror_mode": {
    "name": "ipython",
    "version": 3
   },
   "file_extension": ".py",
   "mimetype": "text/x-python",
   "name": "python",
   "nbconvert_exporter": "python",
   "pygments_lexer": "ipython3",
   "version": "3.12.3"
  }
 },
 "nbformat": 4,
 "nbformat_minor": 5
}
