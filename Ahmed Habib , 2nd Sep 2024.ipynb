{
 "cells": [
  {
   "cell_type": "code",
   "execution_count": 2,
   "id": "a12bfc39",
   "metadata": {},
   "outputs": [
    {
     "name": "stdout",
     "output_type": "stream",
     "text": [
      "hello Cisconians\n"
     ]
    }
   ],
   "source": [
    "print('hello Cisconians')"
   ]
  },
  {
   "cell_type": "code",
   "execution_count": 4,
   "id": "9fbd161e",
   "metadata": {},
   "outputs": [
    {
     "name": "stdout",
     "output_type": "stream",
     "text": [
      "Hello, Habib\n"
     ]
    }
   ],
   "source": [
    "name = 'Habib'\n",
    "print('Hello, '+ name)"
   ]
  },
  {
   "cell_type": "code",
   "execution_count": 8,
   "id": "64f121ee",
   "metadata": {},
   "outputs": [
    {
     "name": "stdout",
     "output_type": "stream",
     "text": [
      "Hello Sons, YounisNouh\n"
     ]
    }
   ],
   "source": [
    "x= 'Younis'\n",
    "y= 'Nouh'\n",
    "print ('Hello Sons, ' + x +  y)"
   ]
  },
  {
   "cell_type": "code",
   "execution_count": 22,
   "id": "2d6046e1",
   "metadata": {},
   "outputs": [
    {
     "name": "stdout",
     "output_type": "stream",
     "text": [
      "Enter a 1st name: egg\n",
      "Enter a 2nd name: chicken\n",
      "chicken comes first\n"
     ]
    }
   ],
   "source": [
    "name1= input ('Enter a 1st name: ')\n",
    "name2= input ('Enter a 2nd name: ')\n",
    "if name1 > name2:\n",
    "    print(f'{name2} comes first')\n",
    "else: \n",
    "    print (f'{name1} comes first')"
   ]
  },
  {
   "cell_type": "code",
   "execution_count": 29,
   "id": "15322ba6",
   "metadata": {},
   "outputs": [
    {
     "name": "stdout",
     "output_type": "stream",
     "text": [
      "Enter a 1st name: ahmed\n",
      "Enter a 2nd name: habib\n",
      "ahmed comes first\n"
     ]
    }
   ],
   "source": [
    "name1= input ('Enter a 1st name: ')\n",
    "name2= input ('Enter a 2nd name: ')\n",
    "if name1 > name2:\n",
    "    print(f'{name2} comes first')\n",
    "elif name1 == name2:\n",
    "    print ('duplicate words, check again')\n",
    "else: \n",
    "    print (f'{name1} comes first')"
   ]
  },
  {
   "cell_type": "code",
   "execution_count": null,
   "id": "77475536",
   "metadata": {},
   "outputs": [],
   "source": [
    "name= input ('Enter a name: ')\n",
    "Company= input ('Enter a company name: ')\n",
    "if name==ahmed > name2:\n",
    "    print(f'{name2} comes first')\n",
    "elif name1 == name2:\n",
    "    print ('duplicate words, check again')\n",
    "else: \n",
    "    print (f'{name1} comes first')"
   ]
  }
 ],
 "metadata": {
  "kernelspec": {
   "display_name": "Python 3 (ipykernel)",
   "language": "python",
   "name": "python3"
  },
  "language_info": {
   "codemirror_mode": {
    "name": "ipython",
    "version": 3
   },
   "file_extension": ".py",
   "mimetype": "text/x-python",
   "name": "python",
   "nbconvert_exporter": "python",
   "pygments_lexer": "ipython3",
   "version": "3.12.3"
  }
 },
 "nbformat": 4,
 "nbformat_minor": 5
}
