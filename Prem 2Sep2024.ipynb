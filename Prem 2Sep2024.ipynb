{
 "cells": [
  {
   "cell_type": "code",
   "execution_count": 1,
   "id": "db6e65c6",
   "metadata": {},
   "outputs": [
    {
     "name": "stdout",
     "output_type": "stream",
     "text": [
      "Hello\n"
     ]
    }
   ],
   "source": [
    "print(\"Hello\")"
   ]
  },
  {
   "cell_type": "code",
   "execution_count": 2,
   "id": "fc3775b5",
   "metadata": {},
   "outputs": [
    {
     "name": "stdout",
     "output_type": "stream",
     "text": [
      "Seems it works :)\n"
     ]
    }
   ],
   "source": [
    "print(\"Seems it works :)\")"
   ]
  },
  {
   "cell_type": "code",
   "execution_count": 7,
   "id": "fdc36fdf",
   "metadata": {},
   "outputs": [
    {
     "name": "stdout",
     "output_type": "stream",
     "text": [
      "Welcome Przemek nice too meet you !\n",
      "good job done\n"
     ]
    }
   ],
   "source": [
    "name = \"Przemek\"\n",
    "print (\"Welcome\",name,\"nice too meet you !\")\n",
    "# marrkdown to komentarz\n",
    "print (\"good job done\")"
   ]
  },
  {
   "cell_type": "markdown",
   "id": "429b312d",
   "metadata": {},
   "source": [
    "to jest opis"
   ]
  },
  {
   "cell_type": "code",
   "execution_count": 8,
   "id": "440e9dcb",
   "metadata": {},
   "outputs": [
    {
     "ename": "SyntaxError",
     "evalue": "invalid syntax (2155977952.py, line 1)",
     "output_type": "error",
     "traceback": [
      "\u001b[0;36m  Cell \u001b[0;32mIn[8], line 1\u001b[0;36m\u001b[0m\n\u001b[0;31m    to jest opis\u001b[0m\n\u001b[0m       ^\u001b[0m\n\u001b[0;31mSyntaxError\u001b[0m\u001b[0;31m:\u001b[0m invalid syntax\n"
     ]
    }
   ],
   "source": [
    "to jest opis"
   ]
  },
  {
   "cell_type": "code",
   "execution_count": null,
   "id": "bdf30d33",
   "metadata": {},
   "outputs": [],
   "source": []
  }
 ],
 "metadata": {
  "kernelspec": {
   "display_name": "Python 3 (ipykernel)",
   "language": "python",
   "name": "python3"
  },
  "language_info": {
   "codemirror_mode": {
    "name": "ipython",
    "version": 3
   },
   "file_extension": ".py",
   "mimetype": "text/x-python",
   "name": "python",
   "nbconvert_exporter": "python",
   "pygments_lexer": "ipython3",
   "version": "3.12.3"
  }
 },
 "nbformat": 4,
 "nbformat_minor": 5
}
