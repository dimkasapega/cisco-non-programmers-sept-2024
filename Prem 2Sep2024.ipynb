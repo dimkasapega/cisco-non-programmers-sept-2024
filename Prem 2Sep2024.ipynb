{
 "cells": [
  {
   "cell_type": "code",
   "execution_count": 1,
   "id": "f7f680b7",
   "metadata": {},
   "outputs": [
    {
     "name": "stdout",
     "output_type": "stream",
     "text": [
      "Hello\n"
     ]
    }
   ],
   "source": [
    "print(\"Hello\")"
   ]
  },
  {
   "cell_type": "code",
   "execution_count": 2,
   "id": "b2e1ffdb",
   "metadata": {},
   "outputs": [
    {
     "name": "stdout",
     "output_type": "stream",
     "text": [
      "Seems it works :)\n"
     ]
    }
   ],
   "source": [
    "print(\"Seems it works :)\")"
   ]
  },
  {
   "cell_type": "code",
   "execution_count": 6,
   "id": "0556608e",
   "metadata": {},
   "outputs": [
    {
     "name": "stdout",
     "output_type": "stream",
     "text": [
      "Welcome Przemek nice too meet you !\n"
     ]
    }
   ],
   "source": [
    "name = \"Przemek\"\n",
    "print (\"Welcome\",name,\"nice too meet you !\")"
   ]
  },
  {
   "cell_type": "code",
   "execution_count": null,
   "id": "b29b55d9",
   "metadata": {},
   "outputs": [],
   "source": []
  }
 ],
 "metadata": {
  "kernelspec": {
   "display_name": "Python 3 (ipykernel)",
   "language": "python",
   "name": "python3"
  },
  "language_info": {
   "codemirror_mode": {
    "name": "ipython",
    "version": 3
   },
   "file_extension": ".py",
   "mimetype": "text/x-python",
   "name": "python",
   "nbconvert_exporter": "python",
   "pygments_lexer": "ipython3",
   "version": "3.12.3"
  }
 },
 "nbformat": 4,
 "nbformat_minor": 5
}
