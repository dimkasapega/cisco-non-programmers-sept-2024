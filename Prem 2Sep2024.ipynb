{
 "cells": [
  {
   "cell_type": "code",
   "execution_count": 1,
   "id": "e505f378",
   "metadata": {},
   "outputs": [
    {
     "name": "stdout",
     "output_type": "stream",
     "text": [
      "Hello\n"
     ]
    }
   ],
   "source": [
    "print(\"Hello\")"
   ]
  },
  {
   "cell_type": "code",
   "execution_count": 2,
   "id": "6a4539b0",
   "metadata": {},
   "outputs": [
    {
     "name": "stdout",
     "output_type": "stream",
     "text": [
      "Seems it works :)\n"
     ]
    }
   ],
   "source": [
    "print(\"Seems it works :)\")"
   ]
  },
  {
   "cell_type": "code",
   "execution_count": 7,
   "id": "d39bd553",
   "metadata": {},
   "outputs": [
    {
     "name": "stdout",
     "output_type": "stream",
     "text": [
      "Welcome Przemek nice too meet you !\n",
      "good job done\n"
     ]
    }
   ],
   "source": [
    "name = \"Przemek\"\n",
    "print (\"Welcome\",name,\"nice too meet you !\")\n",
    "# marrkdown to komentarz\n",
    "print (\"good job done\")"
   ]
  },
  {
   "cell_type": "markdown",
   "id": "f987a18e",
   "metadata": {},
   "source": [
    "to jest opis"
   ]
  },
  {
   "cell_type": "code",
   "execution_count": 8,
   "id": "3784833e",
   "metadata": {},
   "outputs": [
    {
     "ename": "SyntaxError",
     "evalue": "invalid syntax (2155977952.py, line 1)",
     "output_type": "error",
     "traceback": [
      "\u001b[0;36m  Cell \u001b[0;32mIn[8], line 1\u001b[0;36m\u001b[0m\n\u001b[0;31m    to jest opis\u001b[0m\n\u001b[0m       ^\u001b[0m\n\u001b[0;31mSyntaxError\u001b[0m\u001b[0;31m:\u001b[0m invalid syntax\n"
     ]
    }
   ],
   "source": [
    "to jest opis"
   ]
  },
  {
   "cell_type": "code",
   "execution_count": 12,
   "id": "219a8d8e",
   "metadata": {},
   "outputs": [
    {
     "name": "stdout",
     "output_type": "stream",
     "text": [
      "Enter your name : Przemek\n",
      "Enter your city : Krakow\n",
      "Hello Przemek from Krakow, nice to meet you !!!\n"
     ]
    }
   ],
   "source": [
    "name = input (\"Enter your name : \")\n",
    "city = input('Enter your city : ')\n",
    "print(\"Hello \"+name+' from '+city+', nice to meet you !!!')"
   ]
  },
  {
   "cell_type": "code",
   "execution_count": 24,
   "id": "f79f1095",
   "metadata": {},
   "outputs": [
    {
     "name": "stdout",
     "output_type": "stream",
     "text": [
      "Enter first word : mat\n",
      "Enter second word : mat\n",
      "Words mat and mat are the same !!!\n"
     ]
    }
   ],
   "source": [
    "name1 = input(\"Enter first word : \")\n",
    "name2 = input(\"Enter second word : \")\n",
    "if name1 < name2 :\n",
    "    print(f\"Word {name1} comes before {name2}\")\n",
    "elif name1 > name2 :\n",
    "    print(f\"Word {name2} comes before {name1}\")\n",
    "else :\n",
    "    print(f\"Words {name1} and {name2} are the same !!!\")"
   ]
  },
  {
   "cell_type": "code",
   "execution_count": 32,
   "id": "d09e8a04",
   "metadata": {},
   "outputs": [
    {
     "name": "stdout",
     "output_type": "stream",
     "text": [
      "Enter your name : Jurek\n",
      "Enter your company : Bisco\n",
      "Welcome fiend Jurek from company Bisco !!\n"
     ]
    }
   ],
   "source": [
    "name = input('Enter your name : ')\n",
    "company = input('Enter your company : ')\n",
    "if name == '' :\n",
    "    print(\"you haven't provided your name !!\")\n",
    "elif company == '' :\n",
    "    print(\"you haven't provided your company !!\")\n",
    "elif name == 'Przem' and company == 'Cisco' :\n",
    "    print(\"you claim to be me :)  !!\")\n",
    "elif name == 'Przem' : # and company != 'Cisco' :    # to and jest chyba niepotrzebne\n",
    "    print(f\"Welcome another {name} from company {company} !!\")\n",
    "elif company == 'Cisco' :\n",
    "    print(f\"Welcome mate {name} from my company {company} !!\")\n",
    "else :\n",
    "    print(f\"Welcome fiend {name} from company {company} !!\")"
   ]
  },
  {
   "cell_type": "code",
   "execution_count": 46,
   "id": "c9bbb4a2",
   "metadata": {},
   "outputs": [
    {
     "name": "stdout",
     "output_type": "stream",
     "text": [
      "guess the number : 2\n",
      "Wrong, too low !\n"
     ]
    }
   ],
   "source": [
    "# number = input(\"enter the integer number : \")\n",
    "# number = int (number)\n",
    "number = 32\n",
    "number2 = input('guess the number : ')\n",
    "number2 = int (number2)\n",
    "if number2 == number :\n",
    "    print ('you got it !')\n",
    "elif number2 < number :\n",
    "    print('Wrong, too low !')\n",
    "else :\n",
    "    print('Wrong, too high !')"
   ]
  },
  {
   "cell_type": "code",
   "execution_count": 61,
   "id": "f238a456",
   "metadata": {},
   "outputs": [
    {
     "name": "stdout",
     "output_type": "stream",
     "text": [
      "Enter the string : pineapple\n",
      "Enter the index : 1\n",
      "Your word is pineapple and its 1 character is 'p'\n"
     ]
    }
   ],
   "source": [
    "txt1 = input('Enter the string : ')\n",
    "id1 = input('Enter the index : ')\n",
    "id1 = int(id1)\n",
    "if id1 <= 0 :\n",
    "    print('You entered zero or negative number')\n",
    "elif id1 > len(txt1) :\n",
    "    print('You entered too big index')\n",
    "else :\n",
    "    print(f'Your word is {txt1} and its {id1} character is \\'{txt1[id1-1]}\\'' )\n",
    "    "
   ]
  },
  {
   "cell_type": "code",
   "execution_count": 72,
   "id": "42d522a6",
   "metadata": {},
   "outputs": [
    {
     "name": "stdout",
     "output_type": "stream",
     "text": [
      "enter the word : yrange\n",
      "rangeyay\n"
     ]
    }
   ],
   "source": [
    "txt1 = input('enter the word : ')\n",
    "# if txt1[0] == 'a' or txt1[0] == 'e' or txt1[0] == 'i' or txt1[0] == 'o' or txt1[0] == 'u' :\n",
    "if txt1[0] in 'aeiou' :\n",
    "    txt1 = txt1 + 'way'\n",
    "else :\n",
    "    txt1 = txt1[1:]+txt1[0]+'ay'\n",
    "print (txt1)"
   ]
  },
  {
   "cell_type": "code",
   "execution_count": 85,
   "id": "c1d189b1",
   "metadata": {},
   "outputs": [
    {
     "name": "stdout",
     "output_type": "stream",
     "text": [
      "please enter number 1 : e\n",
      "please enter number 2 : 12\n",
      "e is not a valid number !!!\n"
     ]
    }
   ],
   "source": [
    "t1 = input('please enter number 1 : ').strip()\n",
    "t2 = input('please enter number 2 : ').strip()\n",
    "if not t1.isdigit() :\n",
    "    print(f'{t1} is not a valid number !!!')\n",
    "    if not t2.isdigit() :\n",
    "        \n",
    "elif not t2.isdigit() :\n",
    "    print(f'{t2} is not a valid number !!!')\n",
    "else :\n",
    "    t1 = int (t1)\n",
    "    t2 = int (t2)\n",
    "    print(f'{t1} + {t2} = {t1+t2}')"
   ]
  },
  {
   "cell_type": "code",
   "execution_count": null,
   "id": "3b321ed4",
   "metadata": {},
   "outputs": [],
   "source": []
  }
 ],
 "metadata": {
  "kernelspec": {
   "display_name": "Python 3 (ipykernel)",
   "language": "python",
   "name": "python3"
  },
  "language_info": {
   "codemirror_mode": {
    "name": "ipython",
    "version": 3
   },
   "file_extension": ".py",
   "mimetype": "text/x-python",
   "name": "python",
   "nbconvert_exporter": "python",
   "pygments_lexer": "ipython3",
   "version": "3.12.3"
  }
 },
 "nbformat": 4,
 "nbformat_minor": 5
}
