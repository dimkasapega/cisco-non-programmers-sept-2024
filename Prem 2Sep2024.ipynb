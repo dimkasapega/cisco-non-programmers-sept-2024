{
 "cells": [
  {
   "cell_type": "code",
   "execution_count": 1,
   "id": "dd0034e4",
   "metadata": {},
   "outputs": [
    {
     "name": "stdout",
     "output_type": "stream",
     "text": [
      "Hello\n"
     ]
    }
   ],
   "source": [
    "print(\"Hello\")"
   ]
  },
  {
   "cell_type": "code",
   "execution_count": 2,
   "id": "1e5bf13d",
   "metadata": {},
   "outputs": [
    {
     "name": "stdout",
     "output_type": "stream",
     "text": [
      "Seems it works :)\n"
     ]
    }
   ],
   "source": [
    "print(\"Seems it works :)\")"
   ]
  },
  {
   "cell_type": "code",
   "execution_count": 7,
   "id": "386350c0",
   "metadata": {},
   "outputs": [
    {
     "name": "stdout",
     "output_type": "stream",
     "text": [
      "Welcome Przemek nice too meet you !\n",
      "good job done\n"
     ]
    }
   ],
   "source": [
    "name = \"Przemek\"\n",
    "print (\"Welcome\",name,\"nice too meet you !\")\n",
    "# marrkdown to komentarz\n",
    "print (\"good job done\")"
   ]
  },
  {
   "cell_type": "markdown",
   "id": "91250342",
   "metadata": {},
   "source": [
    "to jest opis"
   ]
  },
  {
   "cell_type": "code",
   "execution_count": 8,
   "id": "bdba3ccf",
   "metadata": {},
   "outputs": [
    {
     "ename": "SyntaxError",
     "evalue": "invalid syntax (2155977952.py, line 1)",
     "output_type": "error",
     "traceback": [
      "\u001b[0;36m  Cell \u001b[0;32mIn[8], line 1\u001b[0;36m\u001b[0m\n\u001b[0;31m    to jest opis\u001b[0m\n\u001b[0m       ^\u001b[0m\n\u001b[0;31mSyntaxError\u001b[0m\u001b[0;31m:\u001b[0m invalid syntax\n"
     ]
    }
   ],
   "source": [
    "to jest opis"
   ]
  },
  {
   "cell_type": "code",
   "execution_count": 12,
   "id": "db4d6b57",
   "metadata": {},
   "outputs": [
    {
     "name": "stdout",
     "output_type": "stream",
     "text": [
      "Enter your name : Przemek\n",
      "Enter your city : Krakow\n",
      "Hello Przemek from Krakow, nice to meet you !!!\n"
     ]
    }
   ],
   "source": [
    "name = input (\"Enter your name : \")\n",
    "city = input('Enter your city : ')\n",
    "print(\"Hello \"+name+' from '+city+', nice to meet you !!!')"
   ]
  },
  {
   "cell_type": "code",
   "execution_count": 21,
   "id": "6c834ffd",
   "metadata": {},
   "outputs": [
    {
     "name": "stdout",
     "output_type": "stream",
     "text": [
      "Enter first word : Pat\n",
      "Enter second word : Pat\n",
      "Words Pat and Pat are the same !!!\n"
     ]
    }
   ],
   "source": [
    "name1 = input(\"Enter first word : \")\n",
    "name2 = input(\"Enter second word : \")\n",
    "if name1 < name2 :\n",
    "    print(f\"Word {name1} goes before {name2}\")\n",
    "elif name1 > name2 :\n",
    "   print(f\"Word {name2} goes before {name1}\")\n",
    "else :\n",
    "       print(f\"Words {name1} and {name2} are the same !!!\")\n",
    "        "
   ]
  },
  {
   "cell_type": "code",
   "execution_count": null,
   "id": "cebe9ed5",
   "metadata": {},
   "outputs": [],
   "source": []
  },
  {
   "cell_type": "code",
   "execution_count": null,
   "id": "148120b1",
   "metadata": {},
   "outputs": [],
   "source": []
  }
 ],
 "metadata": {
  "kernelspec": {
   "display_name": "Python 3 (ipykernel)",
   "language": "python",
   "name": "python3"
  },
  "language_info": {
   "codemirror_mode": {
    "name": "ipython",
    "version": 3
   },
   "file_extension": ".py",
   "mimetype": "text/x-python",
   "name": "python",
   "nbconvert_exporter": "python",
   "pygments_lexer": "ipython3",
   "version": "3.12.3"
  }
 },
 "nbformat": 4,
 "nbformat_minor": 5
}
