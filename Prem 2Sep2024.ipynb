{
 "cells": [
  {
   "cell_type": "code",
   "execution_count": 1,
   "id": "57b85f3c",
   "metadata": {},
   "outputs": [
    {
     "name": "stdout",
     "output_type": "stream",
     "text": [
      "Hello\n"
     ]
    }
   ],
   "source": [
    "print(\"Hello\")"
   ]
  },
  {
   "cell_type": "code",
   "execution_count": 2,
   "id": "d3965ef3",
   "metadata": {},
   "outputs": [
    {
     "name": "stdout",
     "output_type": "stream",
     "text": [
      "Seems it works :)\n"
     ]
    }
   ],
   "source": [
    "print(\"Seems it works :)\")"
   ]
  },
  {
   "cell_type": "code",
   "execution_count": 7,
   "id": "cda9d97e",
   "metadata": {},
   "outputs": [
    {
     "name": "stdout",
     "output_type": "stream",
     "text": [
      "Welcome Przemek nice too meet you !\n",
      "good job done\n"
     ]
    }
   ],
   "source": [
    "name = \"Przemek\"\n",
    "print (\"Welcome\",name,\"nice too meet you !\")\n",
    "# marrkdown to komentarz\n",
    "print (\"good job done\")"
   ]
  },
  {
   "cell_type": "markdown",
   "id": "dbe12e96",
   "metadata": {},
   "source": [
    "to jest opis"
   ]
  },
  {
   "cell_type": "code",
   "execution_count": 8,
   "id": "a62dabb9",
   "metadata": {},
   "outputs": [
    {
     "ename": "SyntaxError",
     "evalue": "invalid syntax (2155977952.py, line 1)",
     "output_type": "error",
     "traceback": [
      "\u001b[0;36m  Cell \u001b[0;32mIn[8], line 1\u001b[0;36m\u001b[0m\n\u001b[0;31m    to jest opis\u001b[0m\n\u001b[0m       ^\u001b[0m\n\u001b[0;31mSyntaxError\u001b[0m\u001b[0;31m:\u001b[0m invalid syntax\n"
     ]
    }
   ],
   "source": [
    "to jest opis"
   ]
  },
  {
   "cell_type": "code",
   "execution_count": 12,
   "id": "cb1c8d98",
   "metadata": {},
   "outputs": [
    {
     "name": "stdout",
     "output_type": "stream",
     "text": [
      "Enter your name : Przemek\n",
      "Enter your city : Krakow\n",
      "Hello Przemek from Krakow, nice to meet you !!!\n"
     ]
    }
   ],
   "source": [
    "name = input (\"Enter your name : \")\n",
    "city = input('Enter your city : ')\n",
    "print(\"Hello \"+name+' from '+city+', nice to meet you !!!')"
   ]
  },
  {
   "cell_type": "code",
   "execution_count": 24,
   "id": "ca269fae",
   "metadata": {},
   "outputs": [
    {
     "name": "stdout",
     "output_type": "stream",
     "text": [
      "Enter first word : mat\n",
      "Enter second word : mat\n",
      "Words mat and mat are the same !!!\n"
     ]
    }
   ],
   "source": [
    "name1 = input(\"Enter first word : \")\n",
    "name2 = input(\"Enter second word : \")\n",
    "if name1 < name2 :\n",
    "    print(f\"Word {name1} comes before {name2}\")\n",
    "elif name1 > name2 :\n",
    "    print(f\"Word {name2} comes before {name1}\")\n",
    "else :\n",
    "    print(f\"Words {name1} and {name2} are the same !!!\")"
   ]
  },
  {
   "cell_type": "code",
   "execution_count": 32,
   "id": "b1853288",
   "metadata": {},
   "outputs": [
    {
     "name": "stdout",
     "output_type": "stream",
     "text": [
      "Enter your name : Jurek\n",
      "Enter your company : Bisco\n",
      "Welcome fiend Jurek from company Bisco !!\n"
     ]
    }
   ],
   "source": [
    "name = input('Enter your name : ')\n",
    "company = input('Enter your company : ')\n",
    "if name == '' :\n",
    "    print(\"you haven't provided your name !!\")\n",
    "elif company == '' :\n",
    "    print(\"you haven't provided your company !!\")\n",
    "elif name == 'Przem' and company == 'Cisco' :\n",
    "    print(\"you claim to be me :)  !!\")\n",
    "elif name == 'Przem' : # and company != 'Cisco' :    # to and jest chyba niepotrzebne\n",
    "    print(f\"Welcome another {name} from company {company} !!\")\n",
    "elif company == 'Cisco' :\n",
    "    print(f\"Welcome mate {name} from my company {company} !!\")\n",
    "else :\n",
    "    print(f\"Welcome fiend {name} from company {company} !!\")"
   ]
  },
  {
   "cell_type": "code",
   "execution_count": 38,
   "id": "50542261",
   "metadata": {},
   "outputs": [
    {
     "name": "stdout",
     "output_type": "stream",
     "text": [
      "enter the integer number : 32\n",
      "32\n",
      "64\n"
     ]
    }
   ],
   "source": [
    "# number = input(\"enter the integer number : \")\n",
    "# number = int (number)\n",
    "nu\n",
    "number2 = input{'guess the number : '}\n",
    "number2 = int (number2)\n",
    "if number == number2 :\n",
    "    print ('you got it !')\n",
    "elif number2 < number :\n",
    "    print('Wrong, too low !')\n",
    "else :\n",
    "    print('Wrong, too high !')"
   ]
  },
  {
   "cell_type": "code",
   "execution_count": null,
   "id": "fb924245",
   "metadata": {},
   "outputs": [],
   "source": []
  }
 ],
 "metadata": {
  "kernelspec": {
   "display_name": "Python 3 (ipykernel)",
   "language": "python",
   "name": "python3"
  },
  "language_info": {
   "codemirror_mode": {
    "name": "ipython",
    "version": 3
   },
   "file_extension": ".py",
   "mimetype": "text/x-python",
   "name": "python",
   "nbconvert_exporter": "python",
   "pygments_lexer": "ipython3",
   "version": "3.12.3"
  }
 },
 "nbformat": 4,
 "nbformat_minor": 5
}
