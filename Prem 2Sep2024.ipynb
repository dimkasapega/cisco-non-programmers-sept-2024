{
 "cells": [
  {
   "cell_type": "code",
   "execution_count": 1,
   "id": "1d4c856a",
   "metadata": {},
   "outputs": [
    {
     "name": "stdout",
     "output_type": "stream",
     "text": [
      "Hello\n"
     ]
    }
   ],
   "source": [
    "print(\"Hello\")"
   ]
  },
  {
   "cell_type": "code",
   "execution_count": 2,
   "id": "2af9304e",
   "metadata": {},
   "outputs": [
    {
     "name": "stdout",
     "output_type": "stream",
     "text": [
      "Seems it works :)\n"
     ]
    }
   ],
   "source": [
    "print(\"Seems it works :)\")"
   ]
  },
  {
   "cell_type": "code",
   "execution_count": 7,
   "id": "025b0996",
   "metadata": {},
   "outputs": [
    {
     "name": "stdout",
     "output_type": "stream",
     "text": [
      "Welcome Przemek nice too meet you !\n",
      "good job done\n"
     ]
    }
   ],
   "source": [
    "name = \"Przemek\"\n",
    "print (\"Welcome\",name,\"nice too meet you !\")\n",
    "# marrkdown to komentarz\n",
    "print (\"good job done\")"
   ]
  },
  {
   "cell_type": "markdown",
   "id": "ec00a1eb",
   "metadata": {},
   "source": [
    "to jest opis"
   ]
  },
  {
   "cell_type": "code",
   "execution_count": 8,
   "id": "59f6ea2b",
   "metadata": {},
   "outputs": [
    {
     "ename": "SyntaxError",
     "evalue": "invalid syntax (2155977952.py, line 1)",
     "output_type": "error",
     "traceback": [
      "\u001b[0;36m  Cell \u001b[0;32mIn[8], line 1\u001b[0;36m\u001b[0m\n\u001b[0;31m    to jest opis\u001b[0m\n\u001b[0m       ^\u001b[0m\n\u001b[0;31mSyntaxError\u001b[0m\u001b[0;31m:\u001b[0m invalid syntax\n"
     ]
    }
   ],
   "source": [
    "to jest opis"
   ]
  },
  {
   "cell_type": "code",
   "execution_count": 12,
   "id": "8d9912e7",
   "metadata": {},
   "outputs": [
    {
     "name": "stdout",
     "output_type": "stream",
     "text": [
      "Enter your name : Przemek\n",
      "Enter your city : Krakow\n",
      "Hello Przemek from Krakow, nice to meet you !!!\n"
     ]
    }
   ],
   "source": [
    "name = input (\"Enter your name : \")\n",
    "city = input('Enter your city : ')\n",
    "print(\"Hello \"+name+' from '+city+', nice to meet you !!!')"
   ]
  },
  {
   "cell_type": "code",
   "execution_count": 24,
   "id": "8e9ca1c9",
   "metadata": {},
   "outputs": [
    {
     "name": "stdout",
     "output_type": "stream",
     "text": [
      "Enter first word : mat\n",
      "Enter second word : mat\n",
      "Words mat and mat are the same !!!\n"
     ]
    }
   ],
   "source": [
    "name1 = input(\"Enter first word : \")\n",
    "name2 = input(\"Enter second word : \")\n",
    "if name1 < name2 :\n",
    "    print(f\"Word {name1} comes before {name2}\")\n",
    "elif name1 > name2 :\n",
    "    print(f\"Word {name2} comes before {name1}\")\n",
    "else :\n",
    "    print(f\"Words {name1} and {name2} are the same !!!\")"
   ]
  },
  {
   "cell_type": "code",
   "execution_count": 32,
   "id": "6bdcdb67",
   "metadata": {},
   "outputs": [
    {
     "name": "stdout",
     "output_type": "stream",
     "text": [
      "Enter your name : Jurek\n",
      "Enter your company : Bisco\n",
      "Welcome fiend Jurek from company Bisco !!\n"
     ]
    }
   ],
   "source": [
    "name = input('Enter your name : ')\n",
    "company = input('Enter your company : ')\n",
    "if name == '' :\n",
    "    print(\"you haven't provided your name !!\")\n",
    "elif company == '' :\n",
    "    print(\"you haven't provided your company !!\")\n",
    "elif name == 'Przem' and company == 'Cisco' :\n",
    "    print(\"you claim to be me :)  !!\")\n",
    "elif name == 'Przem' : # and company != 'Cisco' :    # to and jest chyba niepotrzebne\n",
    "    print(f\"Welcome another {name} from company {company} !!\")\n",
    "elif company == 'Cisco' :\n",
    "    print(f\"Welcome mate {name} from my company {company} !!\")\n",
    "else :\n",
    "    print(f\"Welcome fiend {name} from company {company} !!\")"
   ]
  },
  {
   "cell_type": "code",
   "execution_count": 46,
   "id": "9b0d84c9",
   "metadata": {},
   "outputs": [
    {
     "name": "stdout",
     "output_type": "stream",
     "text": [
      "guess the number : 2\n",
      "Wrong, too low !\n"
     ]
    }
   ],
   "source": [
    "# number = input(\"enter the integer number : \")\n",
    "# number = int (number)\n",
    "number = 32\n",
    "number2 = input('guess the number : ')\n",
    "number2 = int (number2)\n",
    "if number2 == number :\n",
    "    print ('you got it !')\n",
    "elif number2 < number :\n",
    "    print('Wrong, too low !')\n",
    "else :\n",
    "    print('Wrong, too high !')"
   ]
  },
  {
   "cell_type": "code",
   "execution_count": 61,
   "id": "97b38637",
   "metadata": {},
   "outputs": [
    {
     "name": "stdout",
     "output_type": "stream",
     "text": [
      "Enter the string : pineapple\n",
      "Enter the index : 1\n",
      "Your word is pineapple and its 1 character is 'p'\n"
     ]
    }
   ],
   "source": [
    "txt1 = input('Enter the string : ')\n",
    "id1 = input('Enter the index : ')\n",
    "id1 = int(id1)\n",
    "if id1 <= 0 :\n",
    "    print('You entered zero or negative number')\n",
    "elif id1 > len(txt1) :\n",
    "    print('You entered too big index')\n",
    "else :\n",
    "    print(f'Your word is {txt1} and its {id1} character is \\'{txt1[id1-1]}\\'' )\n",
    "    "
   ]
  },
  {
   "cell_type": "code",
   "execution_count": 63,
   "id": "af362553",
   "metadata": {},
   "outputs": [
    {
     "name": "stdout",
     "output_type": "stream",
     "text": [
      "enter the word : orange\n"
     ]
    },
    {
     "ename": "NameError",
     "evalue": "name 'txt' is not defined",
     "output_type": "error",
     "traceback": [
      "\u001b[0;31m---------------------------------------------------------------------------\u001b[0m",
      "\u001b[0;31mNameError\u001b[0m                                 Traceback (most recent call last)",
      "Cell \u001b[0;32mIn[63], line 2\u001b[0m\n\u001b[1;32m      1\u001b[0m txt1 \u001b[38;5;241m=\u001b[39m \u001b[38;5;28minput\u001b[39m(\u001b[38;5;124m'\u001b[39m\u001b[38;5;124menter the word : \u001b[39m\u001b[38;5;124m'\u001b[39m)\n\u001b[0;32m----> 2\u001b[0m \u001b[38;5;28;01mif\u001b[39;00m \u001b[43mtxt\u001b[49m[\u001b[38;5;241m0\u001b[39m] \u001b[38;5;241m==\u001b[39m \u001b[38;5;124m'\u001b[39m\u001b[38;5;124ma\u001b[39m\u001b[38;5;124m'\u001b[39m \u001b[38;5;129;01mor\u001b[39;00m txt[\u001b[38;5;241m0\u001b[39m] \u001b[38;5;241m==\u001b[39m \u001b[38;5;124m'\u001b[39m\u001b[38;5;124me\u001b[39m\u001b[38;5;124m'\u001b[39m \u001b[38;5;129;01mor\u001b[39;00m txt[\u001b[38;5;241m0\u001b[39m] \u001b[38;5;241m==\u001b[39m \u001b[38;5;124m'\u001b[39m\u001b[38;5;124mi\u001b[39m\u001b[38;5;124m'\u001b[39m \u001b[38;5;129;01mor\u001b[39;00m txt[\u001b[38;5;241m0\u001b[39m] \u001b[38;5;241m==\u001b[39m \u001b[38;5;124m'\u001b[39m\u001b[38;5;124mo\u001b[39m\u001b[38;5;124m'\u001b[39m \u001b[38;5;129;01mor\u001b[39;00m txt[\u001b[38;5;241m0\u001b[39m] \u001b[38;5;241m==\u001b[39m \u001b[38;5;124m'\u001b[39m\u001b[38;5;124mu\u001b[39m\u001b[38;5;124m'\u001b[39m :\n\u001b[1;32m      3\u001b[0m     txt1 \u001b[38;5;241m=\u001b[39m txt1 \u001b[38;5;241m+\u001b[39m \u001b[38;5;124m'\u001b[39m\u001b[38;5;124mway\u001b[39m\u001b[38;5;124m'\u001b[39m\n\u001b[1;32m      4\u001b[0m \u001b[38;5;28;01melse\u001b[39;00m :\n",
      "\u001b[0;31mNameError\u001b[0m: name 'txt' is not defined"
     ]
    }
   ],
   "source": [
    "txt1 = input('enter the word : ')\n",
    "if txt[0] == 'a' or txt[0] == 'e' or txt[0] == 'i' or txt[0] == 'o' or txt[0] == 'u' :\n",
    "    txt1 = txt1 + 'way'\n",
    "else :\n",
    "    txt1 = txt1[1:len(txt1)-1]+txt1[0]+'ay'\n",
    "print (txt1)"
   ]
  },
  {
   "cell_type": "code",
   "execution_count": null,
   "id": "f4281aef",
   "metadata": {},
   "outputs": [],
   "source": [
    "orange"
   ]
  }
 ],
 "metadata": {
  "kernelspec": {
   "display_name": "Python 3 (ipykernel)",
   "language": "python",
   "name": "python3"
  },
  "language_info": {
   "codemirror_mode": {
    "name": "ipython",
    "version": 3
   },
   "file_extension": ".py",
   "mimetype": "text/x-python",
   "name": "python",
   "nbconvert_exporter": "python",
   "pygments_lexer": "ipython3",
   "version": "3.12.3"
  }
 },
 "nbformat": 4,
 "nbformat_minor": 5
}
