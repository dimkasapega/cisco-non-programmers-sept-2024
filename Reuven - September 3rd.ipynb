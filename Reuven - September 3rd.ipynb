{
 "cells": [
  {
   "cell_type": "markdown",
   "id": "0a1a10e2",
   "metadata": {},
   "source": [
    "# Agenda\n",
    "\n",
    "1. Recap of day 1\n",
    "2. Q&A\n",
    "3. Exercise\n",
    "4. Loops\n",
    "    - `for` loops\n",
    "    - indexes (or not)\n",
    "    - `while` loops\n",
    "    - controlling our loops with `break` and `continue`\n",
    "5. Lists\n",
    "    - Creating lists\n",
    "    - Working with lists\n",
    "    - How lists are similar to (and different from) strings\n",
    "    - List methods\n",
    "6. Converting from strings to lists (and back)\n",
    "    - `str.split`\n",
    "    - `str.join`\n",
    "7. Tuples\n",
    "    - Creating tuples\n",
    "    - Why do we need tuples?\n",
    "    - Tuple unpacking (which is very useful)    "
   ]
  },
  {
   "cell_type": "markdown",
   "id": "04bd38b8",
   "metadata": {},
   "source": [
    "# Recap from yesterday\n",
    "\n",
    "1. Values and variables\n",
    "    - Values are nouns, and each value has a *type* associated with it. Yesterday, we talked about three main types, `int` (whole numbers), `float` (numbers with a decimal point), and `str` (strings, containing text)\n",
    "    - If we want to refer to a value, we can use a *variable*. We assign a value to a variable with `=`\n",
    "        - If the variable doesn't already exist, then it is created at assignment time\n",
    "        - If the variable does already exist, then assignment breaks the connection between the old value and the variable, and makes a new one with the new value and the variable.\n"
   ]
  }
 ],
 "metadata": {
  "kernelspec": {
   "display_name": "Python 3 (ipykernel)",
   "language": "python",
   "name": "python3"
  },
  "language_info": {
   "codemirror_mode": {
    "name": "ipython",
    "version": 3
   },
   "file_extension": ".py",
   "mimetype": "text/x-python",
   "name": "python",
   "nbconvert_exporter": "python",
   "pygments_lexer": "ipython3",
   "version": "3.12.3"
  }
 },
 "nbformat": 4,
 "nbformat_minor": 5
}
