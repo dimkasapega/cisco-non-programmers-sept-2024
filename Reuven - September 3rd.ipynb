{
 "cells": [
  {
   "cell_type": "markdown",
   "id": "b5a04288",
   "metadata": {},
   "source": [
    "# Agenda\n",
    "\n",
    "1. Recap of day 1\n",
    "2. Q&A\n",
    "3. Exercise\n",
    "4. Loops\n",
    "    - `for` loops\n",
    "    - indexes (or not)\n",
    "    - `while` loops\n",
    "    - controlling our loops with `break` and `continue`\n",
    "5. Lists\n",
    "    - Creating lists\n",
    "    - Working with lists\n",
    "    - How lists are similar to (and different from) strings\n",
    "    - List methods\n",
    "6. Converting from strings to lists (and back)\n",
    "    - `str.split`\n",
    "    - `str.join`\n",
    "7. Tuples\n",
    "    - Creating tuples\n",
    "    - Why do we need tuples?\n",
    "    - Tuple unpacking (which is very useful)    "
   ]
  },
  {
   "cell_type": "markdown",
   "id": "5324be6f",
   "metadata": {},
   "source": [
    "# Recap from yesterday\n",
    "\n",
    "1. Values and variables\n",
    "    - Values are nouns, and each value has a *type* associated with it. Yesterday, we talked about three main types, `int` (whole numbers), `float` (numbers with a decimal point), and `str` (strings, containing text)\n",
    "    - If we want to refer to a value, we can use a *variable*. We assign a value to a variable with `=`\n",
    "        - If the variable doesn't already exist, then it is created at assignment time\n",
    "        - If the variable does already exist, then assignment breaks the connection between the old value and the variable, and makes a new one with the new value and the variable.\n",
    "2. Operators\n",
    "    - Some operators, like `+`, can work on more than one type of data\n",
    "    - Some operators, like `==`, return a *Boolean* value, meaning `True` or `False`. They indicate whether a condition is `True` or not. We can always use `==` and `!=` on any values of any sorts, but we can only use `<` and `>` on values that know what to do with them.\n",
    "3. Conditions\n",
    "    - We can use `if` to execute code only if a particular expression is `True`. That can be the result of `==` or it can be the result of a method call, such as `str.isdigit`, which returns `True` if the contents of the string are all digits (0-9).\n",
    "    - If the expression is `True`, then the block following the `if` executes. Note that the `if` needs `:` at the end of the line, and the block must be indented. When the indentation ends, the block ends as well. Inside of the block, we can have any code we want.\n",
    "    - If the expression (on the `if`) is `False`, and if there is an `else` clause, then its block (also after a `:`, and indented) is executed.\n",
    "    - If we want more clauses and conditions, we can have `elif` after `if` but before (optionally) `else`. These are checked in order, and the first one that has a `True` value runs; the rest are ignored.\n",
    "4. Numbers\n",
    "    - `int` -- whole numbers\n",
    "        - "
   ]
  }
 ],
 "metadata": {
  "kernelspec": {
   "display_name": "Python 3 (ipykernel)",
   "language": "python",
   "name": "python3"
  },
  "language_info": {
   "codemirror_mode": {
    "name": "ipython",
    "version": 3
   },
   "file_extension": ".py",
   "mimetype": "text/x-python",
   "name": "python",
   "nbconvert_exporter": "python",
   "pygments_lexer": "ipython3",
   "version": "3.12.3"
  }
 },
 "nbformat": 4,
 "nbformat_minor": 5
}
