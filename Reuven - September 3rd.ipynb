{
 "cells": [
  {
   "cell_type": "markdown",
   "id": "e1fe1226",
   "metadata": {},
   "source": [
    "# Agenda\n",
    "\n",
    "1. Recap of day 1\n",
    "2. Q&A\n",
    "3. Exercise\n",
    "4. Loops\n",
    "    - `for` loops\n",
    "    - indexes (or not)\n",
    "    - `while` loops\n",
    "    - controlling our loops with `break` and `continue`\n",
    "5. Lists\n",
    "    - Creating lists\n",
    "    - Working with lists\n",
    "    - How lists are similar to (and different from) strings\n",
    "    - List methods\n",
    "6. Converting from strings to lists (and back)\n",
    "    - `str.split`\n",
    "    - `str.join`\n",
    "7. Tuples\n",
    "    - Creating tuples\n",
    "    - Why do we need tuples?\n",
    "    - Tuple unpacking (which is very useful)    "
   ]
  },
  {
   "cell_type": "markdown",
   "id": "dcde0a93",
   "metadata": {},
   "source": [
    "# Recap from yestreda"
   ]
  }
 ],
 "metadata": {
  "kernelspec": {
   "display_name": "Python 3 (ipykernel)",
   "language": "python",
   "name": "python3"
  },
  "language_info": {
   "codemirror_mode": {
    "name": "ipython",
    "version": 3
   },
   "file_extension": ".py",
   "mimetype": "text/x-python",
   "name": "python",
   "nbconvert_exporter": "python",
   "pygments_lexer": "ipython3",
   "version": "3.12.3"
  }
 },
 "nbformat": 4,
 "nbformat_minor": 5
}
