{
 "cells": [
  {
   "cell_type": "code",
   "execution_count": 1,
   "id": "9293d10d",
   "metadata": {},
   "outputs": [
    {
     "ename": "SyntaxError",
     "evalue": "invalid syntax (4003674551.py, line 1)",
     "output_type": "error",
     "traceback": [
      "\u001b[0;36m  Cell \u001b[0;32mIn[1], line 1\u001b[0;36m\u001b[0m\n\u001b[0;31m    ```python\u001b[0m\n\u001b[0m    ^\u001b[0m\n\u001b[0;31mSyntaxError\u001b[0m\u001b[0;31m:\u001b[0m invalid syntax\n"
     ]
    }
   ],
   "source": [
    "```python\n",
    "print('hello')\n",
    "```"
   ]
  },
  {
   "cell_type": "code",
   "execution_count": 2,
   "id": "d3966820",
   "metadata": {},
   "outputs": [
    {
     "name": "stdout",
     "output_type": "stream",
     "text": [
      "hello\n"
     ]
    }
   ],
   "source": [
    "print('hello')"
   ]
  },
  {
   "cell_type": "code",
   "execution_count": 3,
   "id": "96611169",
   "metadata": {},
   "outputs": [
    {
     "name": "stdout",
     "output_type": "stream",
     "text": [
      "hello, world\n"
     ]
    }
   ],
   "source": [
    "print('hello, ' + 'world')"
   ]
  },
  {
   "cell_type": "code",
   "execution_count": 4,
   "id": "80ab7844",
   "metadata": {},
   "outputs": [
    {
     "name": "stdout",
     "output_type": "stream",
     "text": [
      "Hello, Reuven\n"
     ]
    }
   ],
   "source": [
    "name = 'Reuven'\n",
    "print('Hello, ' + name)"
   ]
  },
  {
   "cell_type": "code",
   "execution_count": 5,
   "id": "c32837aa",
   "metadata": {},
   "outputs": [
    {
     "name": "stdout",
     "output_type": "stream",
     "text": [
      "30\n"
     ]
    }
   ],
   "source": [
    "x = 10\n",
    "y = 20\n",
    "\n",
    "print(x+y)\n"
   ]
  },
  {
   "cell_type": "code",
   "execution_count": 6,
   "id": "9c05a649",
   "metadata": {},
   "outputs": [
    {
     "data": {
      "text/plain": [
       "30"
      ]
     },
     "execution_count": 6,
     "metadata": {},
     "output_type": "execute_result"
    }
   ],
   "source": [
    "x+y"
   ]
  },
  {
   "cell_type": "code",
   "execution_count": 7,
   "id": "42d646f7",
   "metadata": {},
   "outputs": [
    {
     "data": {
      "text/plain": [
       "str"
      ]
     },
     "execution_count": 7,
     "metadata": {},
     "output_type": "execute_result"
    }
   ],
   "source": [
    "x = 'abcd'\n",
    "type(x)"
   ]
  },
  {
   "cell_type": "code",
   "execution_count": 8,
   "id": "4a03bc45",
   "metadata": {},
   "outputs": [
    {
     "data": {
      "text/plain": [
       "int"
      ]
     },
     "execution_count": 8,
     "metadata": {},
     "output_type": "execute_result"
    }
   ],
   "source": [
    "x = 10\n",
    "type(x)"
   ]
  },
  {
   "cell_type": "code",
   "execution_count": 9,
   "id": "ff73d83e",
   "metadata": {},
   "outputs": [],
   "source": [
    "# comment line"
   ]
  },
  {
   "cell_type": "code",
   "execution_count": 10,
   "id": "ec66251f",
   "metadata": {},
   "outputs": [
    {
     "name": "stdout",
     "output_type": "stream",
     "text": [
      "hello everyone, i am shraddha\n"
     ]
    }
   ],
   "source": [
    "name = 'shraddha'\n",
    "print('hello everyone, i am ' + name)"
   ]
  },
  {
   "cell_type": "markdown",
   "id": "ed2bbd58",
   "metadata": {},
   "source": [
    "# markdown things\n",
    "1. to type comments\n",
    "### for sub headings\n"
   ]
  },
  {
   "cell_type": "code",
   "execution_count": 12,
   "id": "c6194132",
   "metadata": {},
   "outputs": [
    {
     "name": "stdout",
     "output_type": "stream",
     "text": [
      "Enter your nameshraddha\n",
      "name\n"
     ]
    }
   ],
   "source": [
    "name = input('Enter your name')\n",
    "print('name')"
   ]
  },
  {
   "cell_type": "code",
   "execution_count": 16,
   "id": "64bc972d",
   "metadata": {},
   "outputs": [
    {
     "name": "stdout",
     "output_type": "stream",
     "text": [
      "Enter your name: shraddha\n",
      "Enter your city: reading\n",
      "hi, i am shraddha\n",
      "i live in reading\n"
     ]
    }
   ],
   "source": [
    "name = input('Enter your name: ')\n",
    "city = input('Enter your city: ')\n",
    "print('hi, i am ' + name)\n",
    "print ('i live in ' + city)"
   ]
  },
  {
   "cell_type": "code",
   "execution_count": 21,
   "id": "7e4e0ada",
   "metadata": {},
   "outputs": [
    {
     "name": "stdout",
     "output_type": "stream",
     "text": [
      "Enter your name: shraddha\n",
      "Enter your city: Reading\n",
      "hi, i am shraddha and i live in Reading .\n"
     ]
    }
   ],
   "source": [
    "name = input('Enter your name: ')\n",
    "city = input('Enter your city: ')\n",
    "print('hi, i am ' + name, 'and i live in ' + city, '.')"
   ]
  },
  {
   "cell_type": "code",
   "execution_count": null,
   "id": "9b2ef148",
   "metadata": {},
   "outputs": [],
   "source": [
    " name = input('Enter your name: ')\n",
    "\n",
    "if name == 'Shraddha':\n",
    "    print('Hello, Madam!')\n",
    "else:\n",
    "    print(f'Hello, {name}. Who are you?')"
   ]
  },
  {
   "cell_type": "code",
   "execution_count": 23,
   "id": "08b2a3a4",
   "metadata": {},
   "outputs": [
    {
     "name": "stdout",
     "output_type": "stream",
     "text": [
      "Hello, shraddha from Reading.\n"
     ]
    }
   ],
   "source": [
    "print(f'Hello, {name} from {city}.')"
   ]
  },
  {
   "cell_type": "code",
   "execution_count": 24,
   "id": "2990ae15",
   "metadata": {},
   "outputs": [
    {
     "name": "stdout",
     "output_type": "stream",
     "text": [
      "10 + 20 = 30\n"
     ]
    }
   ],
   "source": [
    "x = 10\n",
    "y = 20\n",
    "\n",
    "print(f'{x} + {y} = {x+y}')"
   ]
  },
  {
   "cell_type": "code",
   "execution_count": 25,
   "id": "4010b847",
   "metadata": {},
   "outputs": [
    {
     "data": {
      "text/plain": [
       "True"
      ]
     },
     "execution_count": 25,
     "metadata": {},
     "output_type": "execute_result"
    }
   ],
   "source": [
    "10 < 20"
   ]
  },
  {
   "cell_type": "code",
   "execution_count": 26,
   "id": "81305d06",
   "metadata": {},
   "outputs": [
    {
     "data": {
      "text/plain": [
       "False"
      ]
     },
     "execution_count": 26,
     "metadata": {},
     "output_type": "execute_result"
    }
   ],
   "source": [
    "20 < 5"
   ]
  },
  {
   "cell_type": "code",
   "execution_count": 27,
   "id": "0ad2ba67",
   "metadata": {},
   "outputs": [
    {
     "data": {
      "text/plain": [
       "True"
      ]
     },
     "execution_count": 27,
     "metadata": {},
     "output_type": "execute_result"
    }
   ],
   "source": [
    "'back' < 'book'"
   ]
  },
  {
   "cell_type": "code",
   "execution_count": 41,
   "id": "6aa3a6f8",
   "metadata": {},
   "outputs": [
    {
     "name": "stdout",
     "output_type": "stream",
     "text": [
      "Enter first word: chicken\n",
      "Enter second word: egg\n",
      "egg comes beforechicken\n"
     ]
    }
   ],
   "source": [
    "word1 = input('Enter first word: ')\n",
    "word2 = input('Enter second word: ')\n",
    "if word1 > word2 :\n",
    "    print(word1, 'comes before', word2) # print(f'{word1} comes before{word2}')\n",
    "else:\n",
    "    print(f'{word2} comes before {word1}')"
   ]
  },
  {
   "cell_type": "code",
   "execution_count": 42,
   "id": "185c2112",
   "metadata": {},
   "outputs": [
    {
     "name": "stdout",
     "output_type": "stream",
     "text": [
      "Enter first word: egg\n",
      "Enter second word: egg\n",
      "egg is same as egg\n"
     ]
    }
   ],
   "source": [
    "word1 = input('Enter first word: ')\n",
    "word2 = input('Enter second word: ')\n",
    "if word1 > word2 :\n",
    "    print(word1, 'comes before', word2) # print(f'{word1} comes before{word2}')\n",
    "elif word1 == word2 :\n",
    "    print(f'{word1} is same as {word2}')\n",
    "else:\n",
    "    print(f'{word2} comes before {word1}')"
   ]
  },
  {
   "cell_type": "code",
   "execution_count": 51,
   "id": "1ceb5121",
   "metadata": {},
   "outputs": [
    {
     "name": "stdout",
     "output_type": "stream",
     "text": [
      "Enter the string: pineapple\n",
      "Enter the numeric index: 4\n",
      "Index 4 in \"pineapple\" is \"a\"\n"
     ]
    }
   ],
   "source": [
    "string = input('Enter the string: ')\n",
    "num = input('Enter the numeric index: ')\n",
    "num = int(num)\n",
    "if num < 0 :\n",
    "    print(f'Error: numeric index {num} is too low')\n",
    "elif num >= len(string) :\n",
    "    print(f'Error: numeric index {num} is too high')\n",
    "else:\n",
    "    print(f'Index {num} in \"{string}\" is \"{string[num]}\"')\n",
    "    \n",
    "    "
   ]
  },
  {
   "cell_type": "code",
   "execution_count": null,
   "id": "a8ca7b7d",
   "metadata": {},
   "outputs": [],
   "source": [
    "word = input('Enter a word: ')\n",
    "#if word[0] == 'a' or word[0] == 'e' or word[0] == 'i' or word[0] == 'o'\n",
    "if word[0] in 'aeiou' :\n",
    "    "
   ]
  }
 ],
 "metadata": {
  "kernelspec": {
   "display_name": "Python 3 (ipykernel)",
   "language": "python",
   "name": "python3"
  },
  "language_info": {
   "codemirror_mode": {
    "name": "ipython",
    "version": 3
   },
   "file_extension": ".py",
   "mimetype": "text/x-python",
   "name": "python",
   "nbconvert_exporter": "python",
   "pygments_lexer": "ipython3",
   "version": "3.12.3"
  }
 },
 "nbformat": 4,
 "nbformat_minor": 5
}
