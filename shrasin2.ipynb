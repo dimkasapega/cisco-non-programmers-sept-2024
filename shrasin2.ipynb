{
 "cells": [
  {
   "cell_type": "code",
   "execution_count": 1,
   "id": "6db1fd4e",
   "metadata": {},
   "outputs": [
    {
     "ename": "SyntaxError",
     "evalue": "invalid syntax (4003674551.py, line 1)",
     "output_type": "error",
     "traceback": [
      "\u001b[0;36m  Cell \u001b[0;32mIn[1], line 1\u001b[0;36m\u001b[0m\n\u001b[0;31m    ```python\u001b[0m\n\u001b[0m    ^\u001b[0m\n\u001b[0;31mSyntaxError\u001b[0m\u001b[0;31m:\u001b[0m invalid syntax\n"
     ]
    }
   ],
   "source": [
    "```python\n",
    "print('hello')\n",
    "```"
   ]
  },
  {
   "cell_type": "code",
   "execution_count": 2,
   "id": "e5453dde",
   "metadata": {},
   "outputs": [
    {
     "name": "stdout",
     "output_type": "stream",
     "text": [
      "hello\n"
     ]
    }
   ],
   "source": [
    "print('hello')"
   ]
  },
  {
   "cell_type": "code",
   "execution_count": 3,
   "id": "34f6be6e",
   "metadata": {},
   "outputs": [
    {
     "name": "stdout",
     "output_type": "stream",
     "text": [
      "hello, world\n"
     ]
    }
   ],
   "source": [
    "print('hello, ' + 'world')"
   ]
  },
  {
   "cell_type": "code",
   "execution_count": 4,
   "id": "5c7e61de",
   "metadata": {},
   "outputs": [
    {
     "name": "stdout",
     "output_type": "stream",
     "text": [
      "Hello, Reuven\n"
     ]
    }
   ],
   "source": [
    "name = 'Reuven'\n",
    "print('Hello, ' + name)"
   ]
  },
  {
   "cell_type": "code",
   "execution_count": 5,
   "id": "ac2fd02c",
   "metadata": {},
   "outputs": [
    {
     "name": "stdout",
     "output_type": "stream",
     "text": [
      "30\n"
     ]
    }
   ],
   "source": [
    "x = 10\n",
    "y = 20\n",
    "\n",
    "print(x+y)\n"
   ]
  },
  {
   "cell_type": "code",
   "execution_count": 6,
   "id": "3d37a201",
   "metadata": {},
   "outputs": [
    {
     "data": {
      "text/plain": [
       "30"
      ]
     },
     "execution_count": 6,
     "metadata": {},
     "output_type": "execute_result"
    }
   ],
   "source": [
    "x+y"
   ]
  },
  {
   "cell_type": "code",
   "execution_count": 7,
   "id": "151979a2",
   "metadata": {},
   "outputs": [
    {
     "data": {
      "text/plain": [
       "str"
      ]
     },
     "execution_count": 7,
     "metadata": {},
     "output_type": "execute_result"
    }
   ],
   "source": [
    "x = 'abcd'\n",
    "type(x)"
   ]
  },
  {
   "cell_type": "code",
   "execution_count": 8,
   "id": "e7de26e1",
   "metadata": {},
   "outputs": [
    {
     "data": {
      "text/plain": [
       "int"
      ]
     },
     "execution_count": 8,
     "metadata": {},
     "output_type": "execute_result"
    }
   ],
   "source": [
    "x = 10\n",
    "type(x)"
   ]
  },
  {
   "cell_type": "code",
   "execution_count": 9,
   "id": "f54a1a6c",
   "metadata": {},
   "outputs": [],
   "source": [
    "# comment line"
   ]
  },
  {
   "cell_type": "code",
   "execution_count": 10,
   "id": "8dcf957d",
   "metadata": {},
   "outputs": [
    {
     "name": "stdout",
     "output_type": "stream",
     "text": [
      "hello everyone, i am shraddha\n"
     ]
    }
   ],
   "source": [
    "name = 'shraddha'\n",
    "print('hello everyone, i am ' + name)"
   ]
  },
  {
   "cell_type": "markdown",
   "id": "a0104bab",
   "metadata": {},
   "source": [
    "# markdown things\n",
    "1. to type comments\n",
    "### for sub headings\n"
   ]
  },
  {
   "cell_type": "code",
   "execution_count": 12,
   "id": "6a4ad36b",
   "metadata": {},
   "outputs": [
    {
     "name": "stdout",
     "output_type": "stream",
     "text": [
      "Enter your nameshraddha\n",
      "name\n"
     ]
    }
   ],
   "source": [
    "name = input('Enter your name')\n",
    "print('name')"
   ]
  },
  {
   "cell_type": "code",
   "execution_count": 16,
   "id": "7a690ba4",
   "metadata": {},
   "outputs": [
    {
     "name": "stdout",
     "output_type": "stream",
     "text": [
      "Enter your name: shraddha\n",
      "Enter your city: reading\n",
      "hi, i am shraddha\n",
      "i live in reading\n"
     ]
    }
   ],
   "source": [
    "name = input('Enter your name: ')\n",
    "city = input('Enter your city: ')\n",
    "print('hi, i am ' + name)\n",
    "print ('i live in ' + city)"
   ]
  },
  {
   "cell_type": "code",
   "execution_count": 21,
   "id": "ac4994c5",
   "metadata": {},
   "outputs": [
    {
     "name": "stdout",
     "output_type": "stream",
     "text": [
      "Enter your name: shraddha\n",
      "Enter your city: Reading\n",
      "hi, i am shraddha and i live in Reading .\n"
     ]
    }
   ],
   "source": [
    "name = input('Enter your name: ')\n",
    "city = input('Enter your city: ')\n",
    "print('hi, i am ' + name, 'and i live in ' + city, '.')"
   ]
  },
  {
   "cell_type": "code",
   "execution_count": 23,
   "id": "9e055b00",
   "metadata": {},
   "outputs": [
    {
     "name": "stdout",
     "output_type": "stream",
     "text": [
      "Hello, shraddha from Reading.\n"
     ]
    }
   ],
   "source": [
    "print(f'Hello, {name} from {city}.')"
   ]
  },
  {
   "cell_type": "code",
   "execution_count": 24,
   "id": "6b10155e",
   "metadata": {},
   "outputs": [
    {
     "name": "stdout",
     "output_type": "stream",
     "text": [
      "10 + 20 = 30\n"
     ]
    }
   ],
   "source": [
    "x = 10\n",
    "y = 20\n",
    "\n",
    "print(f'{x} + {y} = {x+y}')"
   ]
  },
  {
   "cell_type": "code",
   "execution_count": 25,
   "id": "1f4d9a96",
   "metadata": {},
   "outputs": [
    {
     "data": {
      "text/plain": [
       "True"
      ]
     },
     "execution_count": 25,
     "metadata": {},
     "output_type": "execute_result"
    }
   ],
   "source": [
    "10 < 20"
   ]
  },
  {
   "cell_type": "code",
   "execution_count": 26,
   "id": "f58e1a9c",
   "metadata": {},
   "outputs": [
    {
     "data": {
      "text/plain": [
       "False"
      ]
     },
     "execution_count": 26,
     "metadata": {},
     "output_type": "execute_result"
    }
   ],
   "source": [
    "20 < 5"
   ]
  },
  {
   "cell_type": "code",
   "execution_count": 27,
   "id": "40dd82d3",
   "metadata": {},
   "outputs": [
    {
     "data": {
      "text/plain": [
       "True"
      ]
     },
     "execution_count": 27,
     "metadata": {},
     "output_type": "execute_result"
    }
   ],
   "source": [
    "'back' < 'book'"
   ]
  },
  {
   "cell_type": "code",
   "execution_count": 35,
   "id": "3f5d3b20",
   "metadata": {},
   "outputs": [
    {
     "ename": "IndentationError",
     "evalue": "unexpected indent (3945594423.py, line 3)",
     "output_type": "error",
     "traceback": [
      "\u001b[0;36m  Cell \u001b[0;32mIn[35], line 3\u001b[0;36m\u001b[0m\n\u001b[0;31m    if name == 'Shraddha':\u001b[0m\n\u001b[0m    ^\u001b[0m\n\u001b[0;31mIndentationError\u001b[0m\u001b[0;31m:\u001b[0m unexpected indent\n"
     ]
    }
   ],
   "source": [
    "name = input('Enter your name: ')\n",
    " \n",
    "    if name == 'Shraddha' : \n",
    "    print('Hello, Madam!')\n",
    "else:\n",
    "    print(f'Hello, {name}. Who are you?')"
   ]
  },
  {
   "cell_type": "code",
   "execution_count": 41,
   "id": "038ea7df",
   "metadata": {},
   "outputs": [
    {
     "name": "stdout",
     "output_type": "stream",
     "text": [
      "Enter first word: chicken\n",
      "Enter second word: egg\n",
      "egg comes beforechicken\n"
     ]
    }
   ],
   "source": [
    "word1 = input('Enter first word: ')\n",
    "word2 = input('Enter second word: ')\n",
    "if word1 > word2 :\n",
    "    print(word1, 'comes before', word2) # print(f'{word1} comes before{word2}')\n",
    "else:\n",
    "    print(f'{word2} comes before {word1}')"
   ]
  },
  {
   "cell_type": "code",
   "execution_count": 42,
   "id": "121f780d",
   "metadata": {},
   "outputs": [
    {
     "name": "stdout",
     "output_type": "stream",
     "text": [
      "Enter first word: egg\n",
      "Enter second word: egg\n",
      "egg is same as egg\n"
     ]
    }
   ],
   "source": [
    "word1 = input('Enter first word: ')\n",
    "word2 = input('Enter second word: ')\n",
    "if word1 > word2 :\n",
    "    print(word1, 'comes before', word2) # print(f'{word1} comes before{word2}')\n",
    "elif word1 == word2 :\n",
    "    print(f'{word1} is same as {word2}')\n",
    "else:\n",
    "    print(f'{word2} comes before {word1}')"
   ]
  },
  {
   "cell_type": "code",
   "execution_count": null,
   "id": "50191ef5",
   "metadata": {},
   "outputs": [],
   "source": []
  }
 ],
 "metadata": {
  "kernelspec": {
   "display_name": "Python 3 (ipykernel)",
   "language": "python",
   "name": "python3"
  },
  "language_info": {
   "codemirror_mode": {
    "name": "ipython",
    "version": 3
   },
   "file_extension": ".py",
   "mimetype": "text/x-python",
   "name": "python",
   "nbconvert_exporter": "python",
   "pygments_lexer": "ipython3",
   "version": "3.12.3"
  }
 },
 "nbformat": 4,
 "nbformat_minor": 5
}
