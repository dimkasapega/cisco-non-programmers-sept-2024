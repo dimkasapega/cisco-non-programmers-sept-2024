{
 "cells": [
  {
   "cell_type": "code",
   "execution_count": 1,
   "id": "d82fcfe5",
   "metadata": {},
   "outputs": [
    {
     "name": "stdout",
     "output_type": "stream",
     "text": [
      "hey\n"
     ]
    }
   ],
   "source": [
    "print ('hey')"
   ]
  },
  {
   "cell_type": "code",
   "execution_count": 2,
   "id": "f7ecca5e",
   "metadata": {},
   "outputs": [
    {
     "name": "stdout",
     "output_type": "stream",
     "text": [
      "Mateusz\n"
     ]
    }
   ],
   "source": [
    "name = 'Mateusz'\n",
    "print(name)"
   ]
  },
  {
   "cell_type": "markdown",
   "id": "bc8d10ca",
   "metadata": {},
   "source": [
    "#"
   ]
  },
  {
   "cell_type": "markdown",
   "id": "9c6a33e0",
   "metadata": {},
   "source": [
    "# paragraph"
   ]
  },
  {
   "cell_type": "code",
   "execution_count": 3,
   "id": "966a5772",
   "metadata": {},
   "outputs": [
    {
     "name": "stdout",
     "output_type": "stream",
     "text": [
      "HelloMateusz!\n"
     ]
    }
   ],
   "source": [
    "print ('Hello' + name +'!')"
   ]
  },
  {
   "cell_type": "code",
   "execution_count": 4,
   "id": "16b43c86",
   "metadata": {},
   "outputs": [
    {
     "name": "stdout",
     "output_type": "stream",
     "text": [
      "Hello Mateusz!\n"
     ]
    }
   ],
   "source": [
    "print ('Hello ' + name +'!')"
   ]
  },
  {
   "cell_type": "code",
   "execution_count": 5,
   "id": "fe296214",
   "metadata": {},
   "outputs": [
    {
     "name": "stdout",
     "output_type": "stream",
     "text": [
      "Enter your nameMatt\n",
      "Enter your cityWroclaw\n",
      "Hello Matt from Wroclaw!\n"
     ]
    }
   ],
   "source": [
    "name = input('Enter your name')\n",
    "city = input('Enter your city')\n",
    "print('Hello ' + name + ' from ' + city + '!')"
   ]
  },
  {
   "cell_type": "code",
   "execution_count": 6,
   "id": "50846924",
   "metadata": {},
   "outputs": [
    {
     "name": "stdout",
     "output_type": "stream",
     "text": [
      "145\n"
     ]
    }
   ],
   "source": [
    "print(129+16)"
   ]
  },
  {
   "cell_type": "code",
   "execution_count": 7,
   "id": "d20d420a",
   "metadata": {},
   "outputs": [
    {
     "name": "stdout",
     "output_type": "stream",
     "text": [
      "Hello, Matt from Wroclaw.\n"
     ]
    }
   ],
   "source": [
    "print(f'Hello, {name} from {city}.')"
   ]
  },
  {
   "cell_type": "code",
   "execution_count": 8,
   "id": "d6bc627e",
   "metadata": {},
   "outputs": [
    {
     "ename": "SyntaxError",
     "evalue": "invalid syntax (709789676.py, line 5)",
     "output_type": "error",
     "traceback": [
      "\u001b[0;36m  Cell \u001b[0;32mIn[8], line 5\u001b[0;36m\u001b[0m\n\u001b[0;31m    else\u001b[0m\n\u001b[0m    ^\u001b[0m\n\u001b[0;31mSyntaxError\u001b[0m\u001b[0;31m:\u001b[0m invalid syntax\n"
     ]
    }
   ],
   "source": [
    "word1 = input('Enter first word')\n",
    "word2 = input('Enter second word')\n",
    "if word1 > word2:\n",
    "    print(f'Word {word2} comes first')\n",
    "    else\n",
    "    print(f'Word {word1} comes first')"
   ]
  },
  {
   "cell_type": "code",
   "execution_count": null,
   "id": "982b2eda",
   "metadata": {},
   "outputs": [],
   "source": []
  }
 ],
 "metadata": {
  "kernelspec": {
   "display_name": "Python 3 (ipykernel)",
   "language": "python",
   "name": "python3"
  },
  "language_info": {
   "codemirror_mode": {
    "name": "ipython",
    "version": 3
   },
   "file_extension": ".py",
   "mimetype": "text/x-python",
   "name": "python",
   "nbconvert_exporter": "python",
   "pygments_lexer": "ipython3",
   "version": "3.12.3"
  }
 },
 "nbformat": 4,
 "nbformat_minor": 5
}
