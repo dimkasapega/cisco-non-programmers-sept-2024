{
 "cells": [
  {
   "cell_type": "code",
   "execution_count": 1,
   "id": "f3d9027f",
   "metadata": {},
   "outputs": [
    {
     "name": "stdout",
     "output_type": "stream",
     "text": [
      "hey\n"
     ]
    }
   ],
   "source": [
    "print ('hey')"
   ]
  },
  {
   "cell_type": "code",
   "execution_count": 2,
   "id": "49e91a92",
   "metadata": {},
   "outputs": [
    {
     "name": "stdout",
     "output_type": "stream",
     "text": [
      "Mateusz\n"
     ]
    }
   ],
   "source": [
    "name = 'Mateusz'\n",
    "print(name)"
   ]
  },
  {
   "cell_type": "markdown",
   "id": "eb6a57c3",
   "metadata": {},
   "source": [
    "#"
   ]
  },
  {
   "cell_type": "markdown",
   "id": "0ac9cd31",
   "metadata": {},
   "source": [
    "# paragraph"
   ]
  },
  {
   "cell_type": "code",
   "execution_count": 3,
   "id": "5b0f9e20",
   "metadata": {},
   "outputs": [
    {
     "name": "stdout",
     "output_type": "stream",
     "text": [
      "HelloMateusz!\n"
     ]
    }
   ],
   "source": [
    "print ('Hello' + name +'!')"
   ]
  },
  {
   "cell_type": "code",
   "execution_count": 4,
   "id": "1af1a11e",
   "metadata": {},
   "outputs": [
    {
     "name": "stdout",
     "output_type": "stream",
     "text": [
      "Hello Mateusz!\n"
     ]
    }
   ],
   "source": [
    "print ('Hello ' + name +'!')"
   ]
  },
  {
   "cell_type": "code",
   "execution_count": 5,
   "id": "df3fcf4a",
   "metadata": {},
   "outputs": [
    {
     "name": "stdout",
     "output_type": "stream",
     "text": [
      "Enter your nameMatt\n",
      "Enter your cityWroclaw\n",
      "Hello Matt from Wroclaw!\n"
     ]
    }
   ],
   "source": [
    "name = input('Enter your name')\n",
    "city = input('Enter your city')\n",
    "print('Hello ' + name + ' from ' + city + '!')"
   ]
  },
  {
   "cell_type": "code",
   "execution_count": 6,
   "id": "eb2911d4",
   "metadata": {},
   "outputs": [
    {
     "name": "stdout",
     "output_type": "stream",
     "text": [
      "145\n"
     ]
    }
   ],
   "source": [
    "print(129+16)"
   ]
  },
  {
   "cell_type": "code",
   "execution_count": 7,
   "id": "b59ae00b",
   "metadata": {},
   "outputs": [
    {
     "name": "stdout",
     "output_type": "stream",
     "text": [
      "Hello, Matt from Wroclaw.\n"
     ]
    }
   ],
   "source": [
    "print(f'Hello, {name} from {city}.')"
   ]
  },
  {
   "cell_type": "code",
   "execution_count": null,
   "id": "96452a55",
   "metadata": {},
   "outputs": [],
   "source": [
    "word1 = input('Enter first word')\n",
    "word2 = input('Enter second word')\n",
    "if word1 > word2:\n",
    "    print(f')"
   ]
  }
 ],
 "metadata": {
  "kernelspec": {
   "display_name": "Python 3 (ipykernel)",
   "language": "python",
   "name": "python3"
  },
  "language_info": {
   "codemirror_mode": {
    "name": "ipython",
    "version": 3
   },
   "file_extension": ".py",
   "mimetype": "text/x-python",
   "name": "python",
   "nbconvert_exporter": "python",
   "pygments_lexer": "ipython3",
   "version": "3.12.3"
  }
 },
 "nbformat": 4,
 "nbformat_minor": 5
}
