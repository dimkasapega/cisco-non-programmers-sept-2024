{
 "cells": [
  {
   "cell_type": "code",
   "execution_count": 1,
   "id": "ca72bead",
   "metadata": {},
   "outputs": [
    {
     "name": "stdout",
     "output_type": "stream",
     "text": [
      "hey\n"
     ]
    }
   ],
   "source": [
    "print ('hey')"
   ]
  },
  {
   "cell_type": "code",
   "execution_count": 2,
   "id": "b60609cf",
   "metadata": {},
   "outputs": [
    {
     "name": "stdout",
     "output_type": "stream",
     "text": [
      "Mateusz\n"
     ]
    }
   ],
   "source": [
    "name = 'Mateusz'\n",
    "print(name)"
   ]
  },
  {
   "cell_type": "markdown",
   "id": "825e2113",
   "metadata": {},
   "source": [
    "#"
   ]
  },
  {
   "cell_type": "markdown",
   "id": "7097c511",
   "metadata": {},
   "source": [
    "# paragraph"
   ]
  },
  {
   "cell_type": "code",
   "execution_count": 3,
   "id": "00321954",
   "metadata": {},
   "outputs": [
    {
     "name": "stdout",
     "output_type": "stream",
     "text": [
      "HelloMateusz!\n"
     ]
    }
   ],
   "source": [
    "print ('Hello' + name +'!')"
   ]
  },
  {
   "cell_type": "code",
   "execution_count": 4,
   "id": "4c5b4ef9",
   "metadata": {},
   "outputs": [
    {
     "name": "stdout",
     "output_type": "stream",
     "text": [
      "Hello Mateusz!\n"
     ]
    }
   ],
   "source": [
    "print ('Hello ' + name +'!')"
   ]
  },
  {
   "cell_type": "code",
   "execution_count": 5,
   "id": "c35a6de4",
   "metadata": {},
   "outputs": [
    {
     "name": "stdout",
     "output_type": "stream",
     "text": [
      "Enter your nameMatt\n",
      "Enter your cityWroclaw\n",
      "Hello Matt from Wroclaw!\n"
     ]
    }
   ],
   "source": [
    "name = input('Enter your name')\n",
    "city = input('Enter your city')\n",
    "print('Hello ' + name + ' from ' + city + '!')"
   ]
  },
  {
   "cell_type": "code",
   "execution_count": 6,
   "id": "8d86440e",
   "metadata": {},
   "outputs": [
    {
     "name": "stdout",
     "output_type": "stream",
     "text": [
      "145\n"
     ]
    }
   ],
   "source": [
    "print(129+16)"
   ]
  },
  {
   "cell_type": "code",
   "execution_count": 7,
   "id": "08b0a3f6",
   "metadata": {},
   "outputs": [
    {
     "name": "stdout",
     "output_type": "stream",
     "text": [
      "Hello, Matt from Wroclaw.\n"
     ]
    }
   ],
   "source": [
    "print(f'Hello, {name} from {city}.')"
   ]
  },
  {
   "cell_type": "code",
   "execution_count": 26,
   "id": "afa57684",
   "metadata": {
    "scrolled": false
   },
   "outputs": [
    {
     "name": "stdout",
     "output_type": "stream",
     "text": [
      "Enter first wordabc\n",
      "Enter second wordcba\n",
      "Word abc comes before cba\n"
     ]
    }
   ],
   "source": [
    "word1 = input('Enter first word')\n",
    "word2 = input('Enter second word')\n",
    "if word1 > word2:\n",
    "    print(f'Word {word2} comes before {word1}')\n",
    "elif word1 < word2:\n",
    "    print(f'Word {word1} comes before {word2}')\n",
    "else:\n",
    "    print('Identical words')"
   ]
  },
  {
   "cell_type": "code",
   "execution_count": 27,
   "id": "a1f0a161",
   "metadata": {},
   "outputs": [
    {
     "name": "stdout",
     "output_type": "stream",
     "text": [
      "Enter first word: d\n",
      "Enter second word: \n",
      "You entered an empty string for second; try again\n"
     ]
    }
   ],
   "source": [
    "# if someone just presses enter when given \"input\", we get the empty string, aka ''\n",
    "\n",
    "first = input('Enter first word: ')\n",
    "second = input('Enter second word: ')\n",
    "\n",
    "if first == '':\n",
    "    print('You entered an empty string for first; try again')\n",
    "elif second == '':\n",
    "    print('You entered an empty string for second; try again')\n",
    "elif first < second:  \n",
    "    print(f'{first} comes before {second}')\n",
    "elif first == second:\n",
    "    print(f'{first} and {second} are the same!')\n",
    "else:  # implicitly, this is >\n",
    "    print(f'{second} comes before {first}')\n"
   ]
  },
  {
   "cell_type": "code",
   "execution_count": 28,
   "id": "daaa571b",
   "metadata": {},
   "outputs": [
    {
     "name": "stdout",
     "output_type": "stream",
     "text": [
      "Enter first word: asd\n",
      "Enter second word: \n",
      "Your second string is empty\n"
     ]
    }
   ],
   "source": [
    "# we can use \"and\" or \"or\" to check for the empty string\n",
    "\n",
    "first = input('Enter first word: ')\n",
    "second = input('Enter second word: ')\n",
    "\n",
    "if first == '' or second == '':\n",
    "    if first == '':\n",
    "        print(f'Your first string is empty')\n",
    "    if second == '':\n",
    "        print(f'Your second string is empty')\n",
    "elif first < second:  \n",
    "    print(f'{first} comes before {second}')\n",
    "elif first == second:\n",
    "    print(f'{first} and {second} are the same!')\n",
    "else:  # implicitly, this is >\n",
    "    print(f'{second} comes before {first}')"
   ]
  },
  {
   "cell_type": "code",
   "execution_count": 47,
   "id": "9e2dfa53",
   "metadata": {},
   "outputs": [
    {
     "name": "stdout",
     "output_type": "stream",
     "text": [
      "Enter your nameawda\n",
      "Enter your comany nameawd\n",
      "Hi\n"
     ]
    }
   ],
   "source": [
    "myn = 'Matt'\n",
    "myc = 'Cisco'\n",
    "name = input('Enter your name')\n",
    "com = input('Enter your comany name')\n",
    "\n",
    "if name==myn and com==myc:\n",
    "    print('You\\'re me!')\n",
    "elif name==myn:\n",
    "    print('What a nice name!')\n",
    "elif com==myc:\n",
    "    print(f'Hello {name}!')\n",
    "else:\n",
    "    print('Hi')"
   ]
  },
  {
   "cell_type": "code",
   "execution_count": 59,
   "id": "2c7ea19a",
   "metadata": {},
   "outputs": [
    {
     "name": "stdout",
     "output_type": "stream",
     "text": [
      "Hint: 5\n",
      "Guess the number:3\n",
      "<class 'int'>\n",
      "Too low!\n"
     ]
    }
   ],
   "source": [
    "num = 5\n",
    "print(f'Hint: {num}')\n",
    "x = input('Guess the number:')\n",
    "x = int(x)\n",
    "print(type(x))\n",
    "if x>num:\n",
    "    print('Too high!')\n",
    "elif x<num:\n",
    "    print('Too low!')\n",
    "else:\n",
    "    print('You got it!')"
   ]
  },
  {
   "cell_type": "code",
   "execution_count": 60,
   "id": "ed0113e1",
   "metadata": {},
   "outputs": [
    {
     "data": {
      "text/plain": [
       "0.30000000000000004"
      ]
     },
     "execution_count": 60,
     "metadata": {},
     "output_type": "execute_result"
    }
   ],
   "source": [
    "0.1 + 0.2"
   ]
  },
  {
   "cell_type": "code",
   "execution_count": 75,
   "id": "0a1951cc",
   "metadata": {},
   "outputs": [
    {
     "name": "stdout",
     "output_type": "stream",
     "text": [
      "Enter a word: asdf\n",
      "Enter an index: 0\n",
      "Index 0 of asdf is a\n"
     ]
    }
   ],
   "source": [
    "word = input('Enter a word: ')\n",
    "ind = input('Enter an index: ')\n",
    "ind = int(ind)\n",
    "\n",
    "if ind<0:\n",
    "    print('Index is too low.')\n",
    "elif ind>len(word)-1:\n",
    "    print(f'Index is beyond the length of a the string')\n",
    "else:\n",
    "    print(f'Index {ind} of {word} is {word[ind]}')"
   ]
  },
  {
   "cell_type": "code",
   "execution_count": 91,
   "id": "b5c23010",
   "metadata": {},
   "outputs": [
    {
     "name": "stdout",
     "output_type": "stream",
     "text": [
      "Enter a word: asdf\n",
      "asdfway\n"
     ]
    }
   ],
   "source": [
    "w = input('Enter a word: ')\n",
    "#or w[0]=='i' or w[0]=='o' oe w[0]=='u')\n",
    "if w[0] == 'a' or w[0] == 'e' or w[0]=='i'or w[0]=='o' or w[0]=='u':\n",
    "    \n",
    "    print(w+'way')\n",
    "else:\n",
    "    w=w[1:]+'ay'\n",
    "    print(w)\n",
    "\n",
    "    "
   ]
  },
  {
   "cell_type": "code",
   "execution_count": null,
   "id": "7738166e",
   "metadata": {},
   "outputs": [],
   "source": []
  }
 ],
 "metadata": {
  "kernelspec": {
   "display_name": "Python 3 (ipykernel)",
   "language": "python",
   "name": "python3"
  },
  "language_info": {
   "codemirror_mode": {
    "name": "ipython",
    "version": 3
   },
   "file_extension": ".py",
   "mimetype": "text/x-python",
   "name": "python",
   "nbconvert_exporter": "python",
   "pygments_lexer": "ipython3",
   "version": "3.12.3"
  }
 },
 "nbformat": 4,
 "nbformat_minor": 5
}
