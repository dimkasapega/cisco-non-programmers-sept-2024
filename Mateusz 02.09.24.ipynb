{
 "cells": [
  {
   "cell_type": "code",
   "execution_count": 1,
   "id": "eba73ca0",
   "metadata": {},
   "outputs": [
    {
     "name": "stdout",
     "output_type": "stream",
     "text": [
      "hey\n"
     ]
    }
   ],
   "source": [
    "print ('hey')"
   ]
  },
  {
   "cell_type": "code",
   "execution_count": 2,
   "id": "8ae707f9",
   "metadata": {},
   "outputs": [
    {
     "name": "stdout",
     "output_type": "stream",
     "text": [
      "Mateusz\n"
     ]
    }
   ],
   "source": [
    "name = 'Mateusz'\n",
    "print(name)"
   ]
  },
  {
   "cell_type": "markdown",
   "id": "6947cb3a",
   "metadata": {},
   "source": [
    "#"
   ]
  },
  {
   "cell_type": "markdown",
   "id": "7a70ae1b",
   "metadata": {},
   "source": [
    "# paragraph"
   ]
  },
  {
   "cell_type": "code",
   "execution_count": 3,
   "id": "ae2dc1f7",
   "metadata": {},
   "outputs": [
    {
     "name": "stdout",
     "output_type": "stream",
     "text": [
      "HelloMateusz!\n"
     ]
    }
   ],
   "source": [
    "print ('Hello' + name +'!')"
   ]
  },
  {
   "cell_type": "code",
   "execution_count": 4,
   "id": "d7fca7a4",
   "metadata": {},
   "outputs": [
    {
     "name": "stdout",
     "output_type": "stream",
     "text": [
      "Hello Mateusz!\n"
     ]
    }
   ],
   "source": [
    "print ('Hello ' + name +'!')"
   ]
  },
  {
   "cell_type": "code",
   "execution_count": 5,
   "id": "4f39a137",
   "metadata": {},
   "outputs": [
    {
     "name": "stdout",
     "output_type": "stream",
     "text": [
      "Enter your nameMatt\n",
      "Enter your cityWroclaw\n",
      "Hello Matt from Wroclaw!\n"
     ]
    }
   ],
   "source": [
    "name = input('Enter your name')\n",
    "city = input('Enter your city')\n",
    "print('Hello ' + name + ' from ' + city + '!')"
   ]
  },
  {
   "cell_type": "code",
   "execution_count": 6,
   "id": "f4ad85f7",
   "metadata": {},
   "outputs": [
    {
     "name": "stdout",
     "output_type": "stream",
     "text": [
      "145\n"
     ]
    }
   ],
   "source": [
    "print(129+16)"
   ]
  },
  {
   "cell_type": "code",
   "execution_count": 7,
   "id": "4ccd0909",
   "metadata": {},
   "outputs": [
    {
     "name": "stdout",
     "output_type": "stream",
     "text": [
      "Hello, Matt from Wroclaw.\n"
     ]
    }
   ],
   "source": [
    "print(f'Hello, {name} from {city}.')"
   ]
  },
  {
   "cell_type": "code",
   "execution_count": 26,
   "id": "df903b32",
   "metadata": {
    "scrolled": false
   },
   "outputs": [
    {
     "name": "stdout",
     "output_type": "stream",
     "text": [
      "Enter first wordabc\n",
      "Enter second wordcba\n",
      "Word abc comes before cba\n"
     ]
    }
   ],
   "source": [
    "word1 = input('Enter first word')\n",
    "word2 = input('Enter second word')\n",
    "if word1 > word2:\n",
    "    print(f'Word {word2} comes before {word1}')\n",
    "elif word1 < word2:\n",
    "    print(f'Word {word1} comes before {word2}')\n",
    "else:\n",
    "    print('Identical words')"
   ]
  },
  {
   "cell_type": "code",
   "execution_count": 27,
   "id": "173c3213",
   "metadata": {},
   "outputs": [
    {
     "name": "stdout",
     "output_type": "stream",
     "text": [
      "Enter first word: d\n",
      "Enter second word: \n",
      "You entered an empty string for second; try again\n"
     ]
    }
   ],
   "source": [
    "# if someone just presses enter when given \"input\", we get the empty string, aka ''\n",
    "\n",
    "first = input('Enter first word: ')\n",
    "second = input('Enter second word: ')\n",
    "\n",
    "if first == '':\n",
    "    print('You entered an empty string for first; try again')\n",
    "elif second == '':\n",
    "    print('You entered an empty string for second; try again')\n",
    "elif first < second:  \n",
    "    print(f'{first} comes before {second}')\n",
    "elif first == second:\n",
    "    print(f'{first} and {second} are the same!')\n",
    "else:  # implicitly, this is >\n",
    "    print(f'{second} comes before {first}')\n"
   ]
  },
  {
   "cell_type": "code",
   "execution_count": 28,
   "id": "902a0819",
   "metadata": {},
   "outputs": [
    {
     "name": "stdout",
     "output_type": "stream",
     "text": [
      "Enter first word: asd\n",
      "Enter second word: \n",
      "Your second string is empty\n"
     ]
    }
   ],
   "source": [
    "# we can use \"and\" or \"or\" to check for the empty string\n",
    "\n",
    "first = input('Enter first word: ')\n",
    "second = input('Enter second word: ')\n",
    "\n",
    "if first == '' or second == '':\n",
    "    if first == '':\n",
    "        print(f'Your first string is empty')\n",
    "    if second == '':\n",
    "        print(f'Your second string is empty')\n",
    "elif first < second:  \n",
    "    print(f'{first} comes before {second}')\n",
    "elif first == second:\n",
    "    print(f'{first} and {second} are the same!')\n",
    "else:  # implicitly, this is >\n",
    "    print(f'{second} comes before {first}')"
   ]
  },
  {
   "cell_type": "code",
   "execution_count": 47,
   "id": "660ba5e3",
   "metadata": {},
   "outputs": [
    {
     "name": "stdout",
     "output_type": "stream",
     "text": [
      "Enter your nameawda\n",
      "Enter your comany nameawd\n",
      "Hi\n"
     ]
    }
   ],
   "source": [
    "myn = 'Matt'\n",
    "myc = 'Cisco'\n",
    "name = input('Enter your name')\n",
    "com = input('Enter your comany name')\n",
    "\n",
    "if name==myn and com==myc:\n",
    "    print('You\\'re me!')\n",
    "elif name==myn:\n",
    "    print('What a nice name!')\n",
    "elif com==myc:\n",
    "    print(f'Hello {name}!')\n",
    "else:\n",
    "    print('Hi')"
   ]
  },
  {
   "cell_type": "code",
   "execution_count": 52,
   "id": "5a9abc34",
   "metadata": {},
   "outputs": [
    {
     "ename": "SyntaxError",
     "evalue": "unterminated string literal (detected at line 11) (3210278690.py, line 11)",
     "output_type": "error",
     "traceback": [
      "\u001b[0;36m  Cell \u001b[0;32mIn[52], line 11\u001b[0;36m\u001b[0m\n\u001b[0;31m    print('You\\'ve got it!)\u001b[0m\n\u001b[0m          ^\u001b[0m\n\u001b[0;31mSyntaxError\u001b[0m\u001b[0;31m:\u001b[0m unterminated string literal (detected at line 11)\n"
     ]
    }
   ],
   "source": [
    "num = 5\n",
    "print(f'Hint: {num}')\n",
    "x = input('Guess the number:')\n",
    "x = int(x)\n",
    "\n",
    "if x>num:\n",
    "    print('Too high!')\n",
    "elif x<num:\n",
    "    print('Too low!')\n",
    "else:\n",
    "    print('You\\'ve got it!)"
   ]
  },
  {
   "cell_type": "code",
   "execution_count": null,
   "id": "21bd609d",
   "metadata": {},
   "outputs": [],
   "source": []
  }
 ],
 "metadata": {
  "kernelspec": {
   "display_name": "Python 3 (ipykernel)",
   "language": "python",
   "name": "python3"
  },
  "language_info": {
   "codemirror_mode": {
    "name": "ipython",
    "version": 3
   },
   "file_extension": ".py",
   "mimetype": "text/x-python",
   "name": "python",
   "nbconvert_exporter": "python",
   "pygments_lexer": "ipython3",
   "version": "3.12.3"
  }
 },
 "nbformat": 4,
 "nbformat_minor": 5
}
