{
 "cells": [
  {
   "cell_type": "code",
   "execution_count": 1,
   "id": "c22ebb20",
   "metadata": {},
   "outputs": [
    {
     "name": "stdout",
     "output_type": "stream",
     "text": [
      "hey\n"
     ]
    }
   ],
   "source": [
    "print ('hey')"
   ]
  },
  {
   "cell_type": "code",
   "execution_count": 2,
   "id": "7bd53c24",
   "metadata": {},
   "outputs": [
    {
     "name": "stdout",
     "output_type": "stream",
     "text": [
      "Mateusz\n"
     ]
    }
   ],
   "source": [
    "name = 'Mateusz'\n",
    "print(name)"
   ]
  },
  {
   "cell_type": "markdown",
   "id": "6508b9ad",
   "metadata": {},
   "source": [
    "#"
   ]
  },
  {
   "cell_type": "markdown",
   "id": "36e1fec0",
   "metadata": {},
   "source": [
    "# paragraph"
   ]
  },
  {
   "cell_type": "code",
   "execution_count": 3,
   "id": "4d59c07f",
   "metadata": {},
   "outputs": [
    {
     "name": "stdout",
     "output_type": "stream",
     "text": [
      "HelloMateusz!\n"
     ]
    }
   ],
   "source": [
    "print ('Hello' + name +'!')"
   ]
  },
  {
   "cell_type": "code",
   "execution_count": 4,
   "id": "8faae78a",
   "metadata": {},
   "outputs": [
    {
     "name": "stdout",
     "output_type": "stream",
     "text": [
      "Hello Mateusz!\n"
     ]
    }
   ],
   "source": [
    "print ('Hello ' + name +'!')"
   ]
  },
  {
   "cell_type": "code",
   "execution_count": 5,
   "id": "0aeeb8ca",
   "metadata": {},
   "outputs": [
    {
     "name": "stdout",
     "output_type": "stream",
     "text": [
      "Enter your nameMatt\n",
      "Enter your cityWroclaw\n",
      "Hello Matt from Wroclaw!\n"
     ]
    }
   ],
   "source": [
    "name = input('Enter your name')\n",
    "city = input('Enter your city')\n",
    "print('Hello ' + name + ' from ' + city + '!')"
   ]
  },
  {
   "cell_type": "code",
   "execution_count": 6,
   "id": "7fdd2232",
   "metadata": {},
   "outputs": [
    {
     "name": "stdout",
     "output_type": "stream",
     "text": [
      "145\n"
     ]
    }
   ],
   "source": [
    "print(129+16)"
   ]
  },
  {
   "cell_type": "code",
   "execution_count": 7,
   "id": "6e8ea33f",
   "metadata": {},
   "outputs": [
    {
     "name": "stdout",
     "output_type": "stream",
     "text": [
      "Hello, Matt from Wroclaw.\n"
     ]
    }
   ],
   "source": [
    "print(f'Hello, {name} from {city}.')"
   ]
  },
  {
   "cell_type": "code",
   "execution_count": 9,
   "id": "f6d780c9",
   "metadata": {},
   "outputs": [
    {
     "name": "stdout",
     "output_type": "stream",
     "text": [
      "Enter first wordalfa\n",
      "Enter second wordcisco\n",
      "Word alfa comes first\n"
     ]
    }
   ],
   "source": [
    "word1 = input('Enter first word')\n",
    "word2 = input('Enter second word')\n",
    "if word1 > word2:\n",
    "    print(f'Word {word2} comes first')\n",
    "else:\n",
    "    print(f'Word {word1} comes first')"
   ]
  },
  {
   "cell_type": "code",
   "execution_count": 13,
   "id": "310e7e54",
   "metadata": {
    "scrolled": false
   },
   "outputs": [
    {
     "name": "stdout",
     "output_type": "stream",
     "text": [
      "Enter first wordcisco\n",
      "Enter second wordalfa\n",
      "Word alfa comes first\n"
     ]
    }
   ],
   "source": [
    "word1 = input('Enter first word')\n",
    "word2 = input('Enter second word')\n",
    "if word1 > word2:\n",
    "    print(f'Word {word2} comes first')\n",
    "else:\n",
    "    print(f'Word {word1} comes first')"
   ]
  },
  {
   "cell_type": "markdown",
   "id": "13d2d862",
   "metadata": {},
   "source": [
    "#test"
   ]
  },
  {
   "cell_type": "code",
   "execution_count": null,
   "id": "2f85b7f1",
   "metadata": {},
   "outputs": [],
   "source": []
  }
 ],
 "metadata": {
  "kernelspec": {
   "display_name": "Python 3 (ipykernel)",
   "language": "python",
   "name": "python3"
  },
  "language_info": {
   "codemirror_mode": {
    "name": "ipython",
    "version": 3
   },
   "file_extension": ".py",
   "mimetype": "text/x-python",
   "name": "python",
   "nbconvert_exporter": "python",
   "pygments_lexer": "ipython3",
   "version": "3.12.3"
  }
 },
 "nbformat": 4,
 "nbformat_minor": 5
}
