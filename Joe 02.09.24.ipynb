{
 "cells": [
  {
   "cell_type": "code",
   "execution_count": 1,
   "id": "f7beadb5",
   "metadata": {},
   "outputs": [
    {
     "name": "stdout",
     "output_type": "stream",
     "text": [
      "hello\n"
     ]
    }
   ],
   "source": [
    "print (\"hello\")"
   ]
  },
  {
   "cell_type": "code",
   "execution_count": 4,
   "id": "d23fd897",
   "metadata": {
    "scrolled": true
   },
   "outputs": [
    {
     "name": "stdout",
     "output_type": "stream",
     "text": [
      "Hello Joehow are you?\n"
     ]
    }
   ],
   "source": [
    "name = \"Joe\"\n",
    "print(\"Hello \" + name + \"how are you?\")"
   ]
  },
  {
   "cell_type": "code",
   "execution_count": 3,
   "id": "a72a2889",
   "metadata": {},
   "outputs": [
    {
     "name": "stdout",
     "output_type": "stream",
     "text": [
      "Hello Joe. How are you?\n"
     ]
    }
   ],
   "source": [
    "name=\"Joe\"\n",
    "print (\"Hello \" + name + \". How are you?\")"
   ]
  },
  {
   "cell_type": "code",
   "execution_count": 5,
   "id": "cd1221aa",
   "metadata": {},
   "outputs": [
    {
     "name": "stdout",
     "output_type": "stream",
     "text": [
      "enter your nameJoe\n",
      "enter your cityVancouver\n",
      "Hello Joe! Welcome from Vancouver!\n"
     ]
    }
   ],
   "source": [
    "name = input(\"enter your name\")\n",
    "city = input (\"enter your city\")\n",
    "print (\"Hello \" + name + \"! Welcome from \" + city + \"!\")"
   ]
  },
  {
   "cell_type": "code",
   "execution_count": 6,
   "id": "cc85cfb4",
   "metadata": {},
   "outputs": [
    {
     "name": "stdout",
     "output_type": "stream",
     "text": [
      "Hello Joe from Vancouver!\n"
     ]
    }
   ],
   "source": [
    "print (f\"Hello {name} from {city}!\")"
   ]
  },
  {
   "cell_type": "code",
   "execution_count": 7,
   "id": "17f9b795",
   "metadata": {},
   "outputs": [
    {
     "data": {
      "text/plain": [
       "True"
      ]
     },
     "execution_count": 7,
     "metadata": {},
     "output_type": "execute_result"
    }
   ],
   "source": [
    "10 == 5*2"
   ]
  },
  {
   "cell_type": "code",
   "execution_count": 12,
   "id": "d5c474e9",
   "metadata": {},
   "outputs": [
    {
     "name": "stdout",
     "output_type": "stream",
     "text": [
      "Enter your name: Bob\n",
      "Hello Bob!\n"
     ]
    }
   ],
   "source": [
    "name = input(\"Enter your name: \")\n",
    "\n",
    "if name == \"Joe\":\n",
    "    print(\"Hello cool dude!\")\n",
    "    print(\"How are you?\")\n",
    "else:\n",
    "    print(f\"Hello {name}!\")"
   ]
  },
  {
   "cell_type": "code",
   "execution_count": 25,
   "id": "2fc94788",
   "metadata": {},
   "outputs": [
    {
     "name": "stdout",
     "output_type": "stream",
     "text": [
      "Enter the first word: egg\n",
      "Enter the second word: chicken\n",
      "chicken comes before egg.\n"
     ]
    }
   ],
   "source": [
    "word1 = input(\"Enter the first word: \")\n",
    "word2 = input(\"Enter the second word: \")\n",
    "if word1 ==\"\":\n",
    "    print(\"you have enetered no text for word 1, please try again\")\n",
    "elif word2 ==\"\":\n",
    "    print(\"you have enetered no text for word 2, please try again\")\n",
    "elif word1==word2:\n",
    "    print(\"Please enter different words\")\n",
    "elif word1 < word2:\n",
    "    print(f\"{word1} comes before {word2}.\")\n",
    "else:\n",
    "    print(f\"{word2} comes before {word1}.\")"
   ]
  },
  {
   "cell_type": "code",
   "execution_count": null,
   "id": "931fe28b",
   "metadata": {},
   "outputs": [],
   "source": []
  },
  {
   "cell_type": "code",
   "execution_count": null,
   "id": "6f09d222",
   "metadata": {},
   "outputs": [],
   "source": []
  },
  {
   "cell_type": "code",
   "execution_count": 42,
   "id": "e368447e",
   "metadata": {
    "scrolled": true
   },
   "outputs": [
    {
     "name": "stdout",
     "output_type": "stream",
     "text": [
      "Please enter a name: Bob\n",
      "Please enter your company: Microsoft\n",
      "You aint from around here fella\n"
     ]
    }
   ],
   "source": [
    "name = input(\"Please enter a name: \")\n",
    "company = input(\"Please enter your company: \")\n",
    "if name.lower() == \"joe\" and company.lower() == \"cisco\":\n",
    "    print(\"Hey it's me!\")\n",
    "elif name.lower() == \"joe\" and company.lower() != \"cisco\":\n",
    "    print(\"Nice name!\")\n",
    "elif name.lower() !=\"joe\" and company.lower() ==\"cisco\":\n",
    "    print(\"Hey fellow colleague!\")\n",
    "else:\n",
    "    print(\"...You aint from around here fella\")"
   ]
  },
  {
   "cell_type": "code",
   "execution_count": 56,
   "id": "ea70da8f",
   "metadata": {},
   "outputs": [
    {
     "name": "stdout",
     "output_type": "stream",
     "text": [
      "Guess the number: 50\n",
      "You got it!\n"
     ]
    }
   ],
   "source": [
    "x = 50\n",
    "y = input (\"Guess the number: \")\n",
    "y = int(y)\n",
    "if y == x:\n",
    "    print(\"You got it!\")\n",
    "elif y < x:\n",
    "    print(\"Too low! Try again!\")\n",
    "elif y > x:\n",
    "    print(\"Too high!\")"
   ]
  },
  {
   "cell_type": "code",
   "execution_count": 61,
   "id": "21870c14",
   "metadata": {},
   "outputs": [
    {
     "data": {
      "text/plain": [
       "9"
      ]
     },
     "execution_count": 61,
     "metadata": {},
     "output_type": "execute_result"
    }
   ],
   "source": [
    "s= \"102932103\"\n",
    "len(s)"
   ]
  },
  {
   "cell_type": "code",
   "execution_count": 62,
   "id": "f8e28cbf",
   "metadata": {},
   "outputs": [
    {
     "name": "stdout",
     "output_type": "stream",
     "text": [
      "hello 'joe'\n"
     ]
    }
   ],
   "source": [
    "s = \"hello 'joe'\"\n",
    "print(s)"
   ]
  },
  {
   "cell_type": "code",
   "execution_count": null,
   "id": "a687529e",
   "metadata": {},
   "outputs": [],
   "source": [
    "word = input(\"Enter a word: \")\n",
    "index = input(\"Enter an index: \")\n",
    "index = int(index)\n",
    "\n",
    "if index >= len(word):\n",
    "    print(f\"{index} is too big, and beyond index of {word}.\")\n",
    "else: print(f\"Index {index} of the word {word} is the letter {word[index]}\")"
   ]
  },
  {
   "cell_type": "code",
   "execution_count": 120,
   "id": "1d3153c8",
   "metadata": {},
   "outputs": [
    {
     "name": "stdout",
     "output_type": "stream",
     "text": [
      "Enter a word: tool\n",
      "toolway\n"
     ]
    }
   ],
   "source": [
    "word = input(\"Enter a word: \")\n",
    "firstletter = word[0]\n",
    "\n",
    "if str(firstletter) == \"a\" or \"e\" or \"i\" or \"u\":\n",
    "    print(f\"{word}way\")    \n",
    "else:\n",
    "    print(f\"{word[-(len(word)-1):]}{firstletter}way\")"
   ]
  },
  {
   "cell_type": "code",
   "execution_count": null,
   "id": "c385d8b2",
   "metadata": {},
   "outputs": [],
   "source": []
  }
 ],
 "metadata": {
  "kernelspec": {
   "display_name": "Python 3 (ipykernel)",
   "language": "python",
   "name": "python3"
  },
  "language_info": {
   "codemirror_mode": {
    "name": "ipython",
    "version": 3
   },
   "file_extension": ".py",
   "mimetype": "text/x-python",
   "name": "python",
   "nbconvert_exporter": "python",
   "pygments_lexer": "ipython3",
   "version": "3.12.3"
  }
 },
 "nbformat": 4,
 "nbformat_minor": 5
}
