{
 "cells": [
  {
   "cell_type": "code",
   "execution_count": 1,
   "id": "a6553ced",
   "metadata": {},
   "outputs": [
    {
     "name": "stdout",
     "output_type": "stream",
     "text": [
      "hello\n"
     ]
    }
   ],
   "source": [
    "print (\"hello\")"
   ]
  },
  {
   "cell_type": "code",
   "execution_count": 4,
   "id": "a475bbcc",
   "metadata": {
    "scrolled": true
   },
   "outputs": [
    {
     "name": "stdout",
     "output_type": "stream",
     "text": [
      "Hello Joehow are you?\n"
     ]
    }
   ],
   "source": [
    "name = \"Joe\"\n",
    "print(\"Hello \" + name + \"how are you?\")"
   ]
  },
  {
   "cell_type": "code",
   "execution_count": 3,
   "id": "be5c76de",
   "metadata": {},
   "outputs": [
    {
     "name": "stdout",
     "output_type": "stream",
     "text": [
      "Hello Joe. How are you?\n"
     ]
    }
   ],
   "source": [
    "name=\"Joe\"\n",
    "print (\"Hello \" + name + \". How are you?\")"
   ]
  },
  {
   "cell_type": "code",
   "execution_count": 5,
   "id": "a64eb4f0",
   "metadata": {},
   "outputs": [
    {
     "name": "stdout",
     "output_type": "stream",
     "text": [
      "enter your nameJoe\n",
      "enter your cityVancouver\n",
      "Hello Joe! Welcome from Vancouver!\n"
     ]
    }
   ],
   "source": [
    "name = input(\"enter your name\")\n",
    "city = input (\"enter your city\")\n",
    "print (\"Hello \" + name + \"! Welcome from \" + city + \"!\")"
   ]
  },
  {
   "cell_type": "code",
   "execution_count": 6,
   "id": "0f7609b5",
   "metadata": {},
   "outputs": [
    {
     "name": "stdout",
     "output_type": "stream",
     "text": [
      "Hello Joe from Vancouver!\n"
     ]
    }
   ],
   "source": [
    "print (f\"Hello {name} from {city}!\")"
   ]
  },
  {
   "cell_type": "code",
   "execution_count": 7,
   "id": "a70cc593",
   "metadata": {},
   "outputs": [
    {
     "data": {
      "text/plain": [
       "True"
      ]
     },
     "execution_count": 7,
     "metadata": {},
     "output_type": "execute_result"
    }
   ],
   "source": [
    "10 == 5*2"
   ]
  },
  {
   "cell_type": "code",
   "execution_count": 12,
   "id": "72d4e60d",
   "metadata": {},
   "outputs": [
    {
     "name": "stdout",
     "output_type": "stream",
     "text": [
      "Enter your name: Bob\n",
      "Hello Bob!\n"
     ]
    }
   ],
   "source": [
    "name = input(\"Enter your name: \")\n",
    "\n",
    "if name == \"Joe\":\n",
    "    print(\"Hello cool dude!\")\n",
    "    print(\"How are you?\")\n",
    "else:\n",
    "    print(f\"Hello {name}!\")"
   ]
  },
  {
   "cell_type": "code",
   "execution_count": 25,
   "id": "1a579d5a",
   "metadata": {},
   "outputs": [
    {
     "name": "stdout",
     "output_type": "stream",
     "text": [
      "Enter the first word: egg\n",
      "Enter the second word: chicken\n",
      "chicken comes before egg.\n"
     ]
    }
   ],
   "source": [
    "word1 = input(\"Enter the first word: \")\n",
    "word2 = input(\"Enter the second word: \")\n",
    "if word1 ==\"\":\n",
    "    print(\"you have enetered no text for word 1, please try again\")\n",
    "elif word2 ==\"\":\n",
    "    print(\"you have enetered no text for word 2, please try again\")\n",
    "elif word1==word2:\n",
    "    print(\"Please enter different words\")\n",
    "elif word1 < word2:\n",
    "    print(f\"{word1} comes before {word2}.\")\n",
    "else:\n",
    "    print(f\"{word2} comes before {word1}.\")"
   ]
  },
  {
   "cell_type": "code",
   "execution_count": null,
   "id": "dc826381",
   "metadata": {},
   "outputs": [],
   "source": []
  },
  {
   "cell_type": "code",
   "execution_count": null,
   "id": "abaf4047",
   "metadata": {},
   "outputs": [],
   "source": []
  },
  {
   "cell_type": "code",
   "execution_count": 42,
   "id": "2c1acb89",
   "metadata": {
    "scrolled": true
   },
   "outputs": [
    {
     "name": "stdout",
     "output_type": "stream",
     "text": [
      "Please enter a name: Bob\n",
      "Please enter your company: Microsoft\n",
      "You aint from around here fella\n"
     ]
    }
   ],
   "source": [
    "name = input(\"Please enter a name: \")\n",
    "company = input(\"Please enter your company: \")\n",
    "if name.lower() == \"joe\" and company.lower() == \"cisco\":\n",
    "    print(\"Hey it's me!\")\n",
    "elif name.lower() == \"joe\" and company.lower() != \"cisco\":\n",
    "    print(\"Nice name!\")\n",
    "elif name.lower() !=\"joe\" and company.lower() ==\"cisco\":\n",
    "    print(\"Hey fellow colleague!\")\n",
    "else:\n",
    "    print(\"...You aint from around here fella\")"
   ]
  },
  {
   "cell_type": "code",
   "execution_count": 56,
   "id": "140f1c8f",
   "metadata": {},
   "outputs": [
    {
     "name": "stdout",
     "output_type": "stream",
     "text": [
      "Guess the number: 50\n",
      "You got it!\n"
     ]
    }
   ],
   "source": [
    "x = 50\n",
    "y = input (\"Guess the number: \")\n",
    "y = int(y)\n",
    "if y == x:\n",
    "    print(\"You got it!\")\n",
    "elif y < x:\n",
    "    print(\"Too low! Try again!\")\n",
    "elif y > x:\n",
    "    print(\"Too high!\")"
   ]
  },
  {
   "cell_type": "code",
   "execution_count": 61,
   "id": "71e8e18c",
   "metadata": {},
   "outputs": [
    {
     "data": {
      "text/plain": [
       "9"
      ]
     },
     "execution_count": 61,
     "metadata": {},
     "output_type": "execute_result"
    }
   ],
   "source": [
    "s= \"102932103\"\n",
    "len(s)"
   ]
  },
  {
   "cell_type": "code",
   "execution_count": 62,
   "id": "e359972f",
   "metadata": {},
   "outputs": [
    {
     "name": "stdout",
     "output_type": "stream",
     "text": [
      "hello 'joe'\n"
     ]
    }
   ],
   "source": [
    "s = \"hello 'joe'\"\n",
    "print(s)"
   ]
  },
  {
   "cell_type": "code",
   "execution_count": null,
   "id": "1f5ac55f",
   "metadata": {},
   "outputs": [],
   "source": [
    "s = qwertyuiop\n",
    "s "
   ]
  }
 ],
 "metadata": {
  "kernelspec": {
   "display_name": "Python 3 (ipykernel)",
   "language": "python",
   "name": "python3"
  },
  "language_info": {
   "codemirror_mode": {
    "name": "ipython",
    "version": 3
   },
   "file_extension": ".py",
   "mimetype": "text/x-python",
   "name": "python",
   "nbconvert_exporter": "python",
   "pygments_lexer": "ipython3",
   "version": "3.12.3"
  }
 },
 "nbformat": 4,
 "nbformat_minor": 5
}
