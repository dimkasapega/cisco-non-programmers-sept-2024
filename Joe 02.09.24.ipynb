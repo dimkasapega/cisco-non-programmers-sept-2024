{
 "cells": [
  {
   "cell_type": "code",
   "execution_count": 1,
   "id": "e5b16e64",
   "metadata": {},
   "outputs": [
    {
     "name": "stdout",
     "output_type": "stream",
     "text": [
      "hello\n"
     ]
    }
   ],
   "source": [
    "print (\"hello\")"
   ]
  },
  {
   "cell_type": "code",
   "execution_count": 4,
   "id": "d64cb73c",
   "metadata": {
    "scrolled": true
   },
   "outputs": [
    {
     "name": "stdout",
     "output_type": "stream",
     "text": [
      "Hello Joehow are you?\n"
     ]
    }
   ],
   "source": [
    "name = \"Joe\"\n",
    "print(\"Hello \" + name + \"how are you?\")"
   ]
  },
  {
   "cell_type": "code",
   "execution_count": 3,
   "id": "6fc97f8b",
   "metadata": {},
   "outputs": [
    {
     "name": "stdout",
     "output_type": "stream",
     "text": [
      "Hello Joe. How are you?\n"
     ]
    }
   ],
   "source": [
    "name=\"Joe\"\n",
    "print (\"Hello \" + name + \". How are you?\")"
   ]
  },
  {
   "cell_type": "code",
   "execution_count": 5,
   "id": "4f63de17",
   "metadata": {},
   "outputs": [
    {
     "name": "stdout",
     "output_type": "stream",
     "text": [
      "enter your nameJoe\n",
      "enter your cityVancouver\n",
      "Hello Joe! Welcome from Vancouver!\n"
     ]
    }
   ],
   "source": [
    "name = input(\"enter your name\")\n",
    "city = input (\"enter your city\")\n",
    "print (\"Hello \" + name + \"! Welcome from \" + city + \"!\")"
   ]
  },
  {
   "cell_type": "code",
   "execution_count": 6,
   "id": "63491b47",
   "metadata": {},
   "outputs": [
    {
     "name": "stdout",
     "output_type": "stream",
     "text": [
      "Hello Joe from Vancouver!\n"
     ]
    }
   ],
   "source": [
    "print (f\"Hello {name} from {city}!\")"
   ]
  },
  {
   "cell_type": "code",
   "execution_count": 7,
   "id": "bf4da9c5",
   "metadata": {},
   "outputs": [
    {
     "data": {
      "text/plain": [
       "True"
      ]
     },
     "execution_count": 7,
     "metadata": {},
     "output_type": "execute_result"
    }
   ],
   "source": [
    "10 == 5*2"
   ]
  },
  {
   "cell_type": "code",
   "execution_count": 12,
   "id": "86122852",
   "metadata": {},
   "outputs": [
    {
     "name": "stdout",
     "output_type": "stream",
     "text": [
      "Enter your name: Bob\n",
      "Hello Bob!\n"
     ]
    }
   ],
   "source": [
    "name = input(\"Enter your name: \")\n",
    "\n",
    "if name == \"Joe\":\n",
    "    print(\"Hello cool dude!\")\n",
    "    print(\"How are you?\")\n",
    "else:\n",
    "    print(f\"Hello {name}!\")"
   ]
  },
  {
   "cell_type": "code",
   "execution_count": 21,
   "id": "516fc26c",
   "metadata": {},
   "outputs": [
    {
     "name": "stdout",
     "output_type": "stream",
     "text": [
      "Enter the first word: \n",
      "Enter the second word: \n",
      "Please enter different words\n"
     ]
    }
   ],
   "source": [
    "word1 = input(\"Enter the first word: \")\n",
    "word2 = input(\"Enter the second word: \")\n",
    "\n",
    "if word1==word2:\n",
    "    print(\"Please enter different words\")\n",
    "elif word1 < word2:\n",
    "    print(f\"{word1} comes before {word2}.\")\n",
    "else:\n",
    "    print(f\"{word2} comes before {word1}.\")"
   ]
  },
  {
   "cell_type": "code",
   "execution_count": null,
   "id": "1e13ba93",
   "metadata": {},
   "outputs": [],
   "source": []
  }
 ],
 "metadata": {
  "kernelspec": {
   "display_name": "Python 3 (ipykernel)",
   "language": "python",
   "name": "python3"
  },
  "language_info": {
   "codemirror_mode": {
    "name": "ipython",
    "version": 3
   },
   "file_extension": ".py",
   "mimetype": "text/x-python",
   "name": "python",
   "nbconvert_exporter": "python",
   "pygments_lexer": "ipython3",
   "version": "3.12.3"
  }
 },
 "nbformat": 4,
 "nbformat_minor": 5
}
