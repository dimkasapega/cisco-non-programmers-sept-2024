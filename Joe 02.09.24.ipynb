{
 "cells": [
  {
   "cell_type": "code",
   "execution_count": 1,
   "id": "58177f71",
   "metadata": {},
   "outputs": [
    {
     "name": "stdout",
     "output_type": "stream",
     "text": [
      "hello\n"
     ]
    }
   ],
   "source": [
    "print (\"hello\")"
   ]
  },
  {
   "cell_type": "code",
   "execution_count": 4,
   "id": "666bd04d",
   "metadata": {
    "scrolled": true
   },
   "outputs": [
    {
     "name": "stdout",
     "output_type": "stream",
     "text": [
      "Hello Joehow are you?\n"
     ]
    }
   ],
   "source": [
    "name = \"Joe\"\n",
    "print(\"Hello \" + name + \"how are you?\")"
   ]
  },
  {
   "cell_type": "code",
   "execution_count": 3,
   "id": "88544fa6",
   "metadata": {},
   "outputs": [
    {
     "name": "stdout",
     "output_type": "stream",
     "text": [
      "Hello Joe. How are you?\n"
     ]
    }
   ],
   "source": [
    "name=\"Joe\"\n",
    "print (\"Hello \" + name + \". How are you?\")"
   ]
  },
  {
   "cell_type": "code",
   "execution_count": 5,
   "id": "16353bfc",
   "metadata": {},
   "outputs": [
    {
     "name": "stdout",
     "output_type": "stream",
     "text": [
      "enter your nameJoe\n",
      "enter your cityVancouver\n",
      "Hello Joe! Welcome from Vancouver!\n"
     ]
    }
   ],
   "source": [
    "name = input(\"enter your name\")\n",
    "city = input (\"enter your city\")\n",
    "print (\"Hello \" + name + \"! Welcome from \" + city + \"!\")"
   ]
  },
  {
   "cell_type": "code",
   "execution_count": 6,
   "id": "9a2adc93",
   "metadata": {},
   "outputs": [
    {
     "name": "stdout",
     "output_type": "stream",
     "text": [
      "Hello Joe from Vancouver!\n"
     ]
    }
   ],
   "source": [
    "print (f\"Hello {name} from {city}!\")"
   ]
  },
  {
   "cell_type": "code",
   "execution_count": 7,
   "id": "3045ba32",
   "metadata": {},
   "outputs": [
    {
     "data": {
      "text/plain": [
       "True"
      ]
     },
     "execution_count": 7,
     "metadata": {},
     "output_type": "execute_result"
    }
   ],
   "source": [
    "10 == 5*2"
   ]
  },
  {
   "cell_type": "code",
   "execution_count": 12,
   "id": "b077b168",
   "metadata": {},
   "outputs": [
    {
     "name": "stdout",
     "output_type": "stream",
     "text": [
      "Enter your name: Bob\n",
      "Hello Bob!\n"
     ]
    }
   ],
   "source": [
    "name = input(\"Enter your name: \")\n",
    "\n",
    "if name == \"Joe\":\n",
    "    print(\"Hello cool dude!\")\n",
    "    print(\"How are you?\")\n",
    "else:\n",
    "    print(f\"Hello {name}!\")"
   ]
  },
  {
   "cell_type": "code",
   "execution_count": 25,
   "id": "137dca13",
   "metadata": {},
   "outputs": [
    {
     "name": "stdout",
     "output_type": "stream",
     "text": [
      "Enter the first word: egg\n",
      "Enter the second word: chicken\n",
      "chicken comes before egg.\n"
     ]
    }
   ],
   "source": [
    "word1 = input(\"Enter the first word: \")\n",
    "word2 = input(\"Enter the second word: \")\n",
    "if word1 ==\"\":\n",
    "    print(\"you have enetered no text for word 1, please try again\")\n",
    "elif word2 ==\"\":\n",
    "    print(\"you have enetered no text for word 2, please try again\")\n",
    "elif word1==word2:\n",
    "    print(\"Please enter different words\")\n",
    "elif word1 < word2:\n",
    "    print(f\"{word1} comes before {word2}.\")\n",
    "else:\n",
    "    print(f\"{word2} comes before {word1}.\")"
   ]
  },
  {
   "cell_type": "code",
   "execution_count": null,
   "id": "186395b7",
   "metadata": {},
   "outputs": [],
   "source": []
  },
  {
   "cell_type": "code",
   "execution_count": null,
   "id": "4a1c4408",
   "metadata": {},
   "outputs": [],
   "source": []
  },
  {
   "cell_type": "code",
   "execution_count": 42,
   "id": "33e4ec50",
   "metadata": {
    "scrolled": true
   },
   "outputs": [
    {
     "name": "stdout",
     "output_type": "stream",
     "text": [
      "Please enter a name: Bob\n",
      "Please enter your company: Microsoft\n",
      "You aint from around here fella\n"
     ]
    }
   ],
   "source": [
    "name = input(\"Please enter a name: \")\n",
    "company = input(\"Please enter your company: \")\n",
    "if name.lower() == \"joe\" and company.lower() == \"cisco\":\n",
    "    print(\"Hey it's me!\")\n",
    "elif name.lower() == \"joe\" and company.lower() != \"cisco\":\n",
    "    print(\"Nice name!\")\n",
    "elif name.lower() !=\"joe\" and company.lower() ==\"cisco\":\n",
    "    print(\"Hey fellow colleague!\")\n",
    "else:\n",
    "    print(\"...You aint from around here fella\")"
   ]
  },
  {
   "cell_type": "code",
   "execution_count": 56,
   "id": "0862962e",
   "metadata": {},
   "outputs": [
    {
     "name": "stdout",
     "output_type": "stream",
     "text": [
      "Guess the number: 50\n",
      "You got it!\n"
     ]
    }
   ],
   "source": [
    "x = 50\n",
    "y = input (\"Guess the number: \")\n",
    "y = int(y)\n",
    "if y == x:\n",
    "    print(\"You got it!\")\n",
    "elif y < x:\n",
    "    print(\"Too low! Try again!\")\n",
    "elif y > x:\n",
    "    print(\"Too high!\")"
   ]
  },
  {
   "cell_type": "code",
   "execution_count": 61,
   "id": "8ef3ff44",
   "metadata": {},
   "outputs": [
    {
     "data": {
      "text/plain": [
       "9"
      ]
     },
     "execution_count": 61,
     "metadata": {},
     "output_type": "execute_result"
    }
   ],
   "source": [
    "s= \"102932103\"\n",
    "len(s)"
   ]
  },
  {
   "cell_type": "code",
   "execution_count": 62,
   "id": "e22b0ef2",
   "metadata": {},
   "outputs": [
    {
     "name": "stdout",
     "output_type": "stream",
     "text": [
      "hello 'joe'\n"
     ]
    }
   ],
   "source": [
    "s = \"hello 'joe'\"\n",
    "print(s)"
   ]
  },
  {
   "cell_type": "code",
   "execution_count": null,
   "id": "9d2f72ba",
   "metadata": {},
   "outputs": [],
   "source": [
    "word = input(\"Enter a word: \")\n",
    "index = input(\"Enter an index: \")\n",
    "index = int(index)\n",
    "\n",
    "if index >= len(word):\n",
    "    print(f\"{index} is too big, and beyond index of {word}.\")\n",
    "else: print(f\"Index {index} of the word {word} is the letter {word[index]}\")"
   ]
  },
  {
   "cell_type": "code",
   "execution_count": 131,
   "id": "2cad8e97",
   "metadata": {},
   "outputs": [
    {
     "name": "stdout",
     "output_type": "stream",
     "text": [
      "Enter a word: apple\n",
      "appleway\n"
     ]
    }
   ],
   "source": [
    "word = input(\"Enter a word: \")\n",
    "firstletter = word[0]\n",
    "\n",
    "if firstletter in \"aeiou\":\n",
    "    print(word + \"way\")    \n",
    "else:\n",
    "    print(f\"{word[1:]}{firstletter}ay\")"
   ]
  },
  {
   "cell_type": "code",
   "execution_count": 139,
   "id": "0f81983f",
   "metadata": {},
   "outputs": [
    {
     "data": {
      "text/plain": [
       "'Abkjb Dsd'"
      ]
     },
     "execution_count": 139,
     "metadata": {},
     "output_type": "execute_result"
    }
   ],
   "source": [
    "s = \"abkjb dsd\"\n",
    "s.title()"
   ]
  },
  {
   "cell_type": "code",
   "execution_count": 140,
   "id": "58a5456b",
   "metadata": {},
   "outputs": [
    {
     "data": {
      "text/plain": [
       "<function str.index>"
      ]
     },
     "execution_count": 140,
     "metadata": {},
     "output_type": "execute_result"
    }
   ],
   "source": [
    "s.index"
   ]
  },
  {
   "cell_type": "code",
   "execution_count": 145,
   "id": "6582fbbb",
   "metadata": {},
   "outputs": [
    {
     "data": {
      "text/plain": [
       "6"
      ]
     },
     "execution_count": 145,
     "metadata": {},
     "output_type": "execute_result"
    }
   ],
   "source": [
    "s.index(\"dsd\")"
   ]
  },
  {
   "cell_type": "code",
   "execution_count": 146,
   "id": "d585bd9a",
   "metadata": {},
   "outputs": [
    {
     "data": {
      "text/plain": [
       "'abkjb dsd'"
      ]
     },
     "execution_count": 146,
     "metadata": {},
     "output_type": "execute_result"
    }
   ],
   "source": [
    "s.strip()"
   ]
  },
  {
   "cell_type": "code",
   "execution_count": 154,
   "id": "e72eb276",
   "metadata": {},
   "outputs": [
    {
     "name": "stdout",
     "output_type": "stream",
     "text": [
      "20\n"
     ]
    }
   ],
   "source": [
    "s = \"10\"\n",
    "if s.isdigit():\n",
    "    print((int(s) + 10))\n",
    "else:\n",
    "    print(\"is not a digit\")"
   ]
  },
  {
   "cell_type": "code",
   "execution_count": 180,
   "id": "4a3bea56",
   "metadata": {},
   "outputs": [
    {
     "name": "stdout",
     "output_type": "stream",
     "text": [
      "Enter number 1: 10\n",
      "Enter number 2: 20\n",
      "The sum of 10 and 20 is 30.\n"
     ]
    }
   ],
   "source": [
    "number1 = input(\"Enter number 1: \").strip()\n",
    "number2 = input(\"Enter number 2: \").strip()\n",
    "\n",
    "if number1.isdigit() and number2.isdigit():\n",
    "    print(f\"The sum of {number1} and {number2} is {int(number1) + int(number2)}.\")\n",
    "elif not number1.isdigit():\n",
    "    print(\"The first entry is not a number\")\n",
    "elif not number2.isdigit():\n",
    "    print(\"The second entry is not a number\")"
   ]
  },
  {
   "cell_type": "code",
   "execution_count": null,
   "id": "4af86861",
   "metadata": {},
   "outputs": [],
   "source": []
  }
 ],
 "metadata": {
  "kernelspec": {
   "display_name": "Python 3 (ipykernel)",
   "language": "python",
   "name": "python3"
  },
  "language_info": {
   "codemirror_mode": {
    "name": "ipython",
    "version": 3
   },
   "file_extension": ".py",
   "mimetype": "text/x-python",
   "name": "python",
   "nbconvert_exporter": "python",
   "pygments_lexer": "ipython3",
   "version": "3.12.3"
  }
 },
 "nbformat": 4,
 "nbformat_minor": 5
}
