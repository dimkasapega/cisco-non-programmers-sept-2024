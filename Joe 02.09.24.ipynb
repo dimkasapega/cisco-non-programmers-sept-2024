{
 "cells": [
  {
   "cell_type": "code",
   "execution_count": 1,
   "id": "555f5ac3",
   "metadata": {},
   "outputs": [
    {
     "name": "stdout",
     "output_type": "stream",
     "text": [
      "hello\n"
     ]
    }
   ],
   "source": [
    "print (\"hello\")"
   ]
  },
  {
   "cell_type": "code",
   "execution_count": 4,
   "id": "bcab197d",
   "metadata": {
    "scrolled": true
   },
   "outputs": [
    {
     "name": "stdout",
     "output_type": "stream",
     "text": [
      "Hello Joehow are you?\n"
     ]
    }
   ],
   "source": [
    "name = \"Joe\"\n",
    "print(\"Hello \" + name + \"how are you?\")"
   ]
  },
  {
   "cell_type": "code",
   "execution_count": 3,
   "id": "c0637194",
   "metadata": {},
   "outputs": [
    {
     "name": "stdout",
     "output_type": "stream",
     "text": [
      "Hello Joe. How are you?\n"
     ]
    }
   ],
   "source": [
    "name=\"Joe\"\n",
    "print (\"Hello \" + name + \". How are you?\")"
   ]
  },
  {
   "cell_type": "code",
   "execution_count": 5,
   "id": "9e567bff",
   "metadata": {},
   "outputs": [
    {
     "name": "stdout",
     "output_type": "stream",
     "text": [
      "enter your nameJoe\n",
      "enter your cityVancouver\n",
      "Hello Joe! Welcome from Vancouver!\n"
     ]
    }
   ],
   "source": [
    "name = input(\"enter your name\")\n",
    "city = input (\"enter your city\")\n",
    "print (\"Hello \" + name + \"! Welcome from \" + city + \"!\")"
   ]
  },
  {
   "cell_type": "code",
   "execution_count": 6,
   "id": "3a3f3a72",
   "metadata": {},
   "outputs": [
    {
     "name": "stdout",
     "output_type": "stream",
     "text": [
      "Hello Joe from Vancouver!\n"
     ]
    }
   ],
   "source": [
    "print (f\"Hello {name} from {city}!\")"
   ]
  },
  {
   "cell_type": "code",
   "execution_count": 7,
   "id": "b6ecfc1e",
   "metadata": {},
   "outputs": [
    {
     "data": {
      "text/plain": [
       "True"
      ]
     },
     "execution_count": 7,
     "metadata": {},
     "output_type": "execute_result"
    }
   ],
   "source": [
    "10 == 5*2"
   ]
  },
  {
   "cell_type": "code",
   "execution_count": 12,
   "id": "ed5fd9d7",
   "metadata": {},
   "outputs": [
    {
     "name": "stdout",
     "output_type": "stream",
     "text": [
      "Enter your name: Bob\n",
      "Hello Bob!\n"
     ]
    }
   ],
   "source": [
    "name = input(\"Enter your name: \")\n",
    "\n",
    "if name == \"Joe\":\n",
    "    print(\"Hello cool dude!\")\n",
    "    print(\"How are you?\")\n",
    "else:\n",
    "    print(f\"Hello {name}!\")"
   ]
  },
  {
   "cell_type": "code",
   "execution_count": 25,
   "id": "2573683a",
   "metadata": {},
   "outputs": [
    {
     "name": "stdout",
     "output_type": "stream",
     "text": [
      "Enter the first word: egg\n",
      "Enter the second word: chicken\n",
      "chicken comes before egg.\n"
     ]
    }
   ],
   "source": [
    "word1 = input(\"Enter the first word: \")\n",
    "word2 = input(\"Enter the second word: \")\n",
    "if word1 ==\"\":\n",
    "    print(\"you have enetered no text for word 1, please try again\")\n",
    "elif word2 ==\"\":\n",
    "    print(\"you have enetered no text for word 2, please try again\")\n",
    "elif word1==word2:\n",
    "    print(\"Please enter different words\")\n",
    "elif word1 < word2:\n",
    "    print(f\"{word1} comes before {word2}.\")\n",
    "else:\n",
    "    print(f\"{word2} comes before {word1}.\")"
   ]
  },
  {
   "cell_type": "code",
   "execution_count": null,
   "id": "7c761f6d",
   "metadata": {},
   "outputs": [],
   "source": []
  },
  {
   "cell_type": "code",
   "execution_count": null,
   "id": "3d35927a",
   "metadata": {},
   "outputs": [],
   "source": []
  },
  {
   "cell_type": "code",
   "execution_count": 42,
   "id": "2161044e",
   "metadata": {
    "scrolled": true
   },
   "outputs": [
    {
     "name": "stdout",
     "output_type": "stream",
     "text": [
      "Please enter a name: Bob\n",
      "Please enter your company: Microsoft\n",
      "You aint from around here fella\n"
     ]
    }
   ],
   "source": [
    "name = input(\"Please enter a name: \")\n",
    "company = input(\"Please enter your company: \")\n",
    "if name.lower() == \"joe\" and company.lower() == \"cisco\":\n",
    "    print(\"Hey it's me!\")\n",
    "elif name.lower() == \"joe\" and company.lower() != \"cisco\":\n",
    "    print(\"Nice name!\")\n",
    "elif name.lower() !=\"joe\" and company.lower() ==\"cisco\":\n",
    "    print(\"Hey fellow colleague!\")\n",
    "else:\n",
    "    print(\"...You aint from around here fella\")"
   ]
  },
  {
   "cell_type": "code",
   "execution_count": 56,
   "id": "1e3b641c",
   "metadata": {},
   "outputs": [
    {
     "name": "stdout",
     "output_type": "stream",
     "text": [
      "Guess the number: 50\n",
      "You got it!\n"
     ]
    }
   ],
   "source": [
    "x = 50\n",
    "y = input (\"Guess the number: \")\n",
    "y = int(y)\n",
    "if y == x:\n",
    "    print(\"You got it!\")\n",
    "elif y < x:\n",
    "    print(\"Too low! Try again!\")\n",
    "elif y > x:\n",
    "    print(\"Too high!\")"
   ]
  },
  {
   "cell_type": "code",
   "execution_count": 61,
   "id": "7ab30588",
   "metadata": {},
   "outputs": [
    {
     "data": {
      "text/plain": [
       "9"
      ]
     },
     "execution_count": 61,
     "metadata": {},
     "output_type": "execute_result"
    }
   ],
   "source": [
    "s= \"102932103\"\n",
    "len(s)"
   ]
  },
  {
   "cell_type": "code",
   "execution_count": 62,
   "id": "ca540c35",
   "metadata": {},
   "outputs": [
    {
     "name": "stdout",
     "output_type": "stream",
     "text": [
      "hello 'joe'\n"
     ]
    }
   ],
   "source": [
    "s = \"hello 'joe'\"\n",
    "print(s)"
   ]
  },
  {
   "cell_type": "code",
   "execution_count": 78,
   "id": "6ddf1f4c",
   "metadata": {},
   "outputs": [
    {
     "name": "stdout",
     "output_type": "stream",
     "text": [
      "Enter a word: taco\n",
      "Enter an index: 4\n"
     ]
    },
    {
     "ename": "IndexError",
     "evalue": "string index out of range",
     "output_type": "error",
     "traceback": [
      "\u001b[0;31m---------------------------------------------------------------------------\u001b[0m",
      "\u001b[0;31mIndexError\u001b[0m                                Traceback (most recent call last)",
      "Cell \u001b[0;32mIn[78], line 7\u001b[0m\n\u001b[1;32m      5\u001b[0m \u001b[38;5;28;01mif\u001b[39;00m numberofindex \u001b[38;5;241m>\u001b[39m \u001b[38;5;28mlen\u001b[39m(word):\n\u001b[1;32m      6\u001b[0m     \u001b[38;5;28mprint\u001b[39m(\u001b[38;5;124mf\u001b[39m\u001b[38;5;124m\"\u001b[39m\u001b[38;5;132;01m{\u001b[39;00mindex\u001b[38;5;132;01m}\u001b[39;00m\u001b[38;5;124m is too big, and beyond index of \u001b[39m\u001b[38;5;132;01m{\u001b[39;00mword\u001b[38;5;132;01m}\u001b[39;00m\u001b[38;5;124m.\u001b[39m\u001b[38;5;124m\"\u001b[39m)\n\u001b[0;32m----> 7\u001b[0m \u001b[38;5;28;01melse\u001b[39;00m: \u001b[38;5;28mprint\u001b[39m(\u001b[38;5;124mf\u001b[39m\u001b[38;5;124m\"\u001b[39m\u001b[38;5;124mIndex \u001b[39m\u001b[38;5;132;01m{\u001b[39;00mnumberofindex\u001b[38;5;132;01m}\u001b[39;00m\u001b[38;5;124m of the word \u001b[39m\u001b[38;5;132;01m{\u001b[39;00mword\u001b[38;5;132;01m}\u001b[39;00m\u001b[38;5;124m is the letter \u001b[39m\u001b[38;5;132;01m{\u001b[39;00m(\u001b[43mword\u001b[49m\u001b[43m[\u001b[49m\u001b[43mnumberofindex\u001b[49m\u001b[43m]\u001b[49m)\u001b[38;5;132;01m}\u001b[39;00m\u001b[38;5;124m\"\u001b[39m)\n",
      "\u001b[0;31mIndexError\u001b[0m: string index out of range"
     ]
    }
   ],
   "source": [
    "word = input(\"Enter a word: \")\n",
    "index = input(\"Enter an index: \")\n",
    "numberofindex = int(index)\n",
    "\n",
    "if numberofindex > len(word):\n",
    "    print(f\"{index} is too big, and beyond index of {word}.\")\n",
    "else: print(f\"Index {numberofindex} of the word {word} is the letter {(word[numberofindex])}\")"
   ]
  },
  {
   "cell_type": "code",
   "execution_count": null,
   "id": "cd56a170",
   "metadata": {},
   "outputs": [],
   "source": []
  }
 ],
 "metadata": {
  "kernelspec": {
   "display_name": "Python 3 (ipykernel)",
   "language": "python",
   "name": "python3"
  },
  "language_info": {
   "codemirror_mode": {
    "name": "ipython",
    "version": 3
   },
   "file_extension": ".py",
   "mimetype": "text/x-python",
   "name": "python",
   "nbconvert_exporter": "python",
   "pygments_lexer": "ipython3",
   "version": "3.12.3"
  }
 },
 "nbformat": 4,
 "nbformat_minor": 5
}
