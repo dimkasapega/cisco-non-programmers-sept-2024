{
 "cells": [
  {
   "cell_type": "code",
   "execution_count": 2,
   "id": "5de64c0f",
   "metadata": {},
   "outputs": [
    {
     "name": "stdout",
     "output_type": "stream",
     "text": [
      "Hello\n"
     ]
    }
   ],
   "source": [
    "print('Hello')"
   ]
  },
  {
   "cell_type": "code",
   "execution_count": 4,
   "id": "9a93ecf4",
   "metadata": {},
   "outputs": [],
   "source": [
    "name='Asma'"
   ]
  },
  {
   "cell_type": "code",
   "execution_count": 7,
   "id": "f0f32657",
   "metadata": {},
   "outputs": [
    {
     "name": "stdout",
     "output_type": "stream",
     "text": [
      "what is my name Asma\n"
     ]
    }
   ],
   "source": [
    "print('what is my name ' + name)"
   ]
  },
  {
   "cell_type": "code",
   "execution_count": 9,
   "id": "4b68a5da",
   "metadata": {},
   "outputs": [
    {
     "name": "stdout",
     "output_type": "stream",
     "text": [
      "Good morning! Happy new week :D Asma\n"
     ]
    }
   ],
   "source": [
    "print('Good morning! Happy new week :D '+ name)"
   ]
  },
  {
   "cell_type": "code",
   "execution_count": null,
   "id": "36b51f70",
   "metadata": {},
   "outputs": [],
   "source": []
  }
 ],
 "metadata": {
  "kernelspec": {
   "display_name": "Python 3 (ipykernel)",
   "language": "python",
   "name": "python3"
  },
  "language_info": {
   "codemirror_mode": {
    "name": "ipython",
    "version": 3
   },
   "file_extension": ".py",
   "mimetype": "text/x-python",
   "name": "python",
   "nbconvert_exporter": "python",
   "pygments_lexer": "ipython3",
   "version": "3.12.3"
  }
 },
 "nbformat": 4,
 "nbformat_minor": 5
}
