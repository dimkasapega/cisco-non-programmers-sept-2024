{
 "cells": [
  {
   "cell_type": "code",
   "execution_count": 2,
   "id": "5de64c0f",
   "metadata": {},
   "outputs": [
    {
     "name": "stdout",
     "output_type": "stream",
     "text": [
      "Hello\n"
     ]
    }
   ],
   "source": [
    "print('Hello')"
   ]
  },
  {
   "cell_type": "code",
   "execution_count": 4,
   "id": "9a93ecf4",
   "metadata": {},
   "outputs": [],
   "source": [
    "name='Asma'"
   ]
  },
  {
   "cell_type": "code",
   "execution_count": 7,
   "id": "f0f32657",
   "metadata": {},
   "outputs": [
    {
     "name": "stdout",
     "output_type": "stream",
     "text": [
      "what is my name Asma\n"
     ]
    }
   ],
   "source": [
    "print('what is my name ' + name)"
   ]
  },
  {
   "cell_type": "code",
   "execution_count": 10,
   "id": "4b68a5da",
   "metadata": {},
   "outputs": [
    {
     "name": "stdout",
     "output_type": "stream",
     "text": [
      "Good morning! Happy new week :D Asma\n"
     ]
    }
   ],
   "source": [
    "print('Good morning! Happy new week :D '+ name) # print practice"
   ]
  },
  {
   "cell_type": "markdown",
   "id": "6d1f6311",
   "metadata": {},
   "source": [
    "# new exercise\n",
    "\n",
    "1-\n",
    "2-"
   ]
  },
  {
   "cell_type": "code",
   "execution_count": 11,
   "id": "ecc71c0b",
   "metadata": {},
   "outputs": [
    {
     "name": "stdout",
     "output_type": "stream",
     "text": [
      "welcome to company ABC , we are happy to have you here , what is your nameAsma alnuairat\n"
     ]
    }
   ],
   "source": [
    "name= input('welcome to company ABC , we are happy to have you here , what is your name ')"
   ]
  },
  {
   "cell_type": "code",
   "execution_count": 14,
   "id": "f7415938",
   "metadata": {},
   "outputs": [
    {
     "name": "stdout",
     "output_type": "stream",
     "text": [
      "where are you from Amman\n"
     ]
    }
   ],
   "source": [
    "city=input(\"where are you from \")"
   ]
  },
  {
   "cell_type": "code",
   "execution_count": 18,
   "id": "e063e396",
   "metadata": {},
   "outputs": [
    {
     "name": "stdout",
     "output_type": "stream",
     "text": [
      "welcome to company ABC , we are happy to have you here! Asma alnuairat from Amman\n"
     ]
    }
   ],
   "source": [
    "print('welcome to company ABC , we are happy to have you here! ' + name , \"from \" + city)"
   ]
  },
  {
   "cell_type": "code",
   "execution_count": null,
   "id": "40c182a4",
   "metadata": {},
   "outputs": [],
   "source": []
  }
 ],
 "metadata": {
  "kernelspec": {
   "display_name": "Python 3 (ipykernel)",
   "language": "python",
   "name": "python3"
  },
  "language_info": {
   "codemirror_mode": {
    "name": "ipython",
    "version": 3
   },
   "file_extension": ".py",
   "mimetype": "text/x-python",
   "name": "python",
   "nbconvert_exporter": "python",
   "pygments_lexer": "ipython3",
   "version": "3.12.3"
  }
 },
 "nbformat": 4,
 "nbformat_minor": 5
}
