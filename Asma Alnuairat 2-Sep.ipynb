{
 "cells": [
  {
   "cell_type": "code",
   "execution_count": 2,
   "id": "5de64c0f",
   "metadata": {},
   "outputs": [
    {
     "name": "stdout",
     "output_type": "stream",
     "text": [
      "Hello\n"
     ]
    }
   ],
   "source": [
    "print('Hello')"
   ]
  },
  {
   "cell_type": "code",
   "execution_count": 4,
   "id": "9a93ecf4",
   "metadata": {},
   "outputs": [],
   "source": [
    "name='Asma'"
   ]
  },
  {
   "cell_type": "code",
   "execution_count": 7,
   "id": "f0f32657",
   "metadata": {},
   "outputs": [
    {
     "name": "stdout",
     "output_type": "stream",
     "text": [
      "what is my name Asma\n"
     ]
    }
   ],
   "source": [
    "print('what is my name ' + name)"
   ]
  },
  {
   "cell_type": "code",
   "execution_count": 10,
   "id": "4b68a5da",
   "metadata": {},
   "outputs": [
    {
     "name": "stdout",
     "output_type": "stream",
     "text": [
      "Good morning! Happy new week :D Asma\n"
     ]
    }
   ],
   "source": [
    "print('Good morning! Happy new week :D '+ name) # print practice"
   ]
  },
  {
   "cell_type": "markdown",
   "id": "2e88141e",
   "metadata": {},
   "source": [
    "# new exercise\n",
    "\n",
    "1-\n",
    "2-"
   ]
  },
  {
   "cell_type": "code",
   "execution_count": 11,
   "id": "bab1463d",
   "metadata": {},
   "outputs": [
    {
     "name": "stdout",
     "output_type": "stream",
     "text": [
      "welcome to company ABC , we are happy to have you here , what is your nameAsma alnuairat\n"
     ]
    }
   ],
   "source": [
    "name= input('welcome to company ABC , we are happy to have you here , what is your name ')"
   ]
  },
  {
   "cell_type": "code",
   "execution_count": 14,
   "id": "a2a72a9f",
   "metadata": {},
   "outputs": [
    {
     "name": "stdout",
     "output_type": "stream",
     "text": [
      "where are you from Amman\n"
     ]
    }
   ],
   "source": [
    "city=input(\"where are you from \")"
   ]
  },
  {
   "cell_type": "code",
   "execution_count": 18,
   "id": "1767a4b7",
   "metadata": {},
   "outputs": [
    {
     "name": "stdout",
     "output_type": "stream",
     "text": [
      "welcome to company ABC , we are happy to have you here! Asma alnuairat from Amman\n"
     ]
    }
   ],
   "source": [
    "print('welcome to company ABC , we are happy to have you here! ' + name , \"from \" + city)"
   ]
  },
  {
   "cell_type": "code",
   "execution_count": 31,
   "id": "dce04263",
   "metadata": {},
   "outputs": [
    {
     "name": "stdout",
     "output_type": "stream",
     "text": [
      "please enter random word: apple\n",
      "please enter another word berry\n",
      " Here is your entries order apple , berry\n"
     ]
    }
   ],
   "source": [
    "word1=input('please enter random word: ')\n",
    "word2=input('please enter another word ')\n",
    "if word1 > word2:\n",
    "    print('Here is your entries order'+ word2 + word1)\n",
    "else:\n",
    "    print(' Here is your entries order ' + word1 + ' , ' + word2 )\n",
    "    \n",
    "    "
   ]
  },
  {
   "cell_type": "code",
   "execution_count": 32,
   "id": "773cf652",
   "metadata": {},
   "outputs": [
    {
     "name": "stdout",
     "output_type": "stream",
     "text": [
      "please enter random word: a\n",
      "please enter another word b\n",
      "Here is your entries order b and a\n"
     ]
    }
   ],
   "source": [
    "word1=input('please enter random word: ')\n",
    "word2=input('please enter another word ')\n",
    "if word1 <= word2:\n",
    "    print(f'Here is your entries order {word2} and {word1}')\n",
    "else:\n",
    "    print(' Here is your entries order ' + word1 + word2 )"
   ]
  },
  {
   "cell_type": "code",
   "execution_count": null,
   "id": "ad06b26a",
   "metadata": {},
   "outputs": [],
   "source": []
  }
 ],
 "metadata": {
  "kernelspec": {
   "display_name": "Python 3 (ipykernel)",
   "language": "python",
   "name": "python3"
  },
  "language_info": {
   "codemirror_mode": {
    "name": "ipython",
    "version": 3
   },
   "file_extension": ".py",
   "mimetype": "text/x-python",
   "name": "python",
   "nbconvert_exporter": "python",
   "pygments_lexer": "ipython3",
   "version": "3.12.3"
  }
 },
 "nbformat": 4,
 "nbformat_minor": 5
}
