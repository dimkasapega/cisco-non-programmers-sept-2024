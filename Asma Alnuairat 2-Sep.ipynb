{
 "cells": [
  {
   "cell_type": "code",
   "execution_count": 2,
   "id": "5de64c0f",
   "metadata": {},
   "outputs": [
    {
     "name": "stdout",
     "output_type": "stream",
     "text": [
      "Hello\n"
     ]
    }
   ],
   "source": [
    "print('Hello')"
   ]
  },
  {
   "cell_type": "code",
   "execution_count": 4,
   "id": "9a93ecf4",
   "metadata": {},
   "outputs": [],
   "source": [
    "name='Asma'"
   ]
  },
  {
   "cell_type": "code",
   "execution_count": 7,
   "id": "f0f32657",
   "metadata": {},
   "outputs": [
    {
     "name": "stdout",
     "output_type": "stream",
     "text": [
      "what is my name Asma\n"
     ]
    }
   ],
   "source": [
    "print('what is my name ' + name)"
   ]
  },
  {
   "cell_type": "code",
   "execution_count": 10,
   "id": "4b68a5da",
   "metadata": {},
   "outputs": [
    {
     "name": "stdout",
     "output_type": "stream",
     "text": [
      "Good morning! Happy new week :D Asma\n"
     ]
    }
   ],
   "source": [
    "print('Good morning! Happy new week :D '+ name) # print practice"
   ]
  },
  {
   "cell_type": "markdown",
   "id": "ef4cb13b",
   "metadata": {},
   "source": [
    "# new exercise\n",
    "\n",
    "1-\n",
    "2-"
   ]
  },
  {
   "cell_type": "code",
   "execution_count": 11,
   "id": "e6a31fcd",
   "metadata": {},
   "outputs": [
    {
     "name": "stdout",
     "output_type": "stream",
     "text": [
      "welcome to company ABC , we are happy to have you here , what is your nameAsma alnuairat\n"
     ]
    }
   ],
   "source": [
    "name= input('welcome to company ABC , we are happy to have you here , what is your name ')"
   ]
  },
  {
   "cell_type": "code",
   "execution_count": 14,
   "id": "7e1da9c8",
   "metadata": {},
   "outputs": [
    {
     "name": "stdout",
     "output_type": "stream",
     "text": [
      "where are you from Amman\n"
     ]
    }
   ],
   "source": [
    "city=input(\"where are you from \")"
   ]
  },
  {
   "cell_type": "code",
   "execution_count": 18,
   "id": "cd377173",
   "metadata": {},
   "outputs": [
    {
     "name": "stdout",
     "output_type": "stream",
     "text": [
      "welcome to company ABC , we are happy to have you here! Asma alnuairat from Amman\n"
     ]
    }
   ],
   "source": [
    "print('welcome to company ABC , we are happy to have you here! ' + name , \"from \" + city)"
   ]
  },
  {
   "cell_type": "code",
   "execution_count": 31,
   "id": "4e09e2fa",
   "metadata": {},
   "outputs": [
    {
     "name": "stdout",
     "output_type": "stream",
     "text": [
      "please enter random word: apple\n",
      "please enter another word berry\n",
      " Here is your entries order apple , berry\n"
     ]
    }
   ],
   "source": [
    "word1=input('please enter random word: ')\n",
    "word2=input('please enter another word ')\n",
    "if word1 > word2:\n",
    "    print('Here is your entries order'+ word2 + word1)\n",
    "else:\n",
    "    print(' Here is your entries order ' + word1 + ' , ' + word2 )\n",
    "    \n",
    "    "
   ]
  },
  {
   "cell_type": "code",
   "execution_count": 40,
   "id": "e6ea1d08",
   "metadata": {
    "scrolled": true
   },
   "outputs": [
    {
     "name": "stdout",
     "output_type": "stream",
     "text": [
      "please enter random word: b\n",
      "please enter another word a\n",
      "please enter valid value\n"
     ]
    }
   ],
   "source": [
    "word1=input('please enter random word: ')\n",
    "word2=input('please enter another word ')\n",
    "if word1 < word2:\n",
    "    print(f'Here is your entries order {word2} then {word1}')\n",
    "elif word1 == word2:\n",
    "    print('Error! same value entred')\n",
    "elif word1 == \"b\":\n",
    "    print('please enter valid value')\n",
    "     \n",
    "else:\n",
    "    print(f'Here is your entries order {word1} then {word2}')"
   ]
  },
  {
   "cell_type": "code",
   "execution_count": 48,
   "id": "41607e3f",
   "metadata": {},
   "outputs": [
    {
     "name": "stdout",
     "output_type": "stream",
     "text": [
      "what is your name: xyz\n",
      "Where do you work: estarta\n",
      "not a match! sorry.\n"
     ]
    }
   ],
   "source": [
    "name= input('what is your name: ')\n",
    "company=input('Where do you work: ')\n",
    "if name == 'Asma' and company == 'Cisco':\n",
    "    print('You are me!')\n",
    "elif name == 'Asma':\n",
    "    if company != 'Cisco':\n",
    "        print('Nice name!')\n",
    "elif company == 'Cisco':\n",
    "    if name != 'Asma':\n",
    "        print('Hello there! Cisco system it is !')\n",
    "else:\n",
    "    print('not a match! sorry.')\n",
    "        "
   ]
  },
  {
   "cell_type": "code",
   "execution_count": 61,
   "id": "f36da08b",
   "metadata": {},
   "outputs": [
    {
     "name": "stdout",
     "output_type": "stream",
     "text": [
      "50  Ops! a hint\n",
      "what was the number: 40\n",
      "Too low!\n",
      "No more guress!\n"
     ]
    }
   ],
   "source": [
    "number = 50\n",
    "print(f'{number}  Ops! a hint')\n",
    "guess = input('what was the number: ')\n",
    "guess = int(guess)\n",
    "\n",
    "if guess == number:\n",
    "    print('You got it!')\n",
    "elif guess < number:\n",
    "    print('Too low!')\n",
    "elif guess > number:\n",
    "    print('Too high!')\n",
    "print('No more guress!')"
   ]
  },
  {
   "cell_type": "code",
   "execution_count": 78,
   "id": "19056ed5",
   "metadata": {},
   "outputs": [
    {
     "name": "stdout",
     "output_type": "stream",
     "text": [
      "please enter a textasma\n",
      "please enter a number6\n",
      "this is too high\n",
      "Try again!2\n"
     ]
    }
   ],
   "source": [
    "text= input('please enter a text')\n",
    "number=input('please enter a number')\n",
    "number=int(number)\n",
    "if number < 0:\n",
    "    print('This is too low')\n",
    "    number=input('Try again!')\n",
    "elif len(text) <= number:\n",
    "    print('this is too high')\n",
    "    number=input('Try again!')\n",
    "else:\n",
    "    print(f'the text entered is {text} {text[number]} ')\n",
    "    "
   ]
  },
  {
   "cell_type": "code",
   "execution_count": 87,
   "id": "b57b1587",
   "metadata": {},
   "outputs": [
    {
     "name": "stdout",
     "output_type": "stream",
     "text": [
      "please enter a word computer\n",
      "omputercay\n"
     ]
    }
   ],
   "source": [
    "word=input('please enter a word ')\n",
    "if word[0] in 'aeiou':\n",
    "    print(f'{word + 'way'}')\n",
    "else:\n",
    "    print(f'{word[1:] + word[0] + \"ay\"}')\n",
    "    "
   ]
  },
  {
   "cell_type": "code",
   "execution_count": 88,
   "id": "8284457a",
   "metadata": {},
   "outputs": [
    {
     "ename": "SyntaxError",
     "evalue": "invalid syntax (706695495.py, line 1)",
     "output_type": "error",
     "traceback": [
      "\u001b[0;36m  Cell \u001b[0;32mIn[88], line 1\u001b[0;36m\u001b[0m\n\u001b[0;31m    str.\u001b[0m\n\u001b[0m        ^\u001b[0m\n\u001b[0;31mSyntaxError\u001b[0m\u001b[0;31m:\u001b[0m invalid syntax\n"
     ]
    }
   ],
   "source": [
    "str.\n"
   ]
  },
  {
   "cell_type": "code",
   "execution_count": 89,
   "id": "1b152325",
   "metadata": {},
   "outputs": [
    {
     "ename": "IndentationError",
     "evalue": "expected an indented block after 'if' statement on line 6 (2206701307.py, line 7)",
     "output_type": "error",
     "traceback": [
      "\u001b[0;36m  Cell \u001b[0;32mIn[89], line 7\u001b[0;36m\u001b[0m\n\u001b[0;31m    else:\u001b[0m\n\u001b[0m    ^\u001b[0m\n\u001b[0;31mIndentationError\u001b[0m\u001b[0;31m:\u001b[0m expected an indented block after 'if' statement on line 6\n"
     ]
    }
   ],
   "source": [
    "n1=input('Please enter first number')\n",
    "n2=input('please enter second number')\n",
    "if n1.isdigit() and n2.isdigit():\n",
    "    print(f'The sum is {int(n1 + n2}')\n",
    "else:\n",
    "    if n1.isdigit():\n",
    "        print(f'{n2} is not a number!')\n",
    "    else:\n",
    "        print(f'{n1} is not a number!')"
   ]
  },
  {
   "cell_type": "code",
   "execution_count": null,
   "id": "0c8c6b02",
   "metadata": {},
   "outputs": [],
   "source": []
  }
 ],
 "metadata": {
  "kernelspec": {
   "display_name": "Python 3 (ipykernel)",
   "language": "python",
   "name": "python3"
  },
  "language_info": {
   "codemirror_mode": {
    "name": "ipython",
    "version": 3
   },
   "file_extension": ".py",
   "mimetype": "text/x-python",
   "name": "python",
   "nbconvert_exporter": "python",
   "pygments_lexer": "ipython3",
   "version": "3.12.3"
  }
 },
 "nbformat": 4,
 "nbformat_minor": 5
}
