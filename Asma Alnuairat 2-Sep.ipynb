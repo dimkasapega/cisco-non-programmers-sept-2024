{
 "cells": [
  {
   "cell_type": "code",
   "execution_count": 2,
   "id": "5de64c0f",
   "metadata": {},
   "outputs": [
    {
     "name": "stdout",
     "output_type": "stream",
     "text": [
      "Hello\n"
     ]
    }
   ],
   "source": [
    "print('Hello')"
   ]
  },
  {
   "cell_type": "code",
   "execution_count": 4,
   "id": "9a93ecf4",
   "metadata": {},
   "outputs": [],
   "source": [
    "name='Asma'"
   ]
  },
  {
   "cell_type": "code",
   "execution_count": 7,
   "id": "f0f32657",
   "metadata": {},
   "outputs": [
    {
     "name": "stdout",
     "output_type": "stream",
     "text": [
      "what is my name Asma\n"
     ]
    }
   ],
   "source": [
    "print('what is my name ' + name)"
   ]
  },
  {
   "cell_type": "code",
   "execution_count": 10,
   "id": "4b68a5da",
   "metadata": {},
   "outputs": [
    {
     "name": "stdout",
     "output_type": "stream",
     "text": [
      "Good morning! Happy new week :D Asma\n"
     ]
    }
   ],
   "source": [
    "print('Good morning! Happy new week :D '+ name) # print practice"
   ]
  },
  {
   "cell_type": "markdown",
   "id": "cf00e3cb",
   "metadata": {},
   "source": [
    "# new exercise\n",
    "\n",
    "1-\n",
    "2-"
   ]
  },
  {
   "cell_type": "code",
   "execution_count": 11,
   "id": "4591503a",
   "metadata": {},
   "outputs": [
    {
     "name": "stdout",
     "output_type": "stream",
     "text": [
      "welcome to company ABC , we are happy to have you here , what is your nameAsma alnuairat\n"
     ]
    }
   ],
   "source": [
    "name= input('welcome to company ABC , we are happy to have you here , what is your name ')"
   ]
  },
  {
   "cell_type": "code",
   "execution_count": 14,
   "id": "bbf0592c",
   "metadata": {},
   "outputs": [
    {
     "name": "stdout",
     "output_type": "stream",
     "text": [
      "where are you from Amman\n"
     ]
    }
   ],
   "source": [
    "city=input(\"where are you from \")"
   ]
  },
  {
   "cell_type": "code",
   "execution_count": 18,
   "id": "54bef178",
   "metadata": {},
   "outputs": [
    {
     "name": "stdout",
     "output_type": "stream",
     "text": [
      "welcome to company ABC , we are happy to have you here! Asma alnuairat from Amman\n"
     ]
    }
   ],
   "source": [
    "print('welcome to company ABC , we are happy to have you here! ' + name , \"from \" + city)"
   ]
  },
  {
   "cell_type": "code",
   "execution_count": 31,
   "id": "7351d959",
   "metadata": {},
   "outputs": [
    {
     "name": "stdout",
     "output_type": "stream",
     "text": [
      "please enter random word: apple\n",
      "please enter another word berry\n",
      " Here is your entries order apple , berry\n"
     ]
    }
   ],
   "source": [
    "word1=input('please enter random word: ')\n",
    "word2=input('please enter another word ')\n",
    "if word1 > word2:\n",
    "    print('Here is your entries order'+ word2 + word1)\n",
    "else:\n",
    "    print(' Here is your entries order ' + word1 + ' , ' + word2 )\n",
    "    \n",
    "    "
   ]
  },
  {
   "cell_type": "code",
   "execution_count": 40,
   "id": "f297b300",
   "metadata": {
    "scrolled": true
   },
   "outputs": [
    {
     "name": "stdout",
     "output_type": "stream",
     "text": [
      "please enter random word: b\n",
      "please enter another word a\n",
      "please enter valid value\n"
     ]
    }
   ],
   "source": [
    "word1=input('please enter random word: ')\n",
    "word2=input('please enter another word ')\n",
    "if word1 < word2:\n",
    "    print(f'Here is your entries order {word2} then {word1}')\n",
    "elif word1 == word2:\n",
    "    print('Error! same value entred')\n",
    "elif word1 == \"b\":\n",
    "    print('please enter valid value')\n",
    "     \n",
    "else:\n",
    "    print(f'Here is your entries order {word1} then {word2}')"
   ]
  },
  {
   "cell_type": "code",
   "execution_count": 46,
   "id": "d099ddd2",
   "metadata": {},
   "outputs": [
    {
     "name": "stdout",
     "output_type": "stream",
     "text": [
      "what is your name: Mark\n",
      "Where do you work: Cisco\n",
      "Hello there! Cisco system it is !\n"
     ]
    }
   ],
   "source": [
    "name= input('what is your name: ')\n",
    "company=input('Where do you work: ')\n",
    "if name == 'Asma' and company == 'Cisco':\n",
    "    print('You are me!')\n",
    "elif name == 'Asma':\n",
    "    if company != 'Cisco':\n",
    "        print('Nice name!')\n",
    "elif company == 'Cisco':\n",
    "    if name != 'Asma':\n",
    "        print('Hello there! Cisco system it is !')\n",
    "else:\n",
    "    print('not a match!')\n",
    "        "
   ]
  },
  {
   "cell_type": "code",
   "execution_count": null,
   "id": "b93065cf",
   "metadata": {},
   "outputs": [],
   "source": []
  }
 ],
 "metadata": {
  "kernelspec": {
   "display_name": "Python 3 (ipykernel)",
   "language": "python",
   "name": "python3"
  },
  "language_info": {
   "codemirror_mode": {
    "name": "ipython",
    "version": 3
   },
   "file_extension": ".py",
   "mimetype": "text/x-python",
   "name": "python",
   "nbconvert_exporter": "python",
   "pygments_lexer": "ipython3",
   "version": "3.12.3"
  }
 },
 "nbformat": 4,
 "nbformat_minor": 5
}
