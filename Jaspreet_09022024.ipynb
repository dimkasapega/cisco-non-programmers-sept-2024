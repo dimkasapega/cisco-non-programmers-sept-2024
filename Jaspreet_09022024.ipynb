{
 "cells": [
  {
   "cell_type": "code",
   "execution_count": 2,
   "id": "c2a377ad",
   "metadata": {},
   "outputs": [
    {
     "name": "stdout",
     "output_type": "stream",
     "text": [
      "hello :)\n"
     ]
    }
   ],
   "source": [
    "print ('hello :)')"
   ]
  },
  {
   "cell_type": "code",
   "execution_count": 3,
   "id": "39311867",
   "metadata": {},
   "outputs": [
    {
     "name": "stdout",
     "output_type": "stream",
     "text": [
      "5+2\n"
     ]
    }
   ],
   "source": [
    "print (\"5+2\")"
   ]
  },
  {
   "cell_type": "code",
   "execution_count": 4,
   "id": "dab18e54",
   "metadata": {},
   "outputs": [
    {
     "name": "stdout",
     "output_type": "stream",
     "text": [
      "7\n"
     ]
    }
   ],
   "source": [
    "print (5+2)"
   ]
  },
  {
   "cell_type": "code",
   "execution_count": 6,
   "id": "69916a19",
   "metadata": {},
   "outputs": [
    {
     "name": "stdout",
     "output_type": "stream",
     "text": [
      "Hello, Jaspreet\n"
     ]
    }
   ],
   "source": [
    "name = 'Jaspreet'\n",
    "print ('Hello, ' + name)"
   ]
  },
  {
   "cell_type": "code",
   "execution_count": 10,
   "id": "ec735ed4",
   "metadata": {},
   "outputs": [
    {
     "data": {
      "text/plain": [
       "str"
      ]
     },
     "execution_count": 10,
     "metadata": {},
     "output_type": "execute_result"
    }
   ],
   "source": [
    "name = 'x'\n",
    "type('name')"
   ]
  },
  {
   "cell_type": "code",
   "execution_count": 11,
   "id": "68bdb0ea",
   "metadata": {},
   "outputs": [
    {
     "name": "stdout",
     "output_type": "stream",
     "text": [
      "Happy Monday, Jaspreet\n"
     ]
    }
   ],
   "source": [
    "name = 'Jaspreet'\n",
    "print ('Happy Monday, ' + name)"
   ]
  },
  {
   "cell_type": "code",
   "execution_count": 12,
   "id": "69890b3a",
   "metadata": {},
   "outputs": [
    {
     "name": "stdout",
     "output_type": "stream",
     "text": [
      "Happy Monday Jaspreet\n"
     ]
    }
   ],
   "source": [
    "name = 'Jaspreet'\n",
    "print ('Happy Monday', name)"
   ]
  },
  {
   "cell_type": "markdown",
   "id": "8bb8c279",
   "metadata": {},
   "source": [
    "#Exercise Greet Yourself\n",
    "1. Assign the variable `name` to your name.\n",
    "2. Use `print` to display a nice greeting to yourself.\n"
   ]
  },
  {
   "cell_type": "code",
   "execution_count": 16,
   "id": "a2b91e2b",
   "metadata": {},
   "outputs": [
    {
     "name": "stdout",
     "output_type": "stream",
     "text": [
      "Enter a User name: Jaspreet\n",
      "Enter a City name: Ambala\n",
      "Hi Jaspreet! Welcome to Ambala.\n"
     ]
    }
   ],
   "source": [
    "user_name = input('Enter a User name: ')\n",
    "city_name = input('Enter a City name: ')\n",
    "print ('Hi ' + user_name + '! ' 'Welcome to ' + city_name + '.')"
   ]
  },
  {
   "cell_type": "code",
   "execution_count": null,
   "id": "7069a40d",
   "metadata": {},
   "outputs": [],
   "source": []
  }
 ],
 "metadata": {
  "kernelspec": {
   "display_name": "Python 3 (ipykernel)",
   "language": "python",
   "name": "python3"
  },
  "language_info": {
   "codemirror_mode": {
    "name": "ipython",
    "version": 3
   },
   "file_extension": ".py",
   "mimetype": "text/x-python",
   "name": "python",
   "nbconvert_exporter": "python",
   "pygments_lexer": "ipython3",
   "version": "3.12.3"
  }
 },
 "nbformat": 4,
 "nbformat_minor": 5
}
