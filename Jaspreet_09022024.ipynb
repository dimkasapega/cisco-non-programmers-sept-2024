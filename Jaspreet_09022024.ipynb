{
 "cells": [
  {
   "cell_type": "code",
   "execution_count": 2,
   "id": "604c52aa",
   "metadata": {},
   "outputs": [
    {
     "name": "stdout",
     "output_type": "stream",
     "text": [
      "hello :)\n"
     ]
    }
   ],
   "source": [
    "print ('hello :)')"
   ]
  },
  {
   "cell_type": "code",
   "execution_count": 3,
   "id": "d09433b1",
   "metadata": {},
   "outputs": [
    {
     "name": "stdout",
     "output_type": "stream",
     "text": [
      "5+2\n"
     ]
    }
   ],
   "source": [
    "print (\"5+2\")"
   ]
  },
  {
   "cell_type": "code",
   "execution_count": 4,
   "id": "5a959465",
   "metadata": {},
   "outputs": [
    {
     "name": "stdout",
     "output_type": "stream",
     "text": [
      "7\n"
     ]
    }
   ],
   "source": [
    "print (5+2)"
   ]
  },
  {
   "cell_type": "code",
   "execution_count": 6,
   "id": "f068a787",
   "metadata": {},
   "outputs": [
    {
     "name": "stdout",
     "output_type": "stream",
     "text": [
      "Hello, Jaspreet\n"
     ]
    }
   ],
   "source": [
    "name = 'Jaspreet'\n",
    "print ('Hello, ' + name)"
   ]
  },
  {
   "cell_type": "code",
   "execution_count": 10,
   "id": "8b7d5500",
   "metadata": {},
   "outputs": [
    {
     "data": {
      "text/plain": [
       "str"
      ]
     },
     "execution_count": 10,
     "metadata": {},
     "output_type": "execute_result"
    }
   ],
   "source": [
    "name = 'x'\n",
    "type('name')"
   ]
  },
  {
   "cell_type": "code",
   "execution_count": 11,
   "id": "16c4764d",
   "metadata": {},
   "outputs": [
    {
     "name": "stdout",
     "output_type": "stream",
     "text": [
      "Happy Monday, Jaspreet\n"
     ]
    }
   ],
   "source": [
    "name = 'Jaspreet'\n",
    "print ('Happy Monday, ' + name)"
   ]
  },
  {
   "cell_type": "code",
   "execution_count": 12,
   "id": "4bd4949f",
   "metadata": {},
   "outputs": [
    {
     "name": "stdout",
     "output_type": "stream",
     "text": [
      "Happy Monday Jaspreet\n"
     ]
    }
   ],
   "source": [
    "name = 'Jaspreet'\n",
    "print ('Happy Monday', name)"
   ]
  },
  {
   "cell_type": "markdown",
   "id": "3bf7ad45",
   "metadata": {},
   "source": [
    "#Exercise Greet Yourself\n",
    "1. Assign the variable `name` to your name.\n",
    "2. Use `print` to display a nice greeting to yourself.\n"
   ]
  },
  {
   "cell_type": "code",
   "execution_count": 16,
   "id": "1df56e66",
   "metadata": {},
   "outputs": [
    {
     "name": "stdout",
     "output_type": "stream",
     "text": [
      "Enter a User name: Jaspreet\n",
      "Enter a City name: Ambala\n",
      "Hi Jaspreet! Welcome to Ambala.\n"
     ]
    }
   ],
   "source": [
    "user_name = input('Enter a User name: ')\n",
    "city_name = input('Enter a City name: ')\n",
    "print ('Hi ' + user_name + '! ' 'Welcome to ' + city_name + '.')"
   ]
  },
  {
   "cell_type": "code",
   "execution_count": 18,
   "id": "07e757eb",
   "metadata": {},
   "outputs": [
    {
     "name": "stdout",
     "output_type": "stream",
     "text": [
      "10 + 20 = 30\n"
     ]
    }
   ],
   "source": [
    "x = 10\n",
    "y = 20\n",
    "print (f'{x} + {y} = {x+y}')"
   ]
  },
  {
   "cell_type": "code",
   "execution_count": 20,
   "id": "a9643557",
   "metadata": {},
   "outputs": [
    {
     "data": {
      "text/plain": [
       "False"
      ]
     },
     "execution_count": 20,
     "metadata": {},
     "output_type": "execute_result"
    }
   ],
   "source": [
    "x = '10'\n",
    "y = '20'\n",
    "x == y"
   ]
  },
  {
   "cell_type": "code",
   "execution_count": 21,
   "id": "ee36af6c",
   "metadata": {},
   "outputs": [
    {
     "data": {
      "text/plain": [
       "True"
      ]
     },
     "execution_count": 21,
     "metadata": {},
     "output_type": "execute_result"
    }
   ],
   "source": [
    "10 < 20"
   ]
  },
  {
   "cell_type": "code",
   "execution_count": 29,
   "id": "ec03de27",
   "metadata": {},
   "outputs": [
    {
     "name": "stdout",
     "output_type": "stream",
     "text": [
      "Enter your name: Tini\n",
      " Hi Tini, Who are you?\n"
     ]
    }
   ],
   "source": [
    "user_name = input('Enter your name: ')\n",
    "\n",
    "if user_name == 'Jaspreet':\n",
    "    print('Hi ' + user_name)\n",
    "    print('How are you doing ' + '!')\n",
    "else:\n",
    "    print(f' Hi {user_name}, ' + 'Who are you?')"
   ]
  },
  {
   "cell_type": "code",
   "execution_count": null,
   "id": "fe6bb4c8",
   "metadata": {},
   "outputs": [],
   "source": []
  }
 ],
 "metadata": {
  "kernelspec": {
   "display_name": "Python 3 (ipykernel)",
   "language": "python",
   "name": "python3"
  },
  "language_info": {
   "codemirror_mode": {
    "name": "ipython",
    "version": 3
   },
   "file_extension": ".py",
   "mimetype": "text/x-python",
   "name": "python",
   "nbconvert_exporter": "python",
   "pygments_lexer": "ipython3",
   "version": "3.12.3"
  }
 },
 "nbformat": 4,
 "nbformat_minor": 5
}
