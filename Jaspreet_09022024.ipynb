{
 "cells": [
  {
   "cell_type": "code",
   "execution_count": 2,
   "id": "13085db7",
   "metadata": {},
   "outputs": [
    {
     "name": "stdout",
     "output_type": "stream",
     "text": [
      "hello :)\n"
     ]
    }
   ],
   "source": [
    "print ('hello :)')"
   ]
  },
  {
   "cell_type": "code",
   "execution_count": 3,
   "id": "1bb93ddf",
   "metadata": {},
   "outputs": [
    {
     "name": "stdout",
     "output_type": "stream",
     "text": [
      "5+2\n"
     ]
    }
   ],
   "source": [
    "print (\"5+2\")"
   ]
  },
  {
   "cell_type": "code",
   "execution_count": 4,
   "id": "6a034d4c",
   "metadata": {},
   "outputs": [
    {
     "name": "stdout",
     "output_type": "stream",
     "text": [
      "7\n"
     ]
    }
   ],
   "source": [
    "print (5+2)"
   ]
  },
  {
   "cell_type": "code",
   "execution_count": 6,
   "id": "ec7ff344",
   "metadata": {},
   "outputs": [
    {
     "name": "stdout",
     "output_type": "stream",
     "text": [
      "Hello, Jaspreet\n"
     ]
    }
   ],
   "source": [
    "name = 'Jaspreet'\n",
    "print ('Hello, ' + name)"
   ]
  },
  {
   "cell_type": "code",
   "execution_count": 10,
   "id": "df7ba82f",
   "metadata": {},
   "outputs": [
    {
     "data": {
      "text/plain": [
       "str"
      ]
     },
     "execution_count": 10,
     "metadata": {},
     "output_type": "execute_result"
    }
   ],
   "source": [
    "name = 'x'\n",
    "type('name')"
   ]
  },
  {
   "cell_type": "code",
   "execution_count": 11,
   "id": "736d95c3",
   "metadata": {},
   "outputs": [
    {
     "name": "stdout",
     "output_type": "stream",
     "text": [
      "Happy Monday, Jaspreet\n"
     ]
    }
   ],
   "source": [
    "name = 'Jaspreet'\n",
    "print ('Happy Monday, ' + name)"
   ]
  },
  {
   "cell_type": "code",
   "execution_count": 12,
   "id": "565de50e",
   "metadata": {},
   "outputs": [
    {
     "name": "stdout",
     "output_type": "stream",
     "text": [
      "Happy Monday Jaspreet\n"
     ]
    }
   ],
   "source": [
    "name = 'Jaspreet'\n",
    "print ('Happy Monday', name)"
   ]
  },
  {
   "cell_type": "markdown",
   "id": "74b9ba2f",
   "metadata": {},
   "source": [
    "#Exercise Greet Yourself\n",
    "1. Assign the variable `name` to your name.\n",
    "2. Use `print` to display a nice greeting to yourself.\n"
   ]
  },
  {
   "cell_type": "code",
   "execution_count": null,
   "id": "822ecfe6",
   "metadata": {},
   "outputs": [],
   "source": [
    "city_name = input('')"
   ]
  }
 ],
 "metadata": {
  "kernelspec": {
   "display_name": "Python 3 (ipykernel)",
   "language": "python",
   "name": "python3"
  },
  "language_info": {
   "codemirror_mode": {
    "name": "ipython",
    "version": 3
   },
   "file_extension": ".py",
   "mimetype": "text/x-python",
   "name": "python",
   "nbconvert_exporter": "python",
   "pygments_lexer": "ipython3",
   "version": "3.12.3"
  }
 },
 "nbformat": 4,
 "nbformat_minor": 5
}
