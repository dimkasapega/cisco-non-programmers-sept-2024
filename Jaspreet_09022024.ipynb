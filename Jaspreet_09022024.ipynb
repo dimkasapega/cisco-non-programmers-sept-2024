{
 "cells": [
  {
   "cell_type": "code",
   "execution_count": 2,
   "id": "0aacfb03",
   "metadata": {},
   "outputs": [
    {
     "name": "stdout",
     "output_type": "stream",
     "text": [
      "hello :)\n"
     ]
    }
   ],
   "source": [
    "print ('hello :)')"
   ]
  },
  {
   "cell_type": "code",
   "execution_count": 3,
   "id": "26a33e92",
   "metadata": {},
   "outputs": [
    {
     "name": "stdout",
     "output_type": "stream",
     "text": [
      "5+2\n"
     ]
    }
   ],
   "source": [
    "print (\"5+2\")"
   ]
  },
  {
   "cell_type": "code",
   "execution_count": 4,
   "id": "33762a2c",
   "metadata": {},
   "outputs": [
    {
     "name": "stdout",
     "output_type": "stream",
     "text": [
      "7\n"
     ]
    }
   ],
   "source": [
    "print (5+2)"
   ]
  },
  {
   "cell_type": "code",
   "execution_count": 6,
   "id": "46c5094f",
   "metadata": {},
   "outputs": [
    {
     "name": "stdout",
     "output_type": "stream",
     "text": [
      "Hello, Jaspreet\n"
     ]
    }
   ],
   "source": [
    "name = 'Jaspreet'\n",
    "print ('Hello, ' + name)"
   ]
  },
  {
   "cell_type": "code",
   "execution_count": 10,
   "id": "461e5f25",
   "metadata": {},
   "outputs": [
    {
     "data": {
      "text/plain": [
       "str"
      ]
     },
     "execution_count": 10,
     "metadata": {},
     "output_type": "execute_result"
    }
   ],
   "source": [
    "name = 'x'\n",
    "type('name')"
   ]
  },
  {
   "cell_type": "code",
   "execution_count": 11,
   "id": "a402372d",
   "metadata": {},
   "outputs": [
    {
     "name": "stdout",
     "output_type": "stream",
     "text": [
      "Happy Monday, Jaspreet\n"
     ]
    }
   ],
   "source": [
    "name = 'Jaspreet'\n",
    "print ('Happy Monday, ' + name)"
   ]
  },
  {
   "cell_type": "code",
   "execution_count": 12,
   "id": "defc283d",
   "metadata": {},
   "outputs": [
    {
     "name": "stdout",
     "output_type": "stream",
     "text": [
      "Happy Monday Jaspreet\n"
     ]
    }
   ],
   "source": [
    "name = 'Jaspreet'\n",
    "print ('Happy Monday', name)"
   ]
  },
  {
   "cell_type": "markdown",
   "id": "60803fcc",
   "metadata": {},
   "source": [
    "#Exercise Greet Yourself\n",
    "1. Assign the variable `name` to your name.\n",
    "2. Use `print` to display a nice greeting to yourself.\n"
   ]
  },
  {
   "cell_type": "code",
   "execution_count": 16,
   "id": "ff291aef",
   "metadata": {},
   "outputs": [
    {
     "name": "stdout",
     "output_type": "stream",
     "text": [
      "Enter a User name: Jaspreet\n",
      "Enter a City name: Ambala\n",
      "Hi Jaspreet! Welcome to Ambala.\n"
     ]
    }
   ],
   "source": [
    "user_name = input('Enter a User name: ')\n",
    "city_name = input('Enter a City name: ')\n",
    "print ('Hi ' + user_name + '! ' 'Welcome to ' + city_name + '.')"
   ]
  },
  {
   "cell_type": "code",
   "execution_count": 18,
   "id": "998efdc4",
   "metadata": {},
   "outputs": [
    {
     "name": "stdout",
     "output_type": "stream",
     "text": [
      "10 + 20 = 30\n"
     ]
    }
   ],
   "source": [
    "x = 10\n",
    "y = 20\n",
    "print (f'{x} + {y} = {x+y}')"
   ]
  },
  {
   "cell_type": "code",
   "execution_count": 20,
   "id": "849e0599",
   "metadata": {},
   "outputs": [
    {
     "data": {
      "text/plain": [
       "False"
      ]
     },
     "execution_count": 20,
     "metadata": {},
     "output_type": "execute_result"
    }
   ],
   "source": [
    "x = '10'\n",
    "y = '20'\n",
    "x == y"
   ]
  },
  {
   "cell_type": "code",
   "execution_count": 21,
   "id": "e9c06eeb",
   "metadata": {},
   "outputs": [
    {
     "data": {
      "text/plain": [
       "True"
      ]
     },
     "execution_count": 21,
     "metadata": {},
     "output_type": "execute_result"
    }
   ],
   "source": [
    "10 < 20"
   ]
  },
  {
   "cell_type": "code",
   "execution_count": 30,
   "id": "75733df2",
   "metadata": {},
   "outputs": [
    {
     "name": "stdout",
     "output_type": "stream",
     "text": [
      "Enter your name: Tini\n",
      " Hi, Tini. Who are you?\n"
     ]
    }
   ],
   "source": [
    "user_name = input('Enter your name: ')\n",
    "\n",
    "if user_name == 'Jaspreet':\n",
    "    print('Hi ' + user_name)\n",
    "    print('How are you doing ' + '!')\n",
    "else:\n",
    "    print(f' Hi, {user_name}. Who are you?')"
   ]
  },
  {
   "cell_type": "code",
   "execution_count": 33,
   "id": "d453c6b1",
   "metadata": {},
   "outputs": [
    {
     "name": "stdout",
     "output_type": "stream",
     "text": [
      "Enter the word_1: egg\n",
      "Enter the word_2: chicken\n",
      "chicken comes before egg\n"
     ]
    }
   ],
   "source": [
    "word_1 = input('Enter the word_1: ')\n",
    "word_2 = input('Enter the word_2: ')\n",
    "if word_1 < word_2:\n",
    "    print(f'{word_1} comes before {word_2}')\n",
    "else:\n",
    "    print(f'{word_2} comes before {word_1}')"
   ]
  },
  {
   "cell_type": "code",
   "execution_count": 41,
   "id": "ab08598c",
   "metadata": {},
   "outputs": [
    {
     "name": "stdout",
     "output_type": "stream",
     "text": [
      "Enter your name1: choco\n",
      "Enter your name2: apple\n",
      "apple comes before choco\n"
     ]
    }
   ],
   "source": [
    "name1 = input('Enter your name1: ')\n",
    "name2 = input('Enter your name2: ')\n",
    "\n",
    "if name1 < name2:\n",
    "    print(f'{name1} comes before {name2}')\n",
    "elif name1 == name2:\n",
    "    print(f'{name1} is same as {name2}!')\n",
    "else:\n",
    "    print(f'{name2} comes before {name1}')"
   ]
  },
  {
   "cell_type": "code",
   "execution_count": 67,
   "id": "445602f7",
   "metadata": {},
   "outputs": [
    {
     "name": "stdout",
     "output_type": "stream",
     "text": [
      "Enter user name: Hi\n",
      "Enter company name: Ti\n",
      "I dont know Hi from Ti\n"
     ]
    }
   ],
   "source": [
    "name = input('Enter user name: ')\n",
    "company = input('Enter company name: ')\n",
    "if name == 'Jaspreet' and company == 'Cisco':\n",
    "    print(f' You''re me!')\n",
    "elif name == 'Jaspreet' and company != 'Cisco':\n",
    "    print('This Jaspreet is not from Cisco')\n",
    "elif name != 'Jaspreet' and company == 'Cisco':\n",
    "    print(f'Greetings {name}!')\n",
    "else:\n",
    "    print(f'I dont know {name} from {company}')\n",
    "          \n"
   ]
  },
  {
   "cell_type": "code",
   "execution_count": 70,
   "id": "6054e3ea",
   "metadata": {},
   "outputs": [
    {
     "data": {
      "text/plain": [
       "int"
      ]
     },
     "execution_count": 70,
     "metadata": {},
     "output_type": "execute_result"
    }
   ],
   "source": [
    "x = 100\n",
    "type (x)"
   ]
  },
  {
   "cell_type": "code",
   "execution_count": 93,
   "id": "7a2ca50c",
   "metadata": {},
   "outputs": [
    {
     "name": "stdout",
     "output_type": "stream",
     "text": [
      "This number is 100\n",
      "Enter the numerical digit: 100\n",
      "You got it!\n"
     ]
    }
   ],
   "source": [
    "x = 100\n",
    "print (f'This number is {x}')\n",
    "number = input('Enter the numerical digit: ')\n",
    "number = int(number)\n",
    "if number == x:\n",
    "    print('You got it!')\n",
    "elif number < x:\n",
    "    print('Too low!')\n",
    "else:\n",
    "    print('Too high!')"
   ]
  },
  {
   "cell_type": "code",
   "execution_count": 94,
   "id": "5dde0823",
   "metadata": {},
   "outputs": [
    {
     "data": {
      "text/plain": [
       "int"
      ]
     },
     "execution_count": 94,
     "metadata": {},
     "output_type": "execute_result"
    }
   ],
   "source": [
    "x = 100\n",
    "type (x)"
   ]
  },
  {
   "cell_type": "code",
   "execution_count": 95,
   "id": "2f0c6d3f",
   "metadata": {},
   "outputs": [
    {
     "data": {
      "text/plain": [
       "float"
      ]
     },
     "execution_count": 95,
     "metadata": {},
     "output_type": "execute_result"
    }
   ],
   "source": [
    "x = 100.0\n",
    "type (x)"
   ]
  },
  {
   "cell_type": "code",
   "execution_count": 96,
   "id": "e2b3a92c",
   "metadata": {},
   "outputs": [
    {
     "data": {
      "text/plain": [
       "10.0"
      ]
     },
     "execution_count": 96,
     "metadata": {},
     "output_type": "execute_result"
    }
   ],
   "source": [
    "float (10)"
   ]
  },
  {
   "cell_type": "code",
   "execution_count": 97,
   "id": "71fcf213",
   "metadata": {},
   "outputs": [
    {
     "data": {
      "text/plain": [
       "0.30000000000000004"
      ]
     },
     "execution_count": 97,
     "metadata": {},
     "output_type": "execute_result"
    }
   ],
   "source": [
    "0.1 + 0.2"
   ]
  },
  {
   "cell_type": "code",
   "execution_count": 98,
   "id": "c899d3d3",
   "metadata": {},
   "outputs": [
    {
     "data": {
      "text/plain": [
       "123"
      ]
     },
     "execution_count": 98,
     "metadata": {},
     "output_type": "execute_result"
    }
   ],
   "source": [
    "int (123.156)"
   ]
  },
  {
   "cell_type": "code",
   "execution_count": 99,
   "id": "6c0a24b7",
   "metadata": {},
   "outputs": [
    {
     "data": {
      "text/plain": [
       "0.3"
      ]
     },
     "execution_count": 99,
     "metadata": {},
     "output_type": "execute_result"
    }
   ],
   "source": [
    "round(0.1+0.2, 3)"
   ]
  },
  {
   "cell_type": "code",
   "execution_count": 104,
   "id": "a83caf39",
   "metadata": {},
   "outputs": [
    {
     "data": {
      "text/plain": [
       "14"
      ]
     },
     "execution_count": 104,
     "metadata": {},
     "output_type": "execute_result"
    }
   ],
   "source": [
    "s = 'Jaspreet Singh'\n",
    "len(s)"
   ]
  },
  {
   "cell_type": "code",
   "execution_count": 118,
   "id": "7dfa4e73",
   "metadata": {},
   "outputs": [
    {
     "name": "stdout",
     "output_type": "stream",
     "text": [
      "Enter a word: pineapple\n",
      "Enter a number: -1\n",
      "index 5 in 'pineapple' is 'p'\n"
     ]
    }
   ],
   "source": [
    "x = 'pineapple'\n",
    "word = input('Enter a word: ')\n",
    "index = input('Enter a number: ')\n",
    "index = int(index)\n",
    "if index < 0:\n",
    "    print('index 5 in \\'pineapple\\' is \\'p\\'')\n",
    "elif index >= len(word):\n",
    "    print('100 is too big, and beyond the index for pineapple')\n",
    "else:\n",
    "    print(f'Index {index} in \"{word}\" is \"{word[index]}\"')"
   ]
  },
  {
   "cell_type": "code",
   "execution_count": 120,
   "id": "9e61a23e",
   "metadata": {},
   "outputs": [
    {
     "data": {
      "text/plain": [
       "26"
      ]
     },
     "execution_count": 120,
     "metadata": {},
     "output_type": "execute_result"
    }
   ],
   "source": [
    "s = 'abcdefghijklmnopqrstuvwxyz'\n",
    "len(s)"
   ]
  },
  {
   "cell_type": "code",
   "execution_count": 121,
   "id": "e31bbc36",
   "metadata": {},
   "outputs": [
    {
     "data": {
      "text/plain": [
       "'abcdefghijklmnopqrstuvwxyz'"
      ]
     },
     "execution_count": 121,
     "metadata": {},
     "output_type": "execute_result"
    }
   ],
   "source": [
    "s"
   ]
  },
  {
   "cell_type": "code",
   "execution_count": 122,
   "id": "1113b625",
   "metadata": {},
   "outputs": [
    {
     "ename": "NameError",
     "evalue": "name 'j' is not defined",
     "output_type": "error",
     "traceback": [
      "\u001b[0;31m---------------------------------------------------------------------------\u001b[0m",
      "\u001b[0;31mNameError\u001b[0m                                 Traceback (most recent call last)",
      "Cell \u001b[0;32mIn[122], line 1\u001b[0m\n\u001b[0;32m----> 1\u001b[0m \u001b[43mj\u001b[49m \u001b[38;5;129;01min\u001b[39;00m \u001b[38;5;124m'\u001b[39m\u001b[38;5;124ms\u001b[39m\u001b[38;5;124m'\u001b[39m\n",
      "\u001b[0;31mNameError\u001b[0m: name 'j' is not defined"
     ]
    }
   ],
   "source": [
    "j in 's'"
   ]
  },
  {
   "cell_type": "code",
   "execution_count": 123,
   "id": "23f3e96b",
   "metadata": {},
   "outputs": [
    {
     "data": {
      "text/plain": [
       "True"
      ]
     },
     "execution_count": 123,
     "metadata": {},
     "output_type": "execute_result"
    }
   ],
   "source": [
    "'j' in s"
   ]
  },
  {
   "cell_type": "code",
   "execution_count": 124,
   "id": "dc66981a",
   "metadata": {},
   "outputs": [
    {
     "data": {
      "text/plain": [
       "False"
      ]
     },
     "execution_count": 124,
     "metadata": {},
     "output_type": "execute_result"
    }
   ],
   "source": [
    "'gal' in s"
   ]
  },
  {
   "cell_type": "code",
   "execution_count": 126,
   "id": "7b43a860",
   "metadata": {},
   "outputs": [
    {
     "data": {
      "text/plain": [
       "True"
      ]
     },
     "execution_count": 126,
     "metadata": {},
     "output_type": "execute_result"
    }
   ],
   "source": [
    "'ghi' in s"
   ]
  },
  {
   "cell_type": "code",
   "execution_count": 143,
   "id": "c07b7943",
   "metadata": {},
   "outputs": [
    {
     "name": "stdout",
     "output_type": "stream",
     "text": [
      "Enter a string: try\n",
      "rytay\n"
     ]
    }
   ],
   "source": [
    "s = 'abcdefghijklmnopqrstuvwxyz'\n",
    "user_input = input('Enter a string: ')\n",
    "#if (user_input[0] == 'a') or 'e' or 'i' or 'o' or 'u':\n",
    "if user_input[0] in 'aeiou':\n",
    "    print(user_input + 'way')\n",
    "else:\n",
    "    print(user_input[1:] + user_input[0] + 'ay')"
   ]
  },
  {
   "cell_type": "code",
   "execution_count": 144,
   "id": "5b733844",
   "metadata": {},
   "outputs": [
    {
     "data": {
      "text/plain": [
       "'ABCD EFGH'"
      ]
     },
     "execution_count": 144,
     "metadata": {},
     "output_type": "execute_result"
    }
   ],
   "source": [
    "s = 'aBcD eFgH'\n",
    "s.upper()"
   ]
  },
  {
   "cell_type": "code",
   "execution_count": 145,
   "id": "0510c28b",
   "metadata": {},
   "outputs": [
    {
     "data": {
      "text/plain": [
       "'abcd efgh'"
      ]
     },
     "execution_count": 145,
     "metadata": {},
     "output_type": "execute_result"
    }
   ],
   "source": [
    "s.lower()"
   ]
  },
  {
   "cell_type": "code",
   "execution_count": 146,
   "id": "66456efe",
   "metadata": {},
   "outputs": [
    {
     "data": {
      "text/plain": [
       "'Abcd efgh'"
      ]
     },
     "execution_count": 146,
     "metadata": {},
     "output_type": "execute_result"
    }
   ],
   "source": [
    "s.capitalize()"
   ]
  },
  {
   "cell_type": "code",
   "execution_count": 147,
   "id": "b6c57975",
   "metadata": {},
   "outputs": [
    {
     "data": {
      "text/plain": [
       "'Abcd Efgh'"
      ]
     },
     "execution_count": 147,
     "metadata": {},
     "output_type": "execute_result"
    }
   ],
   "source": [
    "s.title()"
   ]
  },
  {
   "cell_type": "code",
   "execution_count": 148,
   "id": "3f77e855",
   "metadata": {},
   "outputs": [
    {
     "data": {
      "text/plain": [
       "'AbCd EfGh'"
      ]
     },
     "execution_count": 148,
     "metadata": {},
     "output_type": "execute_result"
    }
   ],
   "source": [
    "s.swapcase()"
   ]
  },
  {
   "cell_type": "code",
   "execution_count": 149,
   "id": "6424a71f",
   "metadata": {},
   "outputs": [
    {
     "data": {
      "text/plain": [
       "5"
      ]
     },
     "execution_count": 149,
     "metadata": {},
     "output_type": "execute_result"
    }
   ],
   "source": [
    "s.index('e')"
   ]
  },
  {
   "cell_type": "code",
   "execution_count": 150,
   "id": "9cb69a14",
   "metadata": {},
   "outputs": [
    {
     "data": {
      "text/plain": [
       "5"
      ]
     },
     "execution_count": 150,
     "metadata": {},
     "output_type": "execute_result"
    }
   ],
   "source": [
    "s.find('e')"
   ]
  },
  {
   "cell_type": "code",
   "execution_count": 151,
   "id": "adabd722",
   "metadata": {},
   "outputs": [
    {
     "data": {
      "text/plain": [
       "-1"
      ]
     },
     "execution_count": 151,
     "metadata": {},
     "output_type": "execute_result"
    }
   ],
   "source": [
    "s.find('z')"
   ]
  },
  {
   "cell_type": "code",
   "execution_count": 152,
   "id": "6932439c",
   "metadata": {},
   "outputs": [
    {
     "ename": "ValueError",
     "evalue": "substring not found",
     "output_type": "error",
     "traceback": [
      "\u001b[0;31m---------------------------------------------------------------------------\u001b[0m",
      "\u001b[0;31mValueError\u001b[0m                                Traceback (most recent call last)",
      "Cell \u001b[0;32mIn[152], line 1\u001b[0m\n\u001b[0;32m----> 1\u001b[0m \u001b[43ms\u001b[49m\u001b[38;5;241;43m.\u001b[39;49m\u001b[43mindex\u001b[49m\u001b[43m(\u001b[49m\u001b[38;5;124;43m'\u001b[39;49m\u001b[38;5;124;43mz\u001b[39;49m\u001b[38;5;124;43m'\u001b[39;49m\u001b[43m)\u001b[49m\n",
      "\u001b[0;31mValueError\u001b[0m: substring not found"
     ]
    }
   ],
   "source": [
    "s.index('z')"
   ]
  },
  {
   "cell_type": "code",
   "execution_count": 154,
   "id": "a7bb5abb",
   "metadata": {},
   "outputs": [
    {
     "name": "stdout",
     "output_type": "stream",
     "text": [
      "Enter your name:                   Jaspreet          \n",
      "Hello, Jaspreet.\n"
     ]
    }
   ],
   "source": [
    "name = input('Enter your name: ').strip()\n",
    "print(f'Hello, {name}.')"
   ]
  },
  {
   "cell_type": "code",
   "execution_count": 183,
   "id": "6b63a87b",
   "metadata": {},
   "outputs": [
    {
     "name": "stdout",
     "output_type": "stream",
     "text": [
      "Enter num1:      1224\n",
      "Enter num2: 4\n",
      "1224 + 4 = 1228\n"
     ]
    }
   ],
   "source": [
    "num1 = input('Enter num1: ').strip()\n",
    "num2 = input('Enter num2: ').strip()\n",
    "if not num1.isdigit():\n",
    "    print(f'{num1} is not numeric')\n",
    "elif not num2.isdigit():\n",
    "    print(f'{num2} is not numeric')\n",
    "else:\n",
    "    result = int(num1) + int(num2)\n",
    "    print(f'{num1} + {num2} = {result}')\n",
    "\n"
   ]
  },
  {
   "cell_type": "code",
   "execution_count": 185,
   "id": "91a5962d",
   "metadata": {},
   "outputs": [
    {
     "ename": "SyntaxError",
     "evalue": "expression cannot contain assignment, perhaps you meant \"==\"? (2442896316.py, line 4)",
     "output_type": "error",
     "traceback": [
      "\u001b[0;36m  Cell \u001b[0;32mIn[185], line 4\u001b[0;36m\u001b[0m\n\u001b[0;31m    print (x + y = int(x)+int(y))\u001b[0m\n\u001b[0m           ^\u001b[0m\n\u001b[0;31mSyntaxError\u001b[0m\u001b[0;31m:\u001b[0m expression cannot contain assignment, perhaps you meant \"==\"?\n"
     ]
    }
   ],
   "source": [
    "x= input('Put in 1 number: ').strip()\n",
    "y= input('Put in a 2nd number: ').strip()\n",
    "if (x.isdigit() and y.isdigit()):\n",
    "    print (x + y = int(x)+int(y))\n",
    "else:\n",
    "    print('Bad input')"
   ]
  },
  {
   "cell_type": "code",
   "execution_count": null,
   "id": "c685febe",
   "metadata": {},
   "outputs": [],
   "source": []
  }
 ],
 "metadata": {
  "kernelspec": {
   "display_name": "Python 3 (ipykernel)",
   "language": "python",
   "name": "python3"
  },
  "language_info": {
   "codemirror_mode": {
    "name": "ipython",
    "version": 3
   },
   "file_extension": ".py",
   "mimetype": "text/x-python",
   "name": "python",
   "nbconvert_exporter": "python",
   "pygments_lexer": "ipython3",
   "version": "3.12.3"
  }
 },
 "nbformat": 4,
 "nbformat_minor": 5
}
